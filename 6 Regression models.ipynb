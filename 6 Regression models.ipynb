{
 "cells": [
  {
   "cell_type": "code",
   "execution_count": 1,
   "metadata": {},
   "outputs": [],
   "source": [
    "import pandas as pd\n",
    "import numpy as np\n",
    "import matplotlib.pyplot as plt\n",
    "\n",
    "%matplotlib inline"
   ]
  },
  {
   "cell_type": "code",
   "execution_count": 2,
   "metadata": {},
   "outputs": [],
   "source": [
    "# Import dataset from file directory\n",
    "WV2015F = pd.read_excel(\"WV2015F.xlsx\")"
   ]
  },
  {
   "cell_type": "code",
   "execution_count": 3,
   "metadata": {},
   "outputs": [
    {
     "data": {
      "text/plain": [
       "(5132, 185)"
      ]
     },
     "execution_count": 3,
     "metadata": {},
     "output_type": "execute_result"
    }
   ],
   "source": [
    "WV2015F.shape"
   ]
  },
  {
   "cell_type": "code",
   "execution_count": 4,
   "metadata": {},
   "outputs": [
    {
     "data": {
      "text/html": [
       "<div>\n",
       "<style scoped>\n",
       "    .dataframe tbody tr th:only-of-type {\n",
       "        vertical-align: middle;\n",
       "    }\n",
       "\n",
       "    .dataframe tbody tr th {\n",
       "        vertical-align: top;\n",
       "    }\n",
       "\n",
       "    .dataframe thead th {\n",
       "        text-align: right;\n",
       "    }\n",
       "</style>\n",
       "<table border=\"1\" class=\"dataframe\">\n",
       "  <thead>\n",
       "    <tr style=\"text-align: right;\">\n",
       "      <th></th>\n",
       "      <th>Num</th>\n",
       "      <th>Country</th>\n",
       "      <th>Imp-Family</th>\n",
       "      <th>Imp-Friends</th>\n",
       "      <th>Imp-Leisure</th>\n",
       "      <th>Imp-Politics</th>\n",
       "      <th>Imp-Work</th>\n",
       "      <th>Imp-Religion</th>\n",
       "      <th>Happy</th>\n",
       "      <th>Healthy</th>\n",
       "      <th>...</th>\n",
       "      <th>Vote-national</th>\n",
       "      <th>Employed</th>\n",
       "      <th>Savings</th>\n",
       "      <th>SocialClass</th>\n",
       "      <th>Income</th>\n",
       "      <th>Sex</th>\n",
       "      <th>BirthYear</th>\n",
       "      <th>Age</th>\n",
       "      <th>Educ</th>\n",
       "      <th>LiveWithParents</th>\n",
       "    </tr>\n",
       "  </thead>\n",
       "  <tbody>\n",
       "    <tr>\n",
       "      <th>0</th>\n",
       "      <td>5019</td>\n",
       "      <td>356</td>\n",
       "      <td>1.0</td>\n",
       "      <td>2.0</td>\n",
       "      <td>3.0</td>\n",
       "      <td>1.0</td>\n",
       "      <td>3.0</td>\n",
       "      <td>1.0</td>\n",
       "      <td>1.0</td>\n",
       "      <td>1.0</td>\n",
       "      <td>...</td>\n",
       "      <td>2.0</td>\n",
       "      <td>2.0</td>\n",
       "      <td>1.0</td>\n",
       "      <td>2.0</td>\n",
       "      <td>4.0</td>\n",
       "      <td>2</td>\n",
       "      <td>1982</td>\n",
       "      <td>32</td>\n",
       "      <td>6.0</td>\n",
       "      <td>2.0</td>\n",
       "    </tr>\n",
       "    <tr>\n",
       "      <th>1</th>\n",
       "      <td>5142</td>\n",
       "      <td>356</td>\n",
       "      <td>1.0</td>\n",
       "      <td>2.0</td>\n",
       "      <td>2.0</td>\n",
       "      <td>2.0</td>\n",
       "      <td>2.0</td>\n",
       "      <td>2.0</td>\n",
       "      <td>2.0</td>\n",
       "      <td>3.0</td>\n",
       "      <td>...</td>\n",
       "      <td>1.0</td>\n",
       "      <td>5.0</td>\n",
       "      <td>3.0</td>\n",
       "      <td>4.0</td>\n",
       "      <td>7.0</td>\n",
       "      <td>2</td>\n",
       "      <td>1965</td>\n",
       "      <td>49</td>\n",
       "      <td>4.0</td>\n",
       "      <td>1.0</td>\n",
       "    </tr>\n",
       "    <tr>\n",
       "      <th>2</th>\n",
       "      <td>3930</td>\n",
       "      <td>356</td>\n",
       "      <td>2.0</td>\n",
       "      <td>1.0</td>\n",
       "      <td>2.0</td>\n",
       "      <td>1.0</td>\n",
       "      <td>2.0</td>\n",
       "      <td>2.0</td>\n",
       "      <td>2.0</td>\n",
       "      <td>2.0</td>\n",
       "      <td>...</td>\n",
       "      <td>2.0</td>\n",
       "      <td>8.0</td>\n",
       "      <td>1.0</td>\n",
       "      <td>3.0</td>\n",
       "      <td>2.0</td>\n",
       "      <td>1</td>\n",
       "      <td>1954</td>\n",
       "      <td>60</td>\n",
       "      <td>6.0</td>\n",
       "      <td>1.0</td>\n",
       "    </tr>\n",
       "    <tr>\n",
       "      <th>3</th>\n",
       "      <td>3943</td>\n",
       "      <td>356</td>\n",
       "      <td>1.0</td>\n",
       "      <td>2.0</td>\n",
       "      <td>1.0</td>\n",
       "      <td>3.0</td>\n",
       "      <td>1.0</td>\n",
       "      <td>2.0</td>\n",
       "      <td>2.0</td>\n",
       "      <td>3.0</td>\n",
       "      <td>...</td>\n",
       "      <td>1.0</td>\n",
       "      <td>7.0</td>\n",
       "      <td>2.0</td>\n",
       "      <td>2.0</td>\n",
       "      <td>10.0</td>\n",
       "      <td>1</td>\n",
       "      <td>1988</td>\n",
       "      <td>26</td>\n",
       "      <td>4.0</td>\n",
       "      <td>1.0</td>\n",
       "    </tr>\n",
       "    <tr>\n",
       "      <th>4</th>\n",
       "      <td>3950</td>\n",
       "      <td>356</td>\n",
       "      <td>1.0</td>\n",
       "      <td>2.0</td>\n",
       "      <td>1.0</td>\n",
       "      <td>3.0</td>\n",
       "      <td>1.0</td>\n",
       "      <td>2.0</td>\n",
       "      <td>2.0</td>\n",
       "      <td>3.0</td>\n",
       "      <td>...</td>\n",
       "      <td>1.0</td>\n",
       "      <td>7.0</td>\n",
       "      <td>2.0</td>\n",
       "      <td>2.0</td>\n",
       "      <td>10.0</td>\n",
       "      <td>1</td>\n",
       "      <td>1985</td>\n",
       "      <td>29</td>\n",
       "      <td>4.0</td>\n",
       "      <td>2.0</td>\n",
       "    </tr>\n",
       "  </tbody>\n",
       "</table>\n",
       "<p>5 rows × 185 columns</p>\n",
       "</div>"
      ],
      "text/plain": [
       "    Num  Country  Imp-Family  Imp-Friends  Imp-Leisure  Imp-Politics  \\\n",
       "0  5019      356         1.0          2.0          3.0           1.0   \n",
       "1  5142      356         1.0          2.0          2.0           2.0   \n",
       "2  3930      356         2.0          1.0          2.0           1.0   \n",
       "3  3943      356         1.0          2.0          1.0           3.0   \n",
       "4  3950      356         1.0          2.0          1.0           3.0   \n",
       "\n",
       "   Imp-Work  Imp-Religion  Happy  Healthy  ...  Vote-national  Employed  \\\n",
       "0       3.0           1.0    1.0      1.0  ...            2.0       2.0   \n",
       "1       2.0           2.0    2.0      3.0  ...            1.0       5.0   \n",
       "2       2.0           2.0    2.0      2.0  ...            2.0       8.0   \n",
       "3       1.0           2.0    2.0      3.0  ...            1.0       7.0   \n",
       "4       1.0           2.0    2.0      3.0  ...            1.0       7.0   \n",
       "\n",
       "   Savings  SocialClass  Income  Sex  BirthYear  Age  Educ  LiveWithParents  \n",
       "0      1.0          2.0     4.0    2       1982   32   6.0              2.0  \n",
       "1      3.0          4.0     7.0    2       1965   49   4.0              1.0  \n",
       "2      1.0          3.0     2.0    1       1954   60   6.0              1.0  \n",
       "3      2.0          2.0    10.0    1       1988   26   4.0              1.0  \n",
       "4      2.0          2.0    10.0    1       1985   29   4.0              2.0  \n",
       "\n",
       "[5 rows x 185 columns]"
      ]
     },
     "execution_count": 4,
     "metadata": {},
     "output_type": "execute_result"
    }
   ],
   "source": [
    "WV2015F.head()"
   ]
  },
  {
   "cell_type": "code",
   "execution_count": null,
   "metadata": {},
   "outputs": [],
   "source": []
  },
  {
   "cell_type": "code",
   "execution_count": 5,
   "metadata": {},
   "outputs": [
    {
     "data": {
      "text/html": [
       "<div>\n",
       "<style scoped>\n",
       "    .dataframe tbody tr th:only-of-type {\n",
       "        vertical-align: middle;\n",
       "    }\n",
       "\n",
       "    .dataframe tbody tr th {\n",
       "        vertical-align: top;\n",
       "    }\n",
       "\n",
       "    .dataframe thead th {\n",
       "        text-align: right;\n",
       "    }\n",
       "</style>\n",
       "<table border=\"1\" class=\"dataframe\">\n",
       "  <thead>\n",
       "    <tr style=\"text-align: right;\">\n",
       "      <th></th>\n",
       "      <th>Num</th>\n",
       "      <th>Country</th>\n",
       "      <th>Imp-Family</th>\n",
       "      <th>Imp-Friends</th>\n",
       "      <th>Imp-Leisure</th>\n",
       "      <th>Imp-Politics</th>\n",
       "      <th>Imp-Work</th>\n",
       "      <th>Imp-Religion</th>\n",
       "      <th>Happy</th>\n",
       "      <th>Healthy</th>\n",
       "      <th>...</th>\n",
       "      <th>Vote-national</th>\n",
       "      <th>Employed</th>\n",
       "      <th>Savings</th>\n",
       "      <th>SocialClass</th>\n",
       "      <th>Income</th>\n",
       "      <th>Sex</th>\n",
       "      <th>BirthYear</th>\n",
       "      <th>Age</th>\n",
       "      <th>Educ</th>\n",
       "      <th>LiveWithParents</th>\n",
       "    </tr>\n",
       "  </thead>\n",
       "  <tbody>\n",
       "    <tr>\n",
       "      <th>160</th>\n",
       "      <td>5129</td>\n",
       "      <td>356</td>\n",
       "      <td>1.0</td>\n",
       "      <td>2.0</td>\n",
       "      <td>3.0</td>\n",
       "      <td>2.0</td>\n",
       "      <td>2.0</td>\n",
       "      <td>2.0</td>\n",
       "      <td>3.0</td>\n",
       "      <td>3.0</td>\n",
       "      <td>...</td>\n",
       "      <td>1.0</td>\n",
       "      <td>1.0</td>\n",
       "      <td>1.0</td>\n",
       "      <td>4.0</td>\n",
       "      <td>6.0</td>\n",
       "      <td>1</td>\n",
       "      <td>1950</td>\n",
       "      <td>64</td>\n",
       "      <td>3.0</td>\n",
       "      <td>2.0</td>\n",
       "    </tr>\n",
       "    <tr>\n",
       "      <th>161</th>\n",
       "      <td>5132</td>\n",
       "      <td>356</td>\n",
       "      <td>NaN</td>\n",
       "      <td>2.0</td>\n",
       "      <td>3.0</td>\n",
       "      <td>3.0</td>\n",
       "      <td>2.0</td>\n",
       "      <td>2.0</td>\n",
       "      <td>2.0</td>\n",
       "      <td>3.0</td>\n",
       "      <td>...</td>\n",
       "      <td>1.0</td>\n",
       "      <td>4.0</td>\n",
       "      <td>1.0</td>\n",
       "      <td>3.0</td>\n",
       "      <td>1.0</td>\n",
       "      <td>1</td>\n",
       "      <td>1982</td>\n",
       "      <td>32</td>\n",
       "      <td>1.0</td>\n",
       "      <td>2.0</td>\n",
       "    </tr>\n",
       "    <tr>\n",
       "      <th>162</th>\n",
       "      <td>5133</td>\n",
       "      <td>356</td>\n",
       "      <td>1.0</td>\n",
       "      <td>2.0</td>\n",
       "      <td>3.0</td>\n",
       "      <td>3.0</td>\n",
       "      <td>2.0</td>\n",
       "      <td>2.0</td>\n",
       "      <td>3.0</td>\n",
       "      <td>3.0</td>\n",
       "      <td>...</td>\n",
       "      <td>1.0</td>\n",
       "      <td>1.0</td>\n",
       "      <td>1.0</td>\n",
       "      <td>4.0</td>\n",
       "      <td>6.0</td>\n",
       "      <td>1</td>\n",
       "      <td>1989</td>\n",
       "      <td>25</td>\n",
       "      <td>3.0</td>\n",
       "      <td>2.0</td>\n",
       "    </tr>\n",
       "  </tbody>\n",
       "</table>\n",
       "<p>3 rows × 185 columns</p>\n",
       "</div>"
      ],
      "text/plain": [
       "      Num  Country  Imp-Family  Imp-Friends  Imp-Leisure  Imp-Politics  \\\n",
       "160  5129      356         1.0          2.0          3.0           2.0   \n",
       "161  5132      356         NaN          2.0          3.0           3.0   \n",
       "162  5133      356         1.0          2.0          3.0           3.0   \n",
       "\n",
       "     Imp-Work  Imp-Religion  Happy  Healthy  ...  Vote-national  Employed  \\\n",
       "160       2.0           2.0    3.0      3.0  ...            1.0       1.0   \n",
       "161       2.0           2.0    2.0      3.0  ...            1.0       4.0   \n",
       "162       2.0           2.0    3.0      3.0  ...            1.0       1.0   \n",
       "\n",
       "     Savings  SocialClass  Income  Sex  BirthYear  Age  Educ  LiveWithParents  \n",
       "160      1.0          4.0     6.0    1       1950   64   3.0              2.0  \n",
       "161      1.0          3.0     1.0    1       1982   32   1.0              2.0  \n",
       "162      1.0          4.0     6.0    1       1989   25   3.0              2.0  \n",
       "\n",
       "[3 rows x 185 columns]"
      ]
     },
     "execution_count": 5,
     "metadata": {},
     "output_type": "execute_result"
    }
   ],
   "source": [
    "# Create another object holding the data and print the names of the file's variables (columns)\n",
    "dataf1 = WV2015F[:]\n",
    "dataf1.iloc[160:163,:]"
   ]
  },
  {
   "cell_type": "code",
   "execution_count": 6,
   "metadata": {},
   "outputs": [
    {
     "data": {
      "text/plain": [
       "(5132, 185)"
      ]
     },
     "execution_count": 6,
     "metadata": {},
     "output_type": "execute_result"
    }
   ],
   "source": [
    "dataf1.shape"
   ]
  },
  {
   "cell_type": "code",
   "execution_count": 7,
   "metadata": {},
   "outputs": [
    {
     "data": {
      "text/plain": [
       "Index(['Num', 'Country', 'Imp-Family', 'Imp-Friends', 'Imp-Leisure',\n",
       "       'Imp-Politics', 'Imp-Work', 'Imp-Religion', 'Happy', 'Healthy',\n",
       "       ...\n",
       "       'Vote-national', 'Employed', 'Savings', 'SocialClass', 'Income', 'Sex',\n",
       "       'BirthYear', 'Age', 'Educ', 'LiveWithParents'],\n",
       "      dtype='object', length=185)"
      ]
     },
     "execution_count": 7,
     "metadata": {},
     "output_type": "execute_result"
    }
   ],
   "source": [
    "dataf1.columns"
   ]
  },
  {
   "cell_type": "code",
   "execution_count": 11,
   "metadata": {},
   "outputs": [
    {
     "data": {
      "text/plain": [
       "6818"
      ]
     },
     "execution_count": 11,
     "metadata": {},
     "output_type": "execute_result"
    }
   ],
   "source": [
    "# Check for null values\n",
    "dataf1.isnull().sum().sum()\n",
    "# np.isnan(dataf1).sum().sum()"
   ]
  },
  {
   "cell_type": "code",
   "execution_count": 12,
   "metadata": {},
   "outputs": [
    {
     "data": {
      "text/html": [
       "<div>\n",
       "<style scoped>\n",
       "    .dataframe tbody tr th:only-of-type {\n",
       "        vertical-align: middle;\n",
       "    }\n",
       "\n",
       "    .dataframe tbody tr th {\n",
       "        vertical-align: top;\n",
       "    }\n",
       "\n",
       "    .dataframe thead th {\n",
       "        text-align: right;\n",
       "    }\n",
       "</style>\n",
       "<table border=\"1\" class=\"dataframe\">\n",
       "  <thead>\n",
       "    <tr style=\"text-align: right;\">\n",
       "      <th></th>\n",
       "      <th>Num</th>\n",
       "      <th>Country</th>\n",
       "      <th>Imp-Family</th>\n",
       "      <th>Imp-Friends</th>\n",
       "      <th>Imp-Leisure</th>\n",
       "      <th>Imp-Politics</th>\n",
       "      <th>Imp-Work</th>\n",
       "      <th>Imp-Religion</th>\n",
       "      <th>Happy</th>\n",
       "      <th>Healthy</th>\n",
       "      <th>...</th>\n",
       "      <th>Vote-national</th>\n",
       "      <th>Employed</th>\n",
       "      <th>Savings</th>\n",
       "      <th>SocialClass</th>\n",
       "      <th>Income</th>\n",
       "      <th>Sex</th>\n",
       "      <th>BirthYear</th>\n",
       "      <th>Age</th>\n",
       "      <th>Educ</th>\n",
       "      <th>LiveWithParents</th>\n",
       "    </tr>\n",
       "  </thead>\n",
       "  <tbody>\n",
       "    <tr>\n",
       "      <th>672</th>\n",
       "      <td>4892</td>\n",
       "      <td>356</td>\n",
       "      <td>4.0</td>\n",
       "      <td>2.0</td>\n",
       "      <td>4.0</td>\n",
       "      <td>4.0</td>\n",
       "      <td>1.0</td>\n",
       "      <td>4.0</td>\n",
       "      <td>4.0</td>\n",
       "      <td>4.0</td>\n",
       "      <td>...</td>\n",
       "      <td>2.0</td>\n",
       "      <td>7.0</td>\n",
       "      <td>4.0</td>\n",
       "      <td>1.0</td>\n",
       "      <td>9.0</td>\n",
       "      <td>2</td>\n",
       "      <td>1973</td>\n",
       "      <td>41</td>\n",
       "      <td>5.0</td>\n",
       "      <td>2.0</td>\n",
       "    </tr>\n",
       "    <tr>\n",
       "      <th>691</th>\n",
       "      <td>5244</td>\n",
       "      <td>356</td>\n",
       "      <td>1.0</td>\n",
       "      <td>2.0</td>\n",
       "      <td>2.0</td>\n",
       "      <td>2.0</td>\n",
       "      <td>1.0</td>\n",
       "      <td>2.0</td>\n",
       "      <td>1.0</td>\n",
       "      <td>1.0</td>\n",
       "      <td>...</td>\n",
       "      <td>2.0</td>\n",
       "      <td>7.0</td>\n",
       "      <td>3.0</td>\n",
       "      <td>2.0</td>\n",
       "      <td>2.0</td>\n",
       "      <td>2</td>\n",
       "      <td>1995</td>\n",
       "      <td>19</td>\n",
       "      <td>7.0</td>\n",
       "      <td>1.0</td>\n",
       "    </tr>\n",
       "    <tr>\n",
       "      <th>692</th>\n",
       "      <td>5246</td>\n",
       "      <td>356</td>\n",
       "      <td>1.0</td>\n",
       "      <td>2.0</td>\n",
       "      <td>2.0</td>\n",
       "      <td>1.0</td>\n",
       "      <td>1.0</td>\n",
       "      <td>2.0</td>\n",
       "      <td>1.0</td>\n",
       "      <td>1.0</td>\n",
       "      <td>...</td>\n",
       "      <td>2.0</td>\n",
       "      <td>7.0</td>\n",
       "      <td>3.0</td>\n",
       "      <td>2.0</td>\n",
       "      <td>2.0</td>\n",
       "      <td>1</td>\n",
       "      <td>1991</td>\n",
       "      <td>23</td>\n",
       "      <td>7.0</td>\n",
       "      <td>1.0</td>\n",
       "    </tr>\n",
       "  </tbody>\n",
       "</table>\n",
       "<p>3 rows × 185 columns</p>\n",
       "</div>"
      ],
      "text/plain": [
       "      Num  Country  Imp-Family  Imp-Friends  Imp-Leisure  Imp-Politics  \\\n",
       "672  4892      356         4.0          2.0          4.0           4.0   \n",
       "691  5244      356         1.0          2.0          2.0           2.0   \n",
       "692  5246      356         1.0          2.0          2.0           1.0   \n",
       "\n",
       "     Imp-Work  Imp-Religion  Happy  Healthy  ...  Vote-national  Employed  \\\n",
       "672       1.0           4.0    4.0      4.0  ...            2.0       7.0   \n",
       "691       1.0           2.0    1.0      1.0  ...            2.0       7.0   \n",
       "692       1.0           2.0    1.0      1.0  ...            2.0       7.0   \n",
       "\n",
       "     Savings  SocialClass  Income  Sex  BirthYear  Age  Educ  LiveWithParents  \n",
       "672      4.0          1.0     9.0    2       1973   41   5.0              2.0  \n",
       "691      3.0          2.0     2.0    2       1995   19   7.0              1.0  \n",
       "692      3.0          2.0     2.0    1       1991   23   7.0              1.0  \n",
       "\n",
       "[3 rows x 185 columns]"
      ]
     },
     "execution_count": 12,
     "metadata": {},
     "output_type": "execute_result"
    }
   ],
   "source": [
    "# Handling missing data\n",
    "# we can keep only complete records...\n",
    "dataf2 = dataf1.dropna(how='any')  #drops any row with a NaN; with axis=1, drops columns; how \"any\" or \"all\"\n",
    "dataf2.iloc[356:359,:]"
   ]
  },
  {
   "cell_type": "code",
   "execution_count": 13,
   "metadata": {},
   "outputs": [
    {
     "data": {
      "text/plain": [
       "(2497, 185)"
      ]
     },
     "execution_count": 13,
     "metadata": {},
     "output_type": "execute_result"
    }
   ],
   "source": [
    "dataf2.shape"
   ]
  },
  {
   "cell_type": "code",
   "execution_count": 14,
   "metadata": {},
   "outputs": [
    {
     "data": {
      "text/plain": [
       "Num            4798.5\n",
       "Country         356.0\n",
       "Imp-Family        1.0\n",
       "Imp-Friends       2.0\n",
       "Imp-Leisure       2.0\n",
       "dtype: float64"
      ]
     },
     "execution_count": 14,
     "metadata": {},
     "output_type": "execute_result"
    }
   ],
   "source": [
    "dataf1.median().head()"
   ]
  },
  {
   "cell_type": "code",
   "execution_count": 15,
   "metadata": {},
   "outputs": [
    {
     "data": {
      "text/html": [
       "<div>\n",
       "<style scoped>\n",
       "    .dataframe tbody tr th:only-of-type {\n",
       "        vertical-align: middle;\n",
       "    }\n",
       "\n",
       "    .dataframe tbody tr th {\n",
       "        vertical-align: top;\n",
       "    }\n",
       "\n",
       "    .dataframe thead th {\n",
       "        text-align: right;\n",
       "    }\n",
       "</style>\n",
       "<table border=\"1\" class=\"dataframe\">\n",
       "  <thead>\n",
       "    <tr style=\"text-align: right;\">\n",
       "      <th></th>\n",
       "      <th>Num</th>\n",
       "      <th>Country</th>\n",
       "      <th>Imp-Family</th>\n",
       "      <th>Imp-Friends</th>\n",
       "      <th>Imp-Leisure</th>\n",
       "      <th>Imp-Politics</th>\n",
       "      <th>Imp-Work</th>\n",
       "      <th>Imp-Religion</th>\n",
       "      <th>Happy</th>\n",
       "      <th>Healthy</th>\n",
       "      <th>...</th>\n",
       "      <th>Vote-national</th>\n",
       "      <th>Employed</th>\n",
       "      <th>Savings</th>\n",
       "      <th>SocialClass</th>\n",
       "      <th>Income</th>\n",
       "      <th>Sex</th>\n",
       "      <th>BirthYear</th>\n",
       "      <th>Age</th>\n",
       "      <th>Educ</th>\n",
       "      <th>LiveWithParents</th>\n",
       "    </tr>\n",
       "  </thead>\n",
       "  <tbody>\n",
       "    <tr>\n",
       "      <th>160</th>\n",
       "      <td>5129</td>\n",
       "      <td>356</td>\n",
       "      <td>1.0</td>\n",
       "      <td>2.0</td>\n",
       "      <td>3.0</td>\n",
       "      <td>2.0</td>\n",
       "      <td>2.0</td>\n",
       "      <td>2.0</td>\n",
       "      <td>3.0</td>\n",
       "      <td>3.0</td>\n",
       "      <td>...</td>\n",
       "      <td>1.0</td>\n",
       "      <td>1.0</td>\n",
       "      <td>1.0</td>\n",
       "      <td>4.0</td>\n",
       "      <td>6.0</td>\n",
       "      <td>1</td>\n",
       "      <td>1950</td>\n",
       "      <td>64</td>\n",
       "      <td>3.0</td>\n",
       "      <td>2.0</td>\n",
       "    </tr>\n",
       "    <tr>\n",
       "      <th>161</th>\n",
       "      <td>5132</td>\n",
       "      <td>356</td>\n",
       "      <td>1.0</td>\n",
       "      <td>2.0</td>\n",
       "      <td>3.0</td>\n",
       "      <td>3.0</td>\n",
       "      <td>2.0</td>\n",
       "      <td>2.0</td>\n",
       "      <td>2.0</td>\n",
       "      <td>3.0</td>\n",
       "      <td>...</td>\n",
       "      <td>1.0</td>\n",
       "      <td>4.0</td>\n",
       "      <td>1.0</td>\n",
       "      <td>3.0</td>\n",
       "      <td>1.0</td>\n",
       "      <td>1</td>\n",
       "      <td>1982</td>\n",
       "      <td>32</td>\n",
       "      <td>1.0</td>\n",
       "      <td>2.0</td>\n",
       "    </tr>\n",
       "    <tr>\n",
       "      <th>162</th>\n",
       "      <td>5133</td>\n",
       "      <td>356</td>\n",
       "      <td>1.0</td>\n",
       "      <td>2.0</td>\n",
       "      <td>3.0</td>\n",
       "      <td>3.0</td>\n",
       "      <td>2.0</td>\n",
       "      <td>2.0</td>\n",
       "      <td>3.0</td>\n",
       "      <td>3.0</td>\n",
       "      <td>...</td>\n",
       "      <td>1.0</td>\n",
       "      <td>1.0</td>\n",
       "      <td>1.0</td>\n",
       "      <td>4.0</td>\n",
       "      <td>6.0</td>\n",
       "      <td>1</td>\n",
       "      <td>1989</td>\n",
       "      <td>25</td>\n",
       "      <td>3.0</td>\n",
       "      <td>2.0</td>\n",
       "    </tr>\n",
       "  </tbody>\n",
       "</table>\n",
       "<p>3 rows × 185 columns</p>\n",
       "</div>"
      ],
      "text/plain": [
       "      Num  Country  Imp-Family  Imp-Friends  Imp-Leisure  Imp-Politics  \\\n",
       "160  5129      356         1.0          2.0          3.0           2.0   \n",
       "161  5132      356         1.0          2.0          3.0           3.0   \n",
       "162  5133      356         1.0          2.0          3.0           3.0   \n",
       "\n",
       "     Imp-Work  Imp-Religion  Happy  Healthy  ...  Vote-national  Employed  \\\n",
       "160       2.0           2.0    3.0      3.0  ...            1.0       1.0   \n",
       "161       2.0           2.0    2.0      3.0  ...            1.0       4.0   \n",
       "162       2.0           2.0    3.0      3.0  ...            1.0       1.0   \n",
       "\n",
       "     Savings  SocialClass  Income  Sex  BirthYear  Age  Educ  LiveWithParents  \n",
       "160      1.0          4.0     6.0    1       1950   64   3.0              2.0  \n",
       "161      1.0          3.0     1.0    1       1982   32   1.0              2.0  \n",
       "162      1.0          4.0     6.0    1       1989   25   3.0              2.0  \n",
       "\n",
       "[3 rows x 185 columns]"
      ]
     },
     "execution_count": 15,
     "metadata": {},
     "output_type": "execute_result"
    }
   ],
   "source": [
    "# or we can replace missing values (mean, median, )\n",
    "# dataf3 = dataf1.fillna(dataf1.median())\n",
    "dataf3 = dataf1.copy(deep = True)\n",
    "dataf3.fillna(dataf3.median(), inplace=True)\n",
    "\n",
    "dataf3.iloc[160:163,:]\n"
   ]
  },
  {
   "cell_type": "code",
   "execution_count": 16,
   "metadata": {},
   "outputs": [
    {
     "data": {
      "text/plain": [
       "(5132, 185)"
      ]
     },
     "execution_count": 16,
     "metadata": {},
     "output_type": "execute_result"
    }
   ],
   "source": [
    "dataf3.shape"
   ]
  },
  {
   "cell_type": "code",
   "execution_count": null,
   "metadata": {},
   "outputs": [],
   "source": []
  },
  {
   "cell_type": "code",
   "execution_count": 18,
   "metadata": {},
   "outputs": [],
   "source": [
    "#Create dataset including the variables for the analysis\n",
    "\n",
    "dataf4 = dataf3.iloc[:, np.r_[2:20,22:32,45,60:68,136:168,178,180,182]]\n",
    "y=dataf1.iloc[:,21]\n",
    "#y=dataf3.iloc[:,21]\n"
   ]
  },
  {
   "cell_type": "code",
   "execution_count": 19,
   "metadata": {},
   "outputs": [
    {
     "name": "stdout",
     "output_type": "stream",
     "text": [
      "5132\n",
      "Life Sat\n",
      "(5132, 72)\n",
      "Index(['Imp-Family', 'Imp-Friends', 'Imp-Leisure', 'Imp-Politics', 'Imp-Work',\n",
      "       'Imp-Religion', 'Happy', 'Healthy', 'Child-Independent',\n",
      "       'Child-HardWork', 'Child-Responsible', 'Child-Imagination',\n",
      "       'Child-Respect', 'Child-Thrift', 'Child-Persevere', 'Child-Religious',\n",
      "       'Child-Unselfish', 'Child-Obey', 'Trust Others24', 'Active-Church',\n",
      "       'Active-Sports', 'Active-Arts', 'Active-Union', 'Active-Politics',\n",
      "       'Active-Environment', 'Active-Profession', 'Active-Charity',\n",
      "       'Active-Consumer Org', 'LOC', 'SchCreate', 'SchRich', 'SchSecure',\n",
      "       'SchFun', 'SchSuccess', 'SchExciting', 'SchBehave', 'SchEnviron',\n",
      "       'Locale-Secure', 'Locale-Robberies', 'Locale-Alcohol', 'Locale-NoCash',\n",
      "       'Locale-NoNightOut', 'Locale-Gun', 'Locale-CrimeVictimSelf',\n",
      "       'Locale-CrimeVictimFamily', 'Worry-LoseJob', 'Worry-ChildEduc',\n",
      "       'Worry-War', 'War4Justice', 'Worry-NoFood', 'Worry-Crime',\n",
      "       'Worry-MedicalCare', 'Worry-Money', 'Tech-Good1', 'Tech-GoodFuture',\n",
      "       'Tech-Religion', 'Tech-Morals', 'Tech-Mastery', 'Tech-Good2',\n",
      "       'Just-Subsidy', 'Just-TransFare', 'Just-Steal', 'Just-TaxCheat',\n",
      "       'Just-Bribe', 'Just-Divorce', 'Just-Suicide', 'Just-HitWife',\n",
      "       'Just-HitChild', 'Just-Violence', 'SocialClass', 'Sex', 'Age'],\n",
      "      dtype='object')\n"
     ]
    }
   ],
   "source": [
    "print(len(y))\n",
    "print(y.name)\n",
    "print(dataf4.shape)\n",
    "print(dataf4.columns)\n"
   ]
  },
  {
   "cell_type": "raw",
   "metadata": {},
   "source": []
  },
  {
   "cell_type": "code",
   "execution_count": 26,
   "metadata": {
    "scrolled": true
   },
   "outputs": [
    {
     "data": {
      "text/plain": [
       "8.0     1209\n",
       "7.0      836\n",
       "9.0      604\n",
       "6.0      492\n",
       "5.0      448\n",
       "10.0     349\n",
       "2.0      322\n",
       "1.0      322\n",
       "3.0      277\n",
       "4.0      273\n",
       "Name: Life Sat, dtype: int64"
      ]
     },
     "execution_count": 26,
     "metadata": {},
     "output_type": "execute_result"
    }
   ],
   "source": [
    "# y is a Series into a numeric value and replace NA by median\n",
    "y.describe()\n",
    "\n",
    "y.value_counts() \n",
    "\n",
    "y1 = y.fillna(y.median())\n",
    "y1.isnull().sum()\n",
    "\n",
    "y1.describe()\n",
    "\n",
    "y1.value_counts()\n"
   ]
  },
  {
   "cell_type": "code",
   "execution_count": null,
   "metadata": {},
   "outputs": [],
   "source": []
  },
  {
   "cell_type": "code",
   "execution_count": null,
   "metadata": {},
   "outputs": [],
   "source": []
  },
  {
   "cell_type": "code",
   "execution_count": 27,
   "metadata": {},
   "outputs": [],
   "source": [
    "#Another way to split data\n",
    "from sklearn.model_selection import train_test_split"
   ]
  },
  {
   "cell_type": "code",
   "execution_count": 28,
   "metadata": {},
   "outputs": [],
   "source": [
    "X_train, X_test, y_train, y_test = train_test_split(dataf4, y1, test_size=0.33, random_state=42)"
   ]
  },
  {
   "cell_type": "code",
   "execution_count": null,
   "metadata": {},
   "outputs": [],
   "source": []
  },
  {
   "cell_type": "code",
   "execution_count": 29,
   "metadata": {},
   "outputs": [],
   "source": [
    "def scatter_plot(feature, target):\n",
    "    plt.figure(figsize=(16, 8))\n",
    "    plt.scatter(\n",
    "        dataf1[feature],\n",
    "        dataf1[target],\n",
    "        c='black'\n",
    "    )\n",
    "    plt.xlabel(\"IV: {} \".format(feature))\n",
    "    plt.ylabel(\"DV: Satisfaction\")\n",
    "    plt.show()"
   ]
  },
  {
   "cell_type": "code",
   "execution_count": 31,
   "metadata": {},
   "outputs": [
    {
     "data": {
      "image/png": "[encoded data removed]",
      "text/plain": [
       "<Figure size 1152x576 with 1 Axes>"
      ]
     },
     "metadata": {
      "needs_background": "light"
     },
     "output_type": "display_data"
    }
   ],
   "source": [
    "scatter_plot('Imp-Religion','Life Sat')"
   ]
  },
  {
   "cell_type": "code",
   "execution_count": null,
   "metadata": {},
   "outputs": [],
   "source": []
  },
  {
   "cell_type": "code",
   "execution_count": 33,
   "metadata": {},
   "outputs": [],
   "source": [
    "from sklearn import linear_model\n",
    "from sklearn.linear_model import Ridge, Lasso, ElasticNet\n",
    "from sklearn.model_selection import cross_val_score\n"
   ]
  },
  {
   "cell_type": "code",
   "execution_count": 40,
   "metadata": {},
   "outputs": [
    {
     "data": {
      "text/plain": [
       "Ridge(alpha=100, copy_X=True, fit_intercept=True, max_iter=None,\n",
       "      normalize=False, random_state=None, solver='auto', tol=0.001)"
      ]
     },
     "execution_count": 40,
     "metadata": {},
     "output_type": "execute_result"
    }
   ],
   "source": [
    "# Ridge\n",
    "# Optimizes  RSS (Residual Sum of Squares) + α * (sum of square of coefficients)\n",
    "# Where α (alpha) defines the balance between both.\n",
    "\n",
    "\n",
    "r_reg = linear_model.Ridge(alpha=100)\n",
    "r_reg.fit(X_train, y_train)"
   ]
  },
  {
   "cell_type": "code",
   "execution_count": 36,
   "metadata": {},
   "outputs": [
    {
     "data": {
      "text/plain": [
       "array([ 0.03006505,  0.04563641, -0.06826676,  0.11800255, -0.031127  ,\n",
       "        0.04598377, -0.54669401, -0.19720593, -0.01527095, -0.1120521 ,\n",
       "       -0.06306759,  0.07170682,  0.09472984, -0.06532299,  0.0829484 ,\n",
       "        0.24056522, -0.02677758, -0.11971658, -0.30806925,  0.12928112,\n",
       "       -0.05531862,  0.08751663,  0.00871157,  0.05084495, -0.02980662,\n",
       "       -0.08026641,  0.06071283, -0.15260608,  0.35409001, -0.04909781,\n",
       "        0.08626599, -0.00334526, -0.00665588,  0.00748683,  0.02798611,\n",
       "       -0.01313796, -0.00507975, -0.21406054,  0.01710113, -0.02018839,\n",
       "       -0.03374867, -0.05087924,  0.01966579,  0.08331957,  0.00446241,\n",
       "       -0.00653948,  0.13754163,  0.06387891,  0.17156494,  0.16583922,\n",
       "        0.14900266, -0.04506482,  0.14121129,  0.08792871, -0.02199236,\n",
       "        0.04465505,  0.03348852, -0.00620234,  0.02971747,  0.0193245 ,\n",
       "       -0.02038783, -0.01859046,  0.10793701, -0.08545161,  0.06477583,\n",
       "       -0.11672795, -0.02053942,  0.02516293,  0.04967764, -0.09994218,\n",
       "        0.03748355,  0.00055872])"
      ]
     },
     "execution_count": 36,
     "metadata": {},
     "output_type": "execute_result"
    }
   ],
   "source": [
    "r_reg.coef_"
   ]
  },
  {
   "cell_type": "code",
   "execution_count": 37,
   "metadata": {},
   "outputs": [
    {
     "data": {
      "text/plain": [
       "2.3798640767046466"
      ]
     },
     "execution_count": 37,
     "metadata": {},
     "output_type": "execute_result"
    }
   ],
   "source": [
    "r_reg.intercept_"
   ]
  },
  {
   "cell_type": "code",
   "execution_count": 38,
   "metadata": {},
   "outputs": [
    {
     "data": {
      "text/plain": [
       "RidgeCV(alphas=array([1.e-02, 1.e+00, 5.e+00, 1.e+01, 2.e+01, 1.e+02, 1.e+03, 1.e+04,\n",
       "       1.e+05, 1.e+10, 1.e+12]),\n",
       "        cv=None, fit_intercept=True, gcv_mode=None, normalize=False,\n",
       "        scoring=None, store_cv_values=False)"
      ]
     },
     "execution_count": 38,
     "metadata": {},
     "output_type": "execute_result"
    }
   ],
   "source": [
    "# Optimizes  RSS (Residual Sum of Squares) + α * (sum of square of coefficients)\n",
    "# Where α (alpha) defines the balance between both (Lambda in R...)\n",
    "# How to find α: use cross validation\n",
    "\n",
    "#alpha = [1e-15, 1e-10, 1e-8, 1e-4, 1e-3,1e-2, 1, 5, 10, 20]\n",
    "#alpha = np.logspace(-6, 6, 13)\n",
    "alpha = [1e-2, 1, 5, 10, 20, 100, 1000, 10000, 100000, 1e10, 1e12]\n",
    "\n",
    "r_reg = linear_model.RidgeCV(alphas=alpha)\n",
    "r_reg.fit(X_train, y_train)\n"
   ]
  },
  {
   "cell_type": "code",
   "execution_count": 39,
   "metadata": {},
   "outputs": [
    {
     "data": {
      "text/plain": [
       "100.0"
      ]
     },
     "execution_count": 39,
     "metadata": {},
     "output_type": "execute_result"
    }
   ],
   "source": [
    "r_reg.alpha_"
   ]
  },
  {
   "cell_type": "code",
   "execution_count": 41,
   "metadata": {},
   "outputs": [],
   "source": [
    "# Lasso\n"
   ]
  },
  {
   "cell_type": "code",
   "execution_count": 42,
   "metadata": {},
   "outputs": [
    {
     "data": {
      "text/plain": [
       "Lasso(alpha=0.1, copy_X=True, fit_intercept=True, max_iter=1000,\n",
       "      normalize=False, positive=False, precompute=False, random_state=None,\n",
       "      selection='cyclic', tol=0.0001, warm_start=False)"
      ]
     },
     "execution_count": 42,
     "metadata": {},
     "output_type": "execute_result"
    }
   ],
   "source": [
    "l_reg = linear_model.Lasso(alpha=0.1)\n",
    "l_reg.fit(X_train, y_train)"
   ]
  },
  {
   "cell_type": "code",
   "execution_count": 43,
   "metadata": {},
   "outputs": [
    {
     "data": {
      "text/plain": [
       "array([7.32335788, 6.45386646, 8.06853229, ..., 6.62285838, 4.73952568,\n",
       "       6.58778005])"
      ]
     },
     "execution_count": 43,
     "metadata": {},
     "output_type": "execute_result"
    }
   ],
   "source": [
    "l_reg.predict(X_test)"
   ]
  },
  {
   "cell_type": "code",
   "execution_count": null,
   "metadata": {},
   "outputs": [],
   "source": []
  },
  {
   "cell_type": "code",
   "execution_count": null,
   "metadata": {},
   "outputs": [],
   "source": []
  },
  {
   "cell_type": "code",
   "execution_count": 44,
   "metadata": {},
   "outputs": [],
   "source": [
    "# Elastic Net\n",
    "\n",
    "en_reg = linear_model.ElasticNet(alpha=0.1)\n",
    "en_reg.fit = (X_train, y_train)"
   ]
  },
  {
   "cell_type": "code",
   "execution_count": null,
   "metadata": {},
   "outputs": [],
   "source": []
  },
  {
   "cell_type": "code",
   "execution_count": 45,
   "metadata": {},
   "outputs": [],
   "source": [
    "# Ridge results\n"
   ]
  },
  {
   "cell_type": "code",
   "execution_count": 46,
   "metadata": {},
   "outputs": [
    {
     "data": {
      "text/plain": [
       "(3438, 72)"
      ]
     },
     "execution_count": 46,
     "metadata": {},
     "output_type": "execute_result"
    }
   ],
   "source": [
    "X_train.shape"
   ]
  },
  {
   "cell_type": "code",
   "execution_count": 47,
   "metadata": {},
   "outputs": [
    {
     "data": {
      "text/plain": [
       "(72,)"
      ]
     },
     "execution_count": 47,
     "metadata": {},
     "output_type": "execute_result"
    }
   ],
   "source": [
    "r_reg.coef_.shape"
   ]
  },
  {
   "cell_type": "code",
   "execution_count": 48,
   "metadata": {},
   "outputs": [
    {
     "data": {
      "image/png": "[encoded data removed]",
      "text/plain": [
       "<Figure size 432x288 with 1 Axes>"
      ]
     },
     "metadata": {
      "needs_background": "light"
     },
     "output_type": "display_data"
    }
   ],
   "source": [
    "\n",
    "coefs = []\n",
    "for a in alpha:\n",
    "    ridge = linear_model.Ridge(alpha=a, fit_intercept=False)\n",
    "    ridge.fit(X_train, y_train)\n",
    "    coefs.append(ridge.coef_)\n",
    "\n",
    "# Display results\n",
    "\n",
    "ax = plt.gca()\n",
    "\n",
    "ax.plot(alpha, coefs)\n",
    "ax.set_xscale('log')\n",
    "ax.set_xlim(ax.get_xlim()[::-1])  # reverse axis\n",
    "plt.xlabel('alpha')\n",
    "plt.ylabel('weights')\n",
    "plt.title('Ridge coefficients as a function of the regularization')\n",
    "plt.axis('tight')\n",
    "plt.show()"
   ]
  },
  {
   "cell_type": "code",
   "execution_count": 49,
   "metadata": {},
   "outputs": [],
   "source": [
    "import sklearn.metrics"
   ]
  },
  {
   "cell_type": "code",
   "execution_count": 50,
   "metadata": {},
   "outputs": [
    {
     "data": {
      "text/plain": [
       "8.329041333396894"
      ]
     },
     "execution_count": 50,
     "metadata": {},
     "output_type": "execute_result"
    }
   ],
   "source": [
    "sklearn.metrics.max_error(y_test, r_reg.predict(X_test))"
   ]
  },
  {
   "cell_type": "code",
   "execution_count": null,
   "metadata": {},
   "outputs": [],
   "source": []
  },
  {
   "cell_type": "code",
   "execution_count": 51,
   "metadata": {},
   "outputs": [
    {
     "data": {
      "text/plain": [
       "3.6342384277956783"
      ]
     },
     "execution_count": 51,
     "metadata": {},
     "output_type": "execute_result"
    }
   ],
   "source": [
    "sklearn.metrics.mean_squared_error(y_test, r_reg.predict(X_test))"
   ]
  },
  {
   "cell_type": "code",
   "execution_count": 52,
   "metadata": {},
   "outputs": [
    {
     "data": {
      "text/plain": [
       "1.1751618628308318"
      ]
     },
     "execution_count": 52,
     "metadata": {},
     "output_type": "execute_result"
    }
   ],
   "source": [
    "sklearn.metrics.median_absolute_error(y_test, r_reg.predict(X_test))"
   ]
  },
  {
   "cell_type": "code",
   "execution_count": null,
   "metadata": {},
   "outputs": [],
   "source": []
  },
  {
   "cell_type": "code",
   "execution_count": null,
   "metadata": {},
   "outputs": [],
   "source": []
  }
 ],
 "metadata": {
  "kernelspec": {
   "display_name": "Python 3",
   "language": "python",
   "name": "python3"
  },
  "language_info": {
   "codemirror_mode": {
    "name": "ipython",
    "version": 3
   },
   "file_extension": ".py",
   "mimetype": "text/x-python",
   "name": "python",
   "nbconvert_exporter": "python",
   "pygments_lexer": "ipython3",
   "version": "3.7.3"
  }
 },
 "nbformat": 4,
 "nbformat_minor": 2
}
