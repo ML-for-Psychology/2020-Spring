{
 "cells": [
  {
   "cell_type": "code",
   "execution_count": 92,
   "metadata": {},
   "outputs": [],
   "source": [
    "import pandas as pd\n",
    "import numpy as np\n",
    "import matplotlib.pyplot as plt\n",
    "\n",
    "%matplotlib inline"
   ]
  },
  {
   "cell_type": "code",
   "execution_count": 2,
   "metadata": {},
   "outputs": [],
   "source": [
    "# Import dataset from file directory\n",
    "WV2015F = pd.read_excel(\"WV2015F.xlsx\")"
   ]
  },
  {
   "cell_type": "code",
   "execution_count": 3,
   "metadata": {},
   "outputs": [
    {
     "data": {
      "text/plain": [
       "(5132, 185)"
      ]
     },
     "execution_count": 3,
     "metadata": {},
     "output_type": "execute_result"
    }
   ],
   "source": [
    "WV2015F.shape"
   ]
  },
  {
   "cell_type": "code",
   "execution_count": 4,
   "metadata": {},
   "outputs": [
    {
     "data": {
      "text/html": [
       "<div>\n",
       "<style scoped>\n",
       "    .dataframe tbody tr th:only-of-type {\n",
       "        vertical-align: middle;\n",
       "    }\n",
       "\n",
       "    .dataframe tbody tr th {\n",
       "        vertical-align: top;\n",
       "    }\n",
       "\n",
       "    .dataframe thead th {\n",
       "        text-align: right;\n",
       "    }\n",
       "</style>\n",
       "<table border=\"1\" class=\"dataframe\">\n",
       "  <thead>\n",
       "    <tr style=\"text-align: right;\">\n",
       "      <th></th>\n",
       "      <th>Num</th>\n",
       "      <th>Country</th>\n",
       "      <th>Imp-Family</th>\n",
       "      <th>Imp-Friends</th>\n",
       "      <th>Imp-Leisure</th>\n",
       "      <th>Imp-Politics</th>\n",
       "      <th>Imp-Work</th>\n",
       "      <th>Imp-Religion</th>\n",
       "      <th>Happy</th>\n",
       "      <th>Healthy</th>\n",
       "      <th>...</th>\n",
       "      <th>Vote-national</th>\n",
       "      <th>Employed</th>\n",
       "      <th>Savings</th>\n",
       "      <th>SocialClass</th>\n",
       "      <th>Income</th>\n",
       "      <th>Sex</th>\n",
       "      <th>BirthYear</th>\n",
       "      <th>Age</th>\n",
       "      <th>Educ</th>\n",
       "      <th>LiveWithParents</th>\n",
       "    </tr>\n",
       "  </thead>\n",
       "  <tbody>\n",
       "    <tr>\n",
       "      <th>0</th>\n",
       "      <td>5019</td>\n",
       "      <td>356</td>\n",
       "      <td>1.0</td>\n",
       "      <td>2.0</td>\n",
       "      <td>3.0</td>\n",
       "      <td>1.0</td>\n",
       "      <td>3.0</td>\n",
       "      <td>1.0</td>\n",
       "      <td>1.0</td>\n",
       "      <td>1.0</td>\n",
       "      <td>...</td>\n",
       "      <td>2.0</td>\n",
       "      <td>2.0</td>\n",
       "      <td>1.0</td>\n",
       "      <td>2.0</td>\n",
       "      <td>4.0</td>\n",
       "      <td>2</td>\n",
       "      <td>1982</td>\n",
       "      <td>32</td>\n",
       "      <td>6.0</td>\n",
       "      <td>2.0</td>\n",
       "    </tr>\n",
       "    <tr>\n",
       "      <th>1</th>\n",
       "      <td>5142</td>\n",
       "      <td>356</td>\n",
       "      <td>1.0</td>\n",
       "      <td>2.0</td>\n",
       "      <td>2.0</td>\n",
       "      <td>2.0</td>\n",
       "      <td>2.0</td>\n",
       "      <td>2.0</td>\n",
       "      <td>2.0</td>\n",
       "      <td>3.0</td>\n",
       "      <td>...</td>\n",
       "      <td>1.0</td>\n",
       "      <td>5.0</td>\n",
       "      <td>3.0</td>\n",
       "      <td>4.0</td>\n",
       "      <td>7.0</td>\n",
       "      <td>2</td>\n",
       "      <td>1965</td>\n",
       "      <td>49</td>\n",
       "      <td>4.0</td>\n",
       "      <td>1.0</td>\n",
       "    </tr>\n",
       "    <tr>\n",
       "      <th>2</th>\n",
       "      <td>3930</td>\n",
       "      <td>356</td>\n",
       "      <td>2.0</td>\n",
       "      <td>1.0</td>\n",
       "      <td>2.0</td>\n",
       "      <td>1.0</td>\n",
       "      <td>2.0</td>\n",
       "      <td>2.0</td>\n",
       "      <td>2.0</td>\n",
       "      <td>2.0</td>\n",
       "      <td>...</td>\n",
       "      <td>2.0</td>\n",
       "      <td>8.0</td>\n",
       "      <td>1.0</td>\n",
       "      <td>3.0</td>\n",
       "      <td>2.0</td>\n",
       "      <td>1</td>\n",
       "      <td>1954</td>\n",
       "      <td>60</td>\n",
       "      <td>6.0</td>\n",
       "      <td>1.0</td>\n",
       "    </tr>\n",
       "    <tr>\n",
       "      <th>3</th>\n",
       "      <td>3943</td>\n",
       "      <td>356</td>\n",
       "      <td>1.0</td>\n",
       "      <td>2.0</td>\n",
       "      <td>1.0</td>\n",
       "      <td>3.0</td>\n",
       "      <td>1.0</td>\n",
       "      <td>2.0</td>\n",
       "      <td>2.0</td>\n",
       "      <td>3.0</td>\n",
       "      <td>...</td>\n",
       "      <td>1.0</td>\n",
       "      <td>7.0</td>\n",
       "      <td>2.0</td>\n",
       "      <td>2.0</td>\n",
       "      <td>10.0</td>\n",
       "      <td>1</td>\n",
       "      <td>1988</td>\n",
       "      <td>26</td>\n",
       "      <td>4.0</td>\n",
       "      <td>1.0</td>\n",
       "    </tr>\n",
       "    <tr>\n",
       "      <th>4</th>\n",
       "      <td>3950</td>\n",
       "      <td>356</td>\n",
       "      <td>1.0</td>\n",
       "      <td>2.0</td>\n",
       "      <td>1.0</td>\n",
       "      <td>3.0</td>\n",
       "      <td>1.0</td>\n",
       "      <td>2.0</td>\n",
       "      <td>2.0</td>\n",
       "      <td>3.0</td>\n",
       "      <td>...</td>\n",
       "      <td>1.0</td>\n",
       "      <td>7.0</td>\n",
       "      <td>2.0</td>\n",
       "      <td>2.0</td>\n",
       "      <td>10.0</td>\n",
       "      <td>1</td>\n",
       "      <td>1985</td>\n",
       "      <td>29</td>\n",
       "      <td>4.0</td>\n",
       "      <td>2.0</td>\n",
       "    </tr>\n",
       "  </tbody>\n",
       "</table>\n",
       "<p>5 rows × 185 columns</p>\n",
       "</div>"
      ],
      "text/plain": [
       "    Num  Country  Imp-Family  Imp-Friends  Imp-Leisure  Imp-Politics  \\\n",
       "0  5019      356         1.0          2.0          3.0           1.0   \n",
       "1  5142      356         1.0          2.0          2.0           2.0   \n",
       "2  3930      356         2.0          1.0          2.0           1.0   \n",
       "3  3943      356         1.0          2.0          1.0           3.0   \n",
       "4  3950      356         1.0          2.0          1.0           3.0   \n",
       "\n",
       "   Imp-Work  Imp-Religion  Happy  Healthy  ...  Vote-national  Employed  \\\n",
       "0       3.0           1.0    1.0      1.0  ...            2.0       2.0   \n",
       "1       2.0           2.0    2.0      3.0  ...            1.0       5.0   \n",
       "2       2.0           2.0    2.0      2.0  ...            2.0       8.0   \n",
       "3       1.0           2.0    2.0      3.0  ...            1.0       7.0   \n",
       "4       1.0           2.0    2.0      3.0  ...            1.0       7.0   \n",
       "\n",
       "   Savings  SocialClass  Income  Sex  BirthYear  Age  Educ  LiveWithParents  \n",
       "0      1.0          2.0     4.0    2       1982   32   6.0              2.0  \n",
       "1      3.0          4.0     7.0    2       1965   49   4.0              1.0  \n",
       "2      1.0          3.0     2.0    1       1954   60   6.0              1.0  \n",
       "3      2.0          2.0    10.0    1       1988   26   4.0              1.0  \n",
       "4      2.0          2.0    10.0    1       1985   29   4.0              2.0  \n",
       "\n",
       "[5 rows x 185 columns]"
      ]
     },
     "execution_count": 4,
     "metadata": {},
     "output_type": "execute_result"
    }
   ],
   "source": [
    "WV2015F.head()"
   ]
  },
  {
   "cell_type": "code",
   "execution_count": null,
   "metadata": {},
   "outputs": [],
   "source": []
  },
  {
   "cell_type": "code",
   "execution_count": 5,
   "metadata": {},
   "outputs": [
    {
     "data": {
      "text/html": [
       "<div>\n",
       "<style scoped>\n",
       "    .dataframe tbody tr th:only-of-type {\n",
       "        vertical-align: middle;\n",
       "    }\n",
       "\n",
       "    .dataframe tbody tr th {\n",
       "        vertical-align: top;\n",
       "    }\n",
       "\n",
       "    .dataframe thead th {\n",
       "        text-align: right;\n",
       "    }\n",
       "</style>\n",
       "<table border=\"1\" class=\"dataframe\">\n",
       "  <thead>\n",
       "    <tr style=\"text-align: right;\">\n",
       "      <th></th>\n",
       "      <th>Num</th>\n",
       "      <th>Country</th>\n",
       "      <th>Imp-Family</th>\n",
       "      <th>Imp-Friends</th>\n",
       "      <th>Imp-Leisure</th>\n",
       "      <th>Imp-Politics</th>\n",
       "      <th>Imp-Work</th>\n",
       "      <th>Imp-Religion</th>\n",
       "      <th>Happy</th>\n",
       "      <th>Healthy</th>\n",
       "      <th>...</th>\n",
       "      <th>Vote-national</th>\n",
       "      <th>Employed</th>\n",
       "      <th>Savings</th>\n",
       "      <th>SocialClass</th>\n",
       "      <th>Income</th>\n",
       "      <th>Sex</th>\n",
       "      <th>BirthYear</th>\n",
       "      <th>Age</th>\n",
       "      <th>Educ</th>\n",
       "      <th>LiveWithParents</th>\n",
       "    </tr>\n",
       "  </thead>\n",
       "  <tbody>\n",
       "    <tr>\n",
       "      <th>160</th>\n",
       "      <td>5129</td>\n",
       "      <td>356</td>\n",
       "      <td>1.0</td>\n",
       "      <td>2.0</td>\n",
       "      <td>3.0</td>\n",
       "      <td>2.0</td>\n",
       "      <td>2.0</td>\n",
       "      <td>2.0</td>\n",
       "      <td>3.0</td>\n",
       "      <td>3.0</td>\n",
       "      <td>...</td>\n",
       "      <td>1.0</td>\n",
       "      <td>1.0</td>\n",
       "      <td>1.0</td>\n",
       "      <td>4.0</td>\n",
       "      <td>6.0</td>\n",
       "      <td>1</td>\n",
       "      <td>1950</td>\n",
       "      <td>64</td>\n",
       "      <td>3.0</td>\n",
       "      <td>2.0</td>\n",
       "    </tr>\n",
       "    <tr>\n",
       "      <th>161</th>\n",
       "      <td>5132</td>\n",
       "      <td>356</td>\n",
       "      <td>NaN</td>\n",
       "      <td>2.0</td>\n",
       "      <td>3.0</td>\n",
       "      <td>3.0</td>\n",
       "      <td>2.0</td>\n",
       "      <td>2.0</td>\n",
       "      <td>2.0</td>\n",
       "      <td>3.0</td>\n",
       "      <td>...</td>\n",
       "      <td>1.0</td>\n",
       "      <td>4.0</td>\n",
       "      <td>1.0</td>\n",
       "      <td>3.0</td>\n",
       "      <td>1.0</td>\n",
       "      <td>1</td>\n",
       "      <td>1982</td>\n",
       "      <td>32</td>\n",
       "      <td>1.0</td>\n",
       "      <td>2.0</td>\n",
       "    </tr>\n",
       "    <tr>\n",
       "      <th>162</th>\n",
       "      <td>5133</td>\n",
       "      <td>356</td>\n",
       "      <td>1.0</td>\n",
       "      <td>2.0</td>\n",
       "      <td>3.0</td>\n",
       "      <td>3.0</td>\n",
       "      <td>2.0</td>\n",
       "      <td>2.0</td>\n",
       "      <td>3.0</td>\n",
       "      <td>3.0</td>\n",
       "      <td>...</td>\n",
       "      <td>1.0</td>\n",
       "      <td>1.0</td>\n",
       "      <td>1.0</td>\n",
       "      <td>4.0</td>\n",
       "      <td>6.0</td>\n",
       "      <td>1</td>\n",
       "      <td>1989</td>\n",
       "      <td>25</td>\n",
       "      <td>3.0</td>\n",
       "      <td>2.0</td>\n",
       "    </tr>\n",
       "  </tbody>\n",
       "</table>\n",
       "<p>3 rows × 185 columns</p>\n",
       "</div>"
      ],
      "text/plain": [
       "      Num  Country  Imp-Family  Imp-Friends  Imp-Leisure  Imp-Politics  \\\n",
       "160  5129      356         1.0          2.0          3.0           2.0   \n",
       "161  5132      356         NaN          2.0          3.0           3.0   \n",
       "162  5133      356         1.0          2.0          3.0           3.0   \n",
       "\n",
       "     Imp-Work  Imp-Religion  Happy  Healthy  ...  Vote-national  Employed  \\\n",
       "160       2.0           2.0    3.0      3.0  ...            1.0       1.0   \n",
       "161       2.0           2.0    2.0      3.0  ...            1.0       4.0   \n",
       "162       2.0           2.0    3.0      3.0  ...            1.0       1.0   \n",
       "\n",
       "     Savings  SocialClass  Income  Sex  BirthYear  Age  Educ  LiveWithParents  \n",
       "160      1.0          4.0     6.0    1       1950   64   3.0              2.0  \n",
       "161      1.0          3.0     1.0    1       1982   32   1.0              2.0  \n",
       "162      1.0          4.0     6.0    1       1989   25   3.0              2.0  \n",
       "\n",
       "[3 rows x 185 columns]"
      ]
     },
     "execution_count": 5,
     "metadata": {},
     "output_type": "execute_result"
    }
   ],
   "source": [
    "# Create another object holding the data and print the names of the file's variables (columns)\n",
    "dataf1 = WV2015F[:]\n",
    "dataf1.iloc[160:163,:]"
   ]
  },
  {
   "cell_type": "code",
   "execution_count": 6,
   "metadata": {},
   "outputs": [
    {
     "data": {
      "text/plain": [
       "(5132, 185)"
      ]
     },
     "execution_count": 6,
     "metadata": {},
     "output_type": "execute_result"
    }
   ],
   "source": [
    "dataf1.shape"
   ]
  },
  {
   "cell_type": "code",
   "execution_count": 7,
   "metadata": {},
   "outputs": [
    {
     "data": {
      "text/plain": [
       "Index(['Num', 'Country', 'Imp-Family', 'Imp-Friends', 'Imp-Leisure',\n",
       "       'Imp-Politics', 'Imp-Work', 'Imp-Religion', 'Happy', 'Healthy',\n",
       "       ...\n",
       "       'Vote-national', 'Employed', 'Savings', 'SocialClass', 'Income', 'Sex',\n",
       "       'BirthYear', 'Age', 'Educ', 'LiveWithParents'],\n",
       "      dtype='object', length=185)"
      ]
     },
     "execution_count": 7,
     "metadata": {},
     "output_type": "execute_result"
    }
   ],
   "source": [
    "dataf1.columns"
   ]
  },
  {
   "cell_type": "code",
   "execution_count": 12,
   "metadata": {},
   "outputs": [
    {
     "data": {
      "text/plain": [
       "6818"
      ]
     },
     "execution_count": 12,
     "metadata": {},
     "output_type": "execute_result"
    }
   ],
   "source": [
    "# Check for null values\n",
    "dataf1.isnull().sum().sum()\n",
    "# np.isnan(dataf1).sum().sum()"
   ]
  },
  {
   "cell_type": "code",
   "execution_count": 13,
   "metadata": {},
   "outputs": [
    {
     "data": {
      "text/html": [
       "<div>\n",
       "<style scoped>\n",
       "    .dataframe tbody tr th:only-of-type {\n",
       "        vertical-align: middle;\n",
       "    }\n",
       "\n",
       "    .dataframe tbody tr th {\n",
       "        vertical-align: top;\n",
       "    }\n",
       "\n",
       "    .dataframe thead th {\n",
       "        text-align: right;\n",
       "    }\n",
       "</style>\n",
       "<table border=\"1\" class=\"dataframe\">\n",
       "  <thead>\n",
       "    <tr style=\"text-align: right;\">\n",
       "      <th></th>\n",
       "      <th>Num</th>\n",
       "      <th>Country</th>\n",
       "      <th>Imp-Family</th>\n",
       "      <th>Imp-Friends</th>\n",
       "      <th>Imp-Leisure</th>\n",
       "      <th>Imp-Politics</th>\n",
       "      <th>Imp-Work</th>\n",
       "      <th>Imp-Religion</th>\n",
       "      <th>Happy</th>\n",
       "      <th>Healthy</th>\n",
       "      <th>...</th>\n",
       "      <th>Vote-national</th>\n",
       "      <th>Employed</th>\n",
       "      <th>Savings</th>\n",
       "      <th>SocialClass</th>\n",
       "      <th>Income</th>\n",
       "      <th>Sex</th>\n",
       "      <th>BirthYear</th>\n",
       "      <th>Age</th>\n",
       "      <th>Educ</th>\n",
       "      <th>LiveWithParents</th>\n",
       "    </tr>\n",
       "  </thead>\n",
       "  <tbody>\n",
       "    <tr>\n",
       "      <th>672</th>\n",
       "      <td>4892</td>\n",
       "      <td>356</td>\n",
       "      <td>4.0</td>\n",
       "      <td>2.0</td>\n",
       "      <td>4.0</td>\n",
       "      <td>4.0</td>\n",
       "      <td>1.0</td>\n",
       "      <td>4.0</td>\n",
       "      <td>4.0</td>\n",
       "      <td>4.0</td>\n",
       "      <td>...</td>\n",
       "      <td>2.0</td>\n",
       "      <td>7.0</td>\n",
       "      <td>4.0</td>\n",
       "      <td>1.0</td>\n",
       "      <td>9.0</td>\n",
       "      <td>2</td>\n",
       "      <td>1973</td>\n",
       "      <td>41</td>\n",
       "      <td>5.0</td>\n",
       "      <td>2.0</td>\n",
       "    </tr>\n",
       "    <tr>\n",
       "      <th>691</th>\n",
       "      <td>5244</td>\n",
       "      <td>356</td>\n",
       "      <td>1.0</td>\n",
       "      <td>2.0</td>\n",
       "      <td>2.0</td>\n",
       "      <td>2.0</td>\n",
       "      <td>1.0</td>\n",
       "      <td>2.0</td>\n",
       "      <td>1.0</td>\n",
       "      <td>1.0</td>\n",
       "      <td>...</td>\n",
       "      <td>2.0</td>\n",
       "      <td>7.0</td>\n",
       "      <td>3.0</td>\n",
       "      <td>2.0</td>\n",
       "      <td>2.0</td>\n",
       "      <td>2</td>\n",
       "      <td>1995</td>\n",
       "      <td>19</td>\n",
       "      <td>7.0</td>\n",
       "      <td>1.0</td>\n",
       "    </tr>\n",
       "    <tr>\n",
       "      <th>692</th>\n",
       "      <td>5246</td>\n",
       "      <td>356</td>\n",
       "      <td>1.0</td>\n",
       "      <td>2.0</td>\n",
       "      <td>2.0</td>\n",
       "      <td>1.0</td>\n",
       "      <td>1.0</td>\n",
       "      <td>2.0</td>\n",
       "      <td>1.0</td>\n",
       "      <td>1.0</td>\n",
       "      <td>...</td>\n",
       "      <td>2.0</td>\n",
       "      <td>7.0</td>\n",
       "      <td>3.0</td>\n",
       "      <td>2.0</td>\n",
       "      <td>2.0</td>\n",
       "      <td>1</td>\n",
       "      <td>1991</td>\n",
       "      <td>23</td>\n",
       "      <td>7.0</td>\n",
       "      <td>1.0</td>\n",
       "    </tr>\n",
       "  </tbody>\n",
       "</table>\n",
       "<p>3 rows × 185 columns</p>\n",
       "</div>"
      ],
      "text/plain": [
       "      Num  Country  Imp-Family  Imp-Friends  Imp-Leisure  Imp-Politics  \\\n",
       "672  4892      356         4.0          2.0          4.0           4.0   \n",
       "691  5244      356         1.0          2.0          2.0           2.0   \n",
       "692  5246      356         1.0          2.0          2.0           1.0   \n",
       "\n",
       "     Imp-Work  Imp-Religion  Happy  Healthy  ...  Vote-national  Employed  \\\n",
       "672       1.0           4.0    4.0      4.0  ...            2.0       7.0   \n",
       "691       1.0           2.0    1.0      1.0  ...            2.0       7.0   \n",
       "692       1.0           2.0    1.0      1.0  ...            2.0       7.0   \n",
       "\n",
       "     Savings  SocialClass  Income  Sex  BirthYear  Age  Educ  LiveWithParents  \n",
       "672      4.0          1.0     9.0    2       1973   41   5.0              2.0  \n",
       "691      3.0          2.0     2.0    2       1995   19   7.0              1.0  \n",
       "692      3.0          2.0     2.0    1       1991   23   7.0              1.0  \n",
       "\n",
       "[3 rows x 185 columns]"
      ]
     },
     "execution_count": 13,
     "metadata": {},
     "output_type": "execute_result"
    }
   ],
   "source": [
    "# Handling missing data\n",
    "# we can keep only complete records...\n",
    "dataf2 = dataf1.dropna(how='any')  #drops any row with a NaN; with axis=1, drops columns; how \"any\" or \"all\"\n",
    "dataf2.iloc[356:359,:]"
   ]
  },
  {
   "cell_type": "code",
   "execution_count": 14,
   "metadata": {},
   "outputs": [
    {
     "data": {
      "text/plain": [
       "(2497, 185)"
      ]
     },
     "execution_count": 14,
     "metadata": {},
     "output_type": "execute_result"
    }
   ],
   "source": [
    "dataf2.shape"
   ]
  },
  {
   "cell_type": "code",
   "execution_count": 15,
   "metadata": {},
   "outputs": [
    {
     "data": {
      "text/plain": [
       "Num            4798.5\n",
       "Country         356.0\n",
       "Imp-Family        1.0\n",
       "Imp-Friends       2.0\n",
       "Imp-Leisure       2.0\n",
       "dtype: float64"
      ]
     },
     "execution_count": 15,
     "metadata": {},
     "output_type": "execute_result"
    }
   ],
   "source": [
    "dataf1.median().head()"
   ]
  },
  {
   "cell_type": "code",
   "execution_count": 16,
   "metadata": {},
   "outputs": [
    {
     "data": {
      "text/html": [
       "<div>\n",
       "<style scoped>\n",
       "    .dataframe tbody tr th:only-of-type {\n",
       "        vertical-align: middle;\n",
       "    }\n",
       "\n",
       "    .dataframe tbody tr th {\n",
       "        vertical-align: top;\n",
       "    }\n",
       "\n",
       "    .dataframe thead th {\n",
       "        text-align: right;\n",
       "    }\n",
       "</style>\n",
       "<table border=\"1\" class=\"dataframe\">\n",
       "  <thead>\n",
       "    <tr style=\"text-align: right;\">\n",
       "      <th></th>\n",
       "      <th>Num</th>\n",
       "      <th>Country</th>\n",
       "      <th>Imp-Family</th>\n",
       "      <th>Imp-Friends</th>\n",
       "      <th>Imp-Leisure</th>\n",
       "      <th>Imp-Politics</th>\n",
       "      <th>Imp-Work</th>\n",
       "      <th>Imp-Religion</th>\n",
       "      <th>Happy</th>\n",
       "      <th>Healthy</th>\n",
       "      <th>...</th>\n",
       "      <th>Vote-national</th>\n",
       "      <th>Employed</th>\n",
       "      <th>Savings</th>\n",
       "      <th>SocialClass</th>\n",
       "      <th>Income</th>\n",
       "      <th>Sex</th>\n",
       "      <th>BirthYear</th>\n",
       "      <th>Age</th>\n",
       "      <th>Educ</th>\n",
       "      <th>LiveWithParents</th>\n",
       "    </tr>\n",
       "  </thead>\n",
       "  <tbody>\n",
       "    <tr>\n",
       "      <th>160</th>\n",
       "      <td>5129</td>\n",
       "      <td>356</td>\n",
       "      <td>1.0</td>\n",
       "      <td>2.0</td>\n",
       "      <td>3.0</td>\n",
       "      <td>2.0</td>\n",
       "      <td>2.0</td>\n",
       "      <td>2.0</td>\n",
       "      <td>3.0</td>\n",
       "      <td>3.0</td>\n",
       "      <td>...</td>\n",
       "      <td>1.0</td>\n",
       "      <td>1.0</td>\n",
       "      <td>1.0</td>\n",
       "      <td>4.0</td>\n",
       "      <td>6.0</td>\n",
       "      <td>1</td>\n",
       "      <td>1950</td>\n",
       "      <td>64</td>\n",
       "      <td>3.0</td>\n",
       "      <td>2.0</td>\n",
       "    </tr>\n",
       "    <tr>\n",
       "      <th>161</th>\n",
       "      <td>5132</td>\n",
       "      <td>356</td>\n",
       "      <td>1.0</td>\n",
       "      <td>2.0</td>\n",
       "      <td>3.0</td>\n",
       "      <td>3.0</td>\n",
       "      <td>2.0</td>\n",
       "      <td>2.0</td>\n",
       "      <td>2.0</td>\n",
       "      <td>3.0</td>\n",
       "      <td>...</td>\n",
       "      <td>1.0</td>\n",
       "      <td>4.0</td>\n",
       "      <td>1.0</td>\n",
       "      <td>3.0</td>\n",
       "      <td>1.0</td>\n",
       "      <td>1</td>\n",
       "      <td>1982</td>\n",
       "      <td>32</td>\n",
       "      <td>1.0</td>\n",
       "      <td>2.0</td>\n",
       "    </tr>\n",
       "    <tr>\n",
       "      <th>162</th>\n",
       "      <td>5133</td>\n",
       "      <td>356</td>\n",
       "      <td>1.0</td>\n",
       "      <td>2.0</td>\n",
       "      <td>3.0</td>\n",
       "      <td>3.0</td>\n",
       "      <td>2.0</td>\n",
       "      <td>2.0</td>\n",
       "      <td>3.0</td>\n",
       "      <td>3.0</td>\n",
       "      <td>...</td>\n",
       "      <td>1.0</td>\n",
       "      <td>1.0</td>\n",
       "      <td>1.0</td>\n",
       "      <td>4.0</td>\n",
       "      <td>6.0</td>\n",
       "      <td>1</td>\n",
       "      <td>1989</td>\n",
       "      <td>25</td>\n",
       "      <td>3.0</td>\n",
       "      <td>2.0</td>\n",
       "    </tr>\n",
       "  </tbody>\n",
       "</table>\n",
       "<p>3 rows × 185 columns</p>\n",
       "</div>"
      ],
      "text/plain": [
       "      Num  Country  Imp-Family  Imp-Friends  Imp-Leisure  Imp-Politics  \\\n",
       "160  5129      356         1.0          2.0          3.0           2.0   \n",
       "161  5132      356         1.0          2.0          3.0           3.0   \n",
       "162  5133      356         1.0          2.0          3.0           3.0   \n",
       "\n",
       "     Imp-Work  Imp-Religion  Happy  Healthy  ...  Vote-national  Employed  \\\n",
       "160       2.0           2.0    3.0      3.0  ...            1.0       1.0   \n",
       "161       2.0           2.0    2.0      3.0  ...            1.0       4.0   \n",
       "162       2.0           2.0    3.0      3.0  ...            1.0       1.0   \n",
       "\n",
       "     Savings  SocialClass  Income  Sex  BirthYear  Age  Educ  LiveWithParents  \n",
       "160      1.0          4.0     6.0    1       1950   64   3.0              2.0  \n",
       "161      1.0          3.0     1.0    1       1982   32   1.0              2.0  \n",
       "162      1.0          4.0     6.0    1       1989   25   3.0              2.0  \n",
       "\n",
       "[3 rows x 185 columns]"
      ]
     },
     "execution_count": 16,
     "metadata": {},
     "output_type": "execute_result"
    }
   ],
   "source": [
    "# or we can replace missing values (mean, median, )\n",
    "# dataf3 = dataf1.fillna(dataf1.median())\n",
    "dataf3 = dataf1.copy(deep = True)\n",
    "dataf3.fillna(dataf3.median(), inplace=True)\n",
    "\n",
    "dataf3.iloc[160:163,:]\n"
   ]
  },
  {
   "cell_type": "code",
   "execution_count": 17,
   "metadata": {},
   "outputs": [
    {
     "data": {
      "text/plain": [
       "(5132, 185)"
      ]
     },
     "execution_count": 17,
     "metadata": {},
     "output_type": "execute_result"
    }
   ],
   "source": [
    "dataf3.shape"
   ]
  },
  {
   "cell_type": "code",
   "execution_count": null,
   "metadata": {},
   "outputs": [],
   "source": []
  },
  {
   "cell_type": "code",
   "execution_count": 21,
   "metadata": {},
   "outputs": [],
   "source": [
    "#Create dataset including the variables for the analysis\n",
    "\n",
    "dataf4 = dataf3.iloc[:, np.r_[2:20,22:32,45,60:68,136:168,178,180,182]]\n",
    "y=dataf1.iloc[:,21]\n",
    "#y=dataf3.iloc[:,21]\n"
   ]
  },
  {
   "cell_type": "code",
   "execution_count": 22,
   "metadata": {},
   "outputs": [
    {
     "name": "stdout",
     "output_type": "stream",
     "text": [
      "5132\n",
      "Life Sat\n",
      "(5132, 72)\n",
      "Index(['Imp-Family', 'Imp-Friends', 'Imp-Leisure', 'Imp-Politics', 'Imp-Work',\n",
      "       'Imp-Religion', 'Happy', 'Healthy', 'Child-Independent',\n",
      "       'Child-HardWork', 'Child-Responsible', 'Child-Imagination',\n",
      "       'Child-Respect', 'Child-Thrift', 'Child-Persevere', 'Child-Religious',\n",
      "       'Child-Unselfish', 'Child-Obey', 'Trust Others24', 'Active-Church',\n",
      "       'Active-Sports', 'Active-Arts', 'Active-Union', 'Active-Politics',\n",
      "       'Active-Environment', 'Active-Profession', 'Active-Charity',\n",
      "       'Active-Consumer Org', 'LOC', 'SchCreate', 'SchRich', 'SchSecure',\n",
      "       'SchFun', 'SchSuccess', 'SchExciting', 'SchBehave', 'SchEnviron',\n",
      "       'Locale-Secure', 'Locale-Robberies', 'Locale-Alcohol', 'Locale-NoCash',\n",
      "       'Locale-NoNightOut', 'Locale-Gun', 'Locale-CrimeVictimSelf',\n",
      "       'Locale-CrimeVictimFamily', 'Worry-LoseJob', 'Worry-ChildEduc',\n",
      "       'Worry-War', 'War4Justice', 'Worry-NoFood', 'Worry-Crime',\n",
      "       'Worry-MedicalCare', 'Worry-Money', 'Tech-Good1', 'Tech-GoodFuture',\n",
      "       'Tech-Religion', 'Tech-Morals', 'Tech-Mastery', 'Tech-Good2',\n",
      "       'Just-Subsidy', 'Just-TransFare', 'Just-Steal', 'Just-TaxCheat',\n",
      "       'Just-Bribe', 'Just-Divorce', 'Just-Suicide', 'Just-HitWife',\n",
      "       'Just-HitChild', 'Just-Violence', 'SocialClass', 'Sex', 'Age'],\n",
      "      dtype='object')\n"
     ]
    }
   ],
   "source": [
    "print(len(y))\n",
    "print(y.name)\n",
    "print(dataf4.shape)\n",
    "print(dataf4.columns)\n"
   ]
  },
  {
   "cell_type": "raw",
   "metadata": {},
   "source": [
    "# Create a matrix of the dataset so that all values are numeric\n",
    "dataf5=np.asarray(dataf4)"
   ]
  },
  {
   "cell_type": "code",
   "execution_count": 56,
   "metadata": {
    "scrolled": true
   },
   "outputs": [
    {
     "data": {
      "text/plain": [
       "8.0     1209\n",
       "7.0      836\n",
       "9.0      604\n",
       "6.0      492\n",
       "5.0      448\n",
       "10.0     349\n",
       "2.0      322\n",
       "1.0      322\n",
       "3.0      277\n",
       "4.0      273\n",
       "Name: Life Sat, dtype: int64"
      ]
     },
     "execution_count": 56,
     "metadata": {},
     "output_type": "execute_result"
    }
   ],
   "source": [
    "# y is a Series into a numeric value and replace NA by median\n",
    "y.describe()\n",
    "\n",
    "y.value_counts() \n",
    "\n",
    "y1 = y.fillna(y.median())\n",
    "y1.isnull().sum()\n",
    "\n",
    "y1.describe()\n",
    "\n",
    "y1.value_counts()\n"
   ]
  },
  {
   "cell_type": "code",
   "execution_count": null,
   "metadata": {},
   "outputs": [],
   "source": []
  },
  {
   "cell_type": "code",
   "execution_count": 57,
   "metadata": {},
   "outputs": [
    {
     "name": "stdout",
     "output_type": "stream",
     "text": [
      "3387\n"
     ]
    },
    {
     "data": {
      "text/plain": [
       "list"
      ]
     },
     "execution_count": 57,
     "metadata": {},
     "output_type": "execute_result"
    }
   ],
   "source": [
    "#Select random index for selecting training and testing datasets\n",
    "import random\n",
    "\n",
    "#random.seed(2)\n",
    "indices = list(range(len(dataf4)))\n",
    "#random.shuffle(indices)\n",
    "indices[0:10]\n",
    "train_rows = random.sample(indices,int(len(dataf4)*.66))\n",
    "print(len(train_rows))\n",
    "type(train_rows)#[0:10]"
   ]
  },
  {
   "cell_type": "code",
   "execution_count": 58,
   "metadata": {},
   "outputs": [
    {
     "data": {
      "text/plain": [
       "[3384, 1816, 4939, 4123, 3337, 1493, 4176, 42, 2590, 247]"
      ]
     },
     "execution_count": 58,
     "metadata": {},
     "output_type": "execute_result"
    }
   ],
   "source": [
    "train_rows[:10]"
   ]
  },
  {
   "cell_type": "code",
   "execution_count": null,
   "metadata": {},
   "outputs": [],
   "source": []
  },
  {
   "cell_type": "code",
   "execution_count": 62,
   "metadata": {},
   "outputs": [],
   "source": [
    "#Split data into train (2/3) and test (1/3) sets\n",
    "x_train = dataf4.iloc[train_rows,:]\n",
    "x_test = dataf4.iloc[list(np.isin(dataf4.index, train_rows, invert=True)),:].shape\n",
    "y_train = y1.iloc[train_rows]\n",
    "y_test = y1.iloc[list(np.isin(dataf4.index, train_rows, invert=True))]"
   ]
  },
  {
   "cell_type": "code",
   "execution_count": null,
   "metadata": {},
   "outputs": [],
   "source": []
  },
  {
   "cell_type": "code",
   "execution_count": null,
   "metadata": {},
   "outputs": [],
   "source": []
  },
  {
   "cell_type": "code",
   "execution_count": null,
   "metadata": {},
   "outputs": [],
   "source": []
  },
  {
   "cell_type": "code",
   "execution_count": null,
   "metadata": {},
   "outputs": [],
   "source": []
  },
  {
   "cell_type": "code",
   "execution_count": null,
   "metadata": {},
   "outputs": [],
   "source": []
  },
  {
   "cell_type": "code",
   "execution_count": 71,
   "metadata": {},
   "outputs": [],
   "source": [
    "#Another way to split data\n",
    "from sklearn.model_selection import train_test_split"
   ]
  },
  {
   "cell_type": "code",
   "execution_count": 72,
   "metadata": {},
   "outputs": [],
   "source": [
    "X_train, X_test, y_train, y_test = train_test_split(dataf3, y1, test_size=0.33, random_state=42)"
   ]
  },
  {
   "cell_type": "code",
   "execution_count": null,
   "metadata": {},
   "outputs": [],
   "source": []
  },
  {
   "cell_type": "code",
   "execution_count": 94,
   "metadata": {},
   "outputs": [],
   "source": [
    "def scatter_plot(feature, target):\n",
    "    plt.figure(figsize=(16, 8))\n",
    "    plt.scatter(\n",
    "        dataf1[feature],\n",
    "        dataf1[target],\n",
    "        c='black'\n",
    "    )\n",
    "    plt.xlabel(\"IV: {} \".format(feature))\n",
    "    plt.ylabel(\"DV: Satisfaction\")\n",
    "    plt.show()"
   ]
  },
  {
   "cell_type": "code",
   "execution_count": 97,
   "metadata": {},
   "outputs": [
    {
     "data": {
      "image/png": "[encoded data removed]",
      "text/plain": [
       "<Figure size 1152x576 with 1 Axes>"
      ]
     },
     "metadata": {
      "needs_background": "light"
     },
     "output_type": "display_data"
    }
   ],
   "source": [
    "scatter_plot('Income','Life Sat')"
   ]
  },
  {
   "cell_type": "code",
   "execution_count": null,
   "metadata": {},
   "outputs": [],
   "source": []
  },
  {
   "cell_type": "code",
   "execution_count": 100,
   "metadata": {},
   "outputs": [],
   "source": [
    "from sklearn import linear_model\n",
    "from sklearn.linear_model import Ridge, Lasso, ElasticNet\n",
    "from sklearn.model_selection import cross_val_score, GridSearchCV\n"
   ]
  },
  {
   "cell_type": "code",
   "execution_count": 129,
   "metadata": {},
   "outputs": [
    {
     "data": {
      "text/plain": [
       "Ridge(alpha=1e-05, copy_X=True, fit_intercept=True, max_iter=None,\n",
       "   normalize=False, random_state=None, solver='auto', tol=0.001)"
      ]
     },
     "execution_count": 129,
     "metadata": {},
     "output_type": "execute_result"
    }
   ],
   "source": [
    "# Ridge\n",
    "# Optimizes  RSS (Residual Sum of Squares) + α * (sum of square of coefficients)\n",
    "# Where α (alpha) defines the balance between both.\n",
    "\n",
    "\n",
    "regr = linear_model.Ridge(alpha=.00001)\n",
    "regr.fit(X_train, y_train)"
   ]
  },
  {
   "cell_type": "code",
   "execution_count": 110,
   "metadata": {},
   "outputs": [
    {
     "data": {
      "text/plain": [
       "array([ 1.25188343e-09,  2.96821125e-08,  1.47523185e-06,  1.89474200e-06,\n",
       "       -2.78119095e-06,  1.50739298e-06, -2.34581875e-06, -1.63307717e-06,\n",
       "       -1.88047513e-05, -5.71801952e-06, -5.39437198e-06, -3.36704210e-06,\n",
       "       -5.19970249e-06, -2.39797403e-06,  5.04154973e-06, -3.77027564e-06,\n",
       "        3.93312239e-07, -2.03848392e-06, -2.22002303e-06, -7.51573389e-06,\n",
       "        5.01852750e-06,  9.99950514e-01, -8.72096720e-06,  2.23135993e-06,\n",
       "       -2.20926304e-06,  2.32943034e-06, -5.11086667e-07,  2.86286303e-06,\n",
       "       -5.58724884e-07, -5.49651170e-06,  2.60285157e-06, -7.85745679e-06,\n",
       "        2.02593177e-06, -2.37037130e-06,  3.69076440e-06,  6.06603034e-07,\n",
       "       -1.16256886e-06,  4.95591992e-06,  2.55196693e-07, -2.40465061e-08,\n",
       "       -6.21213645e-07, -4.90503678e-06,  8.31018189e-06, -2.39624124e-07,\n",
       "        1.44386956e-06,  1.00614798e-05,  3.19666770e-06, -5.73304493e-07,\n",
       "        4.52405362e-08,  1.02551123e-05,  2.21529408e-06, -3.16912954e-06,\n",
       "       -2.03071205e-07,  3.28782840e-07,  2.72225688e-06,  3.74484114e-06,\n",
       "       -1.06199651e-05, -1.97129565e-06,  6.55151275e-06,  3.09396658e-06,\n",
       "       -1.83158295e-06,  9.62531220e-07, -2.37542561e-07, -1.45037427e-06,\n",
       "        6.88728991e-07,  1.16530236e-06, -2.42614208e-06, -6.35615884e-07,\n",
       "        1.85916316e-06,  1.74438238e-06, -1.21559362e-06,  1.28373192e-06,\n",
       "       -1.10657289e-05,  6.80759639e-06, -3.80366466e-06,  4.62209723e-06,\n",
       "        2.28223144e-06,  2.59206516e-06,  1.51759566e-06,  2.78798535e-06,\n",
       "        1.00703370e-06,  5.57705741e-08, -5.07717844e-07,  2.80722817e-06,\n",
       "       -7.25843643e-06,  4.19745836e-06,  1.20787934e-06,  3.09925747e-06,\n",
       "        2.06612488e-06, -1.45377401e-06, -6.72962035e-07, -2.33804955e-06,\n",
       "       -4.16803046e-06,  1.81713151e-06, -3.32961175e-07,  1.75747192e-06,\n",
       "       -3.80361207e-06,  2.04303351e-06,  1.35023721e-07,  4.99452498e-06,\n",
       "       -3.03813482e-06, -4.96934588e-06, -2.22245043e-06,  1.73361380e-06,\n",
       "        0.00000000e+00,  0.00000000e+00,  7.10699751e-06, -4.91418975e-06,\n",
       "       -5.15249496e-07,  3.42944300e-06, -1.69960327e-06,  8.76712969e-07,\n",
       "       -1.64121613e-06, -9.34820551e-07, -2.41806227e-06,  1.82878569e-06,\n",
       "       -2.28247811e-07, -6.56599190e-07,  3.76198793e-06, -1.47180090e-06,\n",
       "        1.15211251e-06,  2.11270744e-07,  3.02805664e-06, -8.88577835e-07,\n",
       "        1.15801204e-07, -2.47336795e-07,  2.32417884e-06, -4.59220795e-06,\n",
       "       -2.11370046e-06,  6.27659735e-06,  2.18292531e-06, -1.80432667e-06,\n",
       "       -8.68171797e-07,  3.68435460e-06,  5.27552841e-06,  5.09557209e-06,\n",
       "       -9.11102759e-06, -2.55285766e-06, -2.07976307e-06, -8.74780917e-07,\n",
       "       -1.31909632e-06,  1.12439608e-06,  2.43414654e-06,  3.69096933e-07,\n",
       "       -2.42613437e-06,  2.83046276e-06,  3.44039745e-06,  8.55930582e-06,\n",
       "        6.22543212e-06,  6.60644882e-06, -5.19304556e-06,  1.27444847e-07,\n",
       "        1.92708357e-06, -2.40137166e-06,  1.28309159e-06,  1.17131345e-06,\n",
       "       -4.74691636e-07,  2.98489836e-07,  1.83038838e-06, -9.12351204e-07,\n",
       "       -5.68630129e-07,  3.48314997e-06, -3.54456381e-06,  9.60583152e-07,\n",
       "       -4.57467858e-06,  4.30374397e-07,  2.16977587e-06,  1.25759410e-06,\n",
       "       -3.52004409e-06, -7.98432119e-06, -6.16567685e-07,  7.09942583e-06,\n",
       "       -2.26587686e-06,  4.28603098e-06,  1.54747058e-06,  1.03554322e-06,\n",
       "       -1.14808067e-06, -3.50273936e-07, -2.25308079e-07,  2.22299242e-06,\n",
       "        2.25952113e-06, -5.41279147e-07, -5.29266188e-07,  7.48919163e-07,\n",
       "        5.19036803e-06])"
      ]
     },
     "execution_count": 110,
     "metadata": {},
     "output_type": "execute_result"
    }
   ],
   "source": [
    "regr.coef_"
   ]
  },
  {
   "cell_type": "code",
   "execution_count": 112,
   "metadata": {},
   "outputs": [
    {
     "data": {
      "text/plain": [
       "0.0011181014567744896"
      ]
     },
     "execution_count": 112,
     "metadata": {},
     "output_type": "execute_result"
    }
   ],
   "source": [
    "regr.intercept_"
   ]
  },
  {
   "cell_type": "code",
   "execution_count": 130,
   "metadata": {},
   "outputs": [
    {
     "data": {
      "text/plain": [
       "RidgeCV(alphas=array([1.e-15, 1.e-10, 1.e-08, 1.e-04, 1.e-03, 1.e-02, 1.e+00, 5.e+00,\n",
       "       1.e+01, 2.e+01]),\n",
       "    cv=None, fit_intercept=True, gcv_mode=None, normalize=False,\n",
       "    scoring=None, store_cv_values=False)"
      ]
     },
     "execution_count": 130,
     "metadata": {},
     "output_type": "execute_result"
    }
   ],
   "source": [
    "# Optimizes  RSS (Residual Sum of Squares) + α * (sum of square of coefficients)\n",
    "# Where α (alpha) defines the balance between both.\n",
    "# How to find α\n",
    "\n",
    "alpha = [1e-15, 1e-10, 1e-8, 1e-4, 1e-3,1e-2, 1, 5, 10, 20]\n",
    "#alpha = np.logspace(-6, 6, 13)\n",
    "\n",
    "regr = linear_model.RidgeCV(alphas=alpha)\n",
    "regr.fit(X_train, y_train)\n"
   ]
  },
  {
   "cell_type": "code",
   "execution_count": 131,
   "metadata": {},
   "outputs": [
    {
     "data": {
      "text/plain": [
       "1e-15"
      ]
     },
     "execution_count": 131,
     "metadata": {},
     "output_type": "execute_result"
    }
   ],
   "source": [
    "regr.alpha_"
   ]
  },
  {
   "cell_type": "code",
   "execution_count": null,
   "metadata": {},
   "outputs": [],
   "source": [
    "# Lasso\n"
   ]
  },
  {
   "cell_type": "code",
   "execution_count": 132,
   "metadata": {},
   "outputs": [
    {
     "data": {
      "text/plain": [
       "Lasso(alpha=0.1, copy_X=True, fit_intercept=True, max_iter=1000,\n",
       "   normalize=False, positive=False, precompute=False, random_state=None,\n",
       "   selection='cyclic', tol=0.0001, warm_start=False)"
      ]
     },
     "execution_count": 132,
     "metadata": {},
     "output_type": "execute_result"
    }
   ],
   "source": [
    "regl = linear_model.Lasso(alpha=0.1)\n",
    "regl.fit(X_train, y_train)"
   ]
  },
  {
   "cell_type": "code",
   "execution_count": 134,
   "metadata": {},
   "outputs": [
    {
     "data": {
      "text/plain": [
       "array([6.99903582, 5.02766954, 7.97969446, ..., 7.97702829, 7.97303371,\n",
       "       7.98358899])"
      ]
     },
     "execution_count": 134,
     "metadata": {},
     "output_type": "execute_result"
    }
   ],
   "source": [
    "regl.predict(X_test)"
   ]
  },
  {
   "cell_type": "code",
   "execution_count": null,
   "metadata": {},
   "outputs": [],
   "source": []
  },
  {
   "cell_type": "code",
   "execution_count": null,
   "metadata": {},
   "outputs": [],
   "source": []
  },
  {
   "cell_type": "code",
   "execution_count": 135,
   "metadata": {},
   "outputs": [],
   "source": [
    "# Elastic Net\n",
    "\n",
    "rege = linear_model.ElasticNet(alpha=0.1)\n",
    "rege.fit = (X_train, y_train)"
   ]
  },
  {
   "cell_type": "code",
   "execution_count": null,
   "metadata": {},
   "outputs": [],
   "source": []
  },
  {
   "cell_type": "code",
   "execution_count": null,
   "metadata": {},
   "outputs": [],
   "source": []
  },
  {
   "cell_type": "code",
   "execution_count": null,
   "metadata": {},
   "outputs": [],
   "source": []
  },
  {
   "cell_type": "code",
   "execution_count": null,
   "metadata": {},
   "outputs": [],
   "source": [
    "\n",
    "\n",
    "\n",
    "\n",
    "\n",
    "Fit models: The glmnet command loads an input matrix, x.train, and a response vector, y.train\n",
    "Setting alpha=0 ensures ridge\n",
    "Setting alpha=1 ensures lasso\n",
    "Setting alpha>0 & <1 ensures elastic net\n",
    "family = gaussian refers to DV being normally distributes so linear regression is the appropriate model\n",
    "nlambda refers to the number of lambda's to be tried\n",
    "```{r}\n",
    "fit.ridge = glmnet(x.train, y.train, family=\"gaussian\", nlambda = 150, alpha=0)\n",
    "fit.lasso = glmnet(x.train, y.train, family=\"gaussian\", nlambda = 150, alpha=1)\n",
    "fit.elnet = glmnet(x.train, y.train, family=\"gaussian\", nlambda = 150, alpha=.5)\n",
    "```\n",
    "\n",
    "\n",
    "Explore RIDGE REGRESSION\n",
    "Store regression coefficients for each predictor for each of the 150 lambdas in an object\n",
    "```{r}\n",
    "myCoefs = coef(fit.ridge)\n",
    "dim(myCoefs)\n",
    "```\n",
    "lambda = the actual lambda's randomly chosen \n",
    "Some results of regression coefficients for each lambda (columns) starting with the largest lambda\n",
    "```{r}\n",
    "fit.ridge$lambda[c(1:5)]\n",
    "myCoefs[1:15,1:5] \n",
    "```\n",
    "\n",
    "\n",
    "Plot the fit of the ridge regression models.  Each curve is a variable, so there are 76 curves.  The Y-axis represents the size of the regression coefficients, the X-axis is the log of the 150 lambdas.  Exponentiate the x-axis values and you'll obtain the actual lambda value.  The top of the graph lists the number of non-zero coefficients for the lambda at that location on the X-axis.  Note how the regression coefficients converge on 0.0 as lambda increases.\n",
    "```{r}\n",
    "plot(fit.ridge, xvar=\"lambda\")\n",
    "```\n",
    "\n",
    "Obtain a summary of the Ridge Regression results using the print function.  \n",
    "Df = the number on non-zero coefficients.\n",
    "%Dev = the percent (of null) deviance explained.\n",
    "lambda = ? \n",
    "Print will list the above information for all the lambdas specified by the model (150 in this model).  If the %Dev does not decrease enough for consecutive lambdas, printing stops.\n",
    "\n",
    "```{r}\n",
    "print(fit.ridge)\n",
    "```\n",
    "\n",
    "\n",
    "Perform cross validation using the training data to find the best lambda, the one with the smallest MSE (mean square error).\n",
    "Plot the cross-validation results.\n",
    "cv.glmnet outputs an object (cv.fit.ridge) which is a list of the elements of the cross-validation fit.  glmnet performs a k-fold cross-validation where the default is k=10.\n",
    "```{r}\n",
    "cv.fit.ridge = cv.glmnet(x.train, y.train)\n",
    "plot(cv.fit.ridge)\n",
    "```\n",
    "\n",
    "\n",
    "Examine the graph of the results of the Ridge Regression cross-validation.  glmnet performs a 10-fold cross-validation for each lambda.  In this case there were 150 lambdas specified, so there were 150 cross-validations.  The average MSE for each of the 150 cross-validations and the SD of the MSEs for each cross validation are plotted in the graph.  The vertical lines in the center of the graph are the lambda with the minimum mean MSE (lambda.min) and the lambda which gives the most regularized model such that error is within one standard error of the minimum (lambda.1se).\n",
    "\n",
    "\n",
    "Examine the minimum and 1SE lambdas.  The values that are printed below are the lambdas that correspond to the log(lambda) on the X-axis of the graph.\n",
    "```{r}\n",
    "cv.fit.ridge$lambda.min\n",
    "cv.fit.ridge$lambda.1se\n",
    "```\n",
    "\n",
    "Print the coefficients for the optimal lambda (lambda.min or lambda.1se)\n",
    "```{r}\n",
    "coef(cv.fit.ridge, s = \"lambda.min\")\n",
    "```\n",
    "\n",
    "\n",
    "Use the test data to try out the cross-validated model\n",
    "```{r}\n",
    "pred.ridge=predict(cv.fit.ridge, newx=x.test, s=\"lambda.min\")\n",
    "```\n",
    "\n",
    "\n",
    "Obtain the correlation between the predicted and actual scores.\n",
    "```{r}\n",
    "cor(pred.ridge,y.test)\n",
    "```\n",
    "\n",
    "\n",
    "Obtain the MSE between the predicted and actual scores.\n",
    "```{r}\n",
    "mse.ridge = mean((y.test - pred.ridge)^2)\n",
    "mse.ridge\n",
    "```\n",
    "\n",
    "\n",
    "\n",
    "RIDGE, LASSO, & ELASTIC NET REGRESSION\n",
    "\n",
    "Perform cross validation and accumulate results into objects fit0 to fit10 \n",
    "where each object contains the results from a different setting for alpha \n",
    "alpha = 0,.1,.2,...1.0.  For Ridge, alpha = 0, for Lasso, alpha = 1, and for elasticnet, alpha=.5\n",
    "```{r}\n",
    "for (i in 0:10) {\n",
    "assign(paste(\"fit\", i, sep=\"\"),\n",
    "cv.glmnet(x.train, y.train, type.measure=\"mse\", alpha=i/10, family=\"gaussian\"))\n",
    "}\n",
    "```\n",
    "\n",
    "\n",
    "Plot the results\n",
    "```{r}\n",
    "par(mfrow=c(3,2))\n",
    "plot(fit.lasso, xvar=\"lambda\", main=\"LASSO\", cex.main=.5)\n",
    "plot(fit10, main=\"LASSO\", cex.main=.5)\n",
    "plot(fit.ridge, xvar=\"lambda\", main=\"Ridge\", cex.main=.5)\n",
    "plot(fit0, main=\"Ridge\", cex.main=.5)\n",
    "plot(fit.elnet, xvar=\"lambda\", main=\"Elastic Net\", cex.main=.75)\n",
    "plot(fit5, main=\"Elastic Net\", cex.main=.5)\n",
    "```\n",
    "\n",
    "\n",
    "Obtain the predicted values using the test data for each fit\n",
    "```{r}\n",
    "yhat0 = predict(fit0, s=fit0$lambda.1se, newx=x.test)\n",
    "yhat1 = predict(fit1, s=fit1$lambda.1se, newx=x.test)\n",
    "yhat2 = predict(fit2, s=fit2$lambda.1se, newx=x.test)\n",
    "yhat3 = predict(fit3, s=fit3$lambda.1se, newx=x.test)\n",
    "yhat4 = predict(fit4, s=fit4$lambda.1se, newx=x.test)\n",
    "yhat5 = predict(fit5, s=fit5$lambda.1se, newx=x.test)\n",
    "yhat6 = predict(fit6, s=fit6$lambda.1se, newx=x.test)\n",
    "yhat7 = predict(fit7, s=fit7$lambda.1se, newx=x.test)\n",
    "yhat8 = predict(fit8, s=fit8$lambda.1se, newx=x.test)\n",
    "yhat9 = predict(fit9, s=fit9$lambda.1se, newx=x.test)\n",
    "yhat10 = predict(fit10, s=fit10$lambda.1se, newx=x.test)\n",
    "```\n",
    "\n",
    "\n",
    "Calculate MSE using the test data for each fit\n",
    "```{r}\n",
    "mse0 = mean((y.test - yhat0)^2)\n",
    "mse1 = mean((y.test - yhat1)^2)\n",
    "mse2 = mean((y.test - yhat2)^2)\n",
    "mse3 = mean((y.test - yhat3)^2)\n",
    "mse4 = mean((y.test - yhat4)^2)\n",
    "mse5 = mean((y.test - yhat5)^2)\n",
    "mse6 = mean((y.test - yhat6)^2)\n",
    "mse7 = mean((y.test - yhat7)^2)\n",
    "mse8 = mean((y.test - yhat8)^2)\n",
    "mse9 = mean((y.test - yhat9)^2)\n",
    "mse10 = mean((y.test - yhat10)^2)\n",
    "```\n",
    "\n",
    "\n",
    "\n",
    "Print MSE for each fit to see which model has the lowest MSE and is the winner.\n",
    "```{r}\n",
    "mse0  ##Ridge 0\n",
    "mse1  ##Enet .1\n",
    "mse2  ##Enet .2\n",
    "mse3  ##Enet .3\n",
    "mse4  ##Enet .4\n",
    "mse5  ##Enet .5\n",
    "mse6  ##Enet .6\n",
    "mse7  ##Enet .7\n",
    "mse8  ##Enet .8\n",
    "mse9  ##Enet .9\n",
    "mse10 ##LASSO 1\n",
    "```\n",
    "\n",
    "\n",
    "Which model has the best correlation between the predicted and actual Y variable in the test data?\n",
    "```{r}\n",
    "cor(yhat0,y.test) ##Ridge\n",
    "cor(yhat1,y.test) ##Enet .1\n",
    "cor(yhat2,y.test) ##Enet .2\n",
    "cor(yhat3,y.test) ##Enet .3\n",
    "cor(yhat4,y.test) ##Enet .4\n",
    "cor(yhat5,y.test) ##Enet .5\n",
    "cor(yhat6,y.test) ##Enet .6\n",
    "cor(yhat7,y.test) ##Enet .7\n",
    "cor(yhat8,y.test) ##Enet .8\n",
    "cor(yhat9,y.test) ##Enet .9\n",
    "cor(yhat10,y.test) ##LASSO"
   ]
  },
  {
   "cell_type": "code",
   "execution_count": null,
   "metadata": {},
   "outputs": [],
   "source": [
    "\\"
   ]
  }
 ],
 "metadata": {
  "kernelspec": {
   "display_name": "Python 3",
   "language": "python",
   "name": "python3"
  },
  "language_info": {
   "codemirror_mode": {
    "name": "ipython",
    "version": 3
   },
   "file_extension": ".py",
   "mimetype": "text/x-python",
   "name": "python",
   "nbconvert_exporter": "python",
   "pygments_lexer": "ipython3",
   "version": "3.7.3"
  }
 },
 "nbformat": 4,
 "nbformat_minor": 2
}
