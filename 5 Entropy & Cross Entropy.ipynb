{
 "cells": [
  {
   "cell_type": "code",
   "execution_count": 87,
   "metadata": {},
   "outputs": [],
   "source": [
    "import numpy as np\n",
    "import matplotlib.pyplot as plt\n",
    "import scipy\n",
    "from scipy import stats"
   ]
  },
  {
   "cell_type": "markdown",
   "metadata": {},
   "source": [
    "#### Create matrix of probability distributions for each level of the Interview Results"
   ]
  },
  {
   "cell_type": "code",
   "execution_count": 6,
   "metadata": {},
   "outputs": [
    {
     "data": {
      "text/plain": [
       "array([[7.500000e-01, 2.500000e-01],\n",
       "       [6.670000e-01, 3.330000e-01],\n",
       "       [1.000000e-07, 9.999999e-01]])"
      ]
     },
     "execution_count": 6,
     "metadata": {},
     "output_type": "execute_result"
    }
   ],
   "source": [
    "m0 = np.array([.75,.25,.667,.333,.0000001,.9999999]).reshape((3,-1))\n",
    "m0"
   ]
  },
  {
   "cell_type": "markdown",
   "metadata": {},
   "source": [
    "#### Create matrix of probabilities for the overall Hire Results"
   ]
  },
  {
   "cell_type": "code",
   "execution_count": 7,
   "metadata": {},
   "outputs": [
    {
     "data": {
      "text/plain": [
       "array([0.5, 0.5])"
      ]
     },
     "execution_count": 7,
     "metadata": {},
     "output_type": "execute_result"
    }
   ],
   "source": [
    "tot0=np.array([.5,.5])\n",
    "tot0"
   ]
  },
  {
   "cell_type": "markdown",
   "metadata": {},
   "source": [
    "#### Calculate the ENTROPY of the overall Hire Results"
   ]
  },
  {
   "cell_type": "code",
   "execution_count": 13,
   "metadata": {},
   "outputs": [
    {
     "data": {
      "text/plain": [
       "1.0"
      ]
     },
     "execution_count": 13,
     "metadata": {},
     "output_type": "execute_result"
    }
   ],
   "source": [
    "-(tot0*np.log2(tot0))\n",
    "hire=sum(-(tot0*np.log2(tot0)))\n",
    "hire"
   ]
  },
  {
   "cell_type": "markdown",
   "metadata": {},
   "source": [
    "#### Calculate the ENTROPY for the levels of the Interview Results"
   ]
  },
  {
   "cell_type": "code",
   "execution_count": 17,
   "metadata": {},
   "outputs": [
    {
     "name": "stdout",
     "output_type": "stream",
     "text": [
      "excel 0.8112781244591328\n",
      "good 0.9179621399872385\n",
      "poor 2.4696191632206375e-06\n",
      "interview 0.6252068011597582\n"
     ]
    }
   ],
   "source": [
    "excel= -(m0[0,0]*np.log2(m0[0,0]))-(m0[0,1]*np.log2(m0[0,1]))\n",
    "print('excel', excel)\n",
    "good = -(m0[1,0]*np.log2(m0[1,0]))-(m0[1,1]*np.log2(m0[1,1]))\n",
    "print('good', good)\n",
    "poor = -(m0[2,0]*np.log2(m0[2,0]))-(m0[2,1]*np.log2(m0[2,1]))\n",
    "print('poor', poor)\n",
    "\n",
    "interview = (4/14)*excel+(6/14)*good+(4/14)*poor\n",
    "print('interview', interview)"
   ]
  },
  {
   "cell_type": "markdown",
   "metadata": {},
   "source": [
    "#### Calculate Information Gain"
   ]
  },
  {
   "cell_type": "code",
   "execution_count": 18,
   "metadata": {},
   "outputs": [
    {
     "data": {
      "text/plain": [
       "0.37479319884024176"
      ]
     },
     "execution_count": 18,
     "metadata": {},
     "output_type": "execute_result"
    }
   ],
   "source": [
    "gain = hire-interview\n",
    "gain"
   ]
  },
  {
   "cell_type": "markdown",
   "metadata": {},
   "source": [
    "#### Cross-entropy using one-hot encoded vector"
   ]
  },
  {
   "cell_type": "code",
   "execution_count": 89,
   "metadata": {},
   "outputs": [
    {
     "data": {
      "text/plain": [
       "0.44628710262841953"
      ]
     },
     "execution_count": 89,
     "metadata": {},
     "output_type": "execute_result"
    }
   ],
   "source": [
    "P = [.10, .15, .05, .05, .01, .64]\n",
    "Q = [0,0,0,0,0,1]\n",
    "\n",
    "scipy.stats.entropy(Q,P)\n"
   ]
  },
  {
   "cell_type": "code",
   "execution_count": null,
   "metadata": {},
   "outputs": [],
   "source": []
  },
  {
   "cell_type": "code",
   "execution_count": null,
   "metadata": {},
   "outputs": [],
   "source": []
  },
  {
   "cell_type": "markdown",
   "metadata": {},
   "source": [
    "#### Define an actual and a predicted probability distribution with three categories in each distribution"
   ]
  },
  {
   "cell_type": "code",
   "execution_count": 20,
   "metadata": {},
   "outputs": [],
   "source": [
    "act = [0.10, 0.40, 0.50]\n",
    "pred = [0.80, 0.15, 0.05]"
   ]
  },
  {
   "cell_type": "markdown",
   "metadata": {},
   "source": [
    "#### Calculate the ENTROPY of the actual and predicted probability distributions with THEMSELVES"
   ]
  },
  {
   "cell_type": "code",
   "execution_count": 25,
   "metadata": {},
   "outputs": [
    {
     "data": {
      "text/plain": [
       "array([0.33219281, 0.52877124, 0.5       ])"
      ]
     },
     "execution_count": 25,
     "metadata": {},
     "output_type": "execute_result"
    }
   ],
   "source": [
    "-(act*np.log2(act))"
   ]
  },
  {
   "cell_type": "code",
   "execution_count": 26,
   "metadata": {},
   "outputs": [
    {
     "data": {
      "text/plain": [
       "1.360964047443681"
      ]
     },
     "execution_count": 26,
     "metadata": {},
     "output_type": "execute_result"
    }
   ],
   "source": [
    "sum(-(act*np.log2(act)))"
   ]
  },
  {
   "cell_type": "code",
   "execution_count": 27,
   "metadata": {},
   "outputs": [
    {
     "data": {
      "text/plain": [
       "array([0.25754248, 0.41054484, 0.2160964 ])"
      ]
     },
     "execution_count": 27,
     "metadata": {},
     "output_type": "execute_result"
    }
   ],
   "source": [
    "-(pred*np.log2(pred))"
   ]
  },
  {
   "cell_type": "code",
   "execution_count": 28,
   "metadata": {},
   "outputs": [
    {
     "data": {
      "text/plain": [
       "0.8841837197791889"
      ]
     },
     "execution_count": 28,
     "metadata": {},
     "output_type": "execute_result"
    }
   ],
   "source": [
    "sum(-(pred*np.log2(pred)))"
   ]
  },
  {
   "cell_type": "markdown",
   "metadata": {},
   "source": [
    "#### Plot the distributions of the category probabilities\n"
   ]
  },
  {
   "cell_type": "code",
   "execution_count": null,
   "metadata": {},
   "outputs": [],
   "source": []
  },
  {
   "cell_type": "code",
   "execution_count": 53,
   "metadata": {},
   "outputs": [
    {
     "data": {
      "image/png": "[encoded data removed]",
      "text/plain": [
       "<Figure size 1080x360 with 2 Axes>"
      ]
     },
     "metadata": {
      "needs_background": "light"
     },
     "output_type": "display_data"
    }
   ],
   "source": [
    "names = (\"red\",\"green\",\"blue\")\n",
    "y_pos = np.arange(len(names))\n",
    "\n",
    "plt.subplots(figsize=(15,5))\n",
    "plt.subplot(1, 2, 1)\n",
    "\n",
    "plt.bar(y_pos, act, align='center', alpha=0.5)\n",
    "plt.xticks(y_pos, names)\n",
    "plt.title('Actual Probabilities')\n",
    "plt.ylabel('Prob')\n",
    "plt.ylim((0,1))\n",
    "\n",
    "\n",
    "plt.subplot(1, 2, 2)\n",
    "plt.bar(y_pos, pred, align='center', alpha=0.5)\n",
    "plt.xticks(y_pos, names)\n",
    "plt.title('Predicted Probabilities')\n",
    "plt.ylabel('Prob')\n",
    "plt.ylim((0,1))\n",
    "\n",
    "plt.show()\n",
    "\n",
    "\n"
   ]
  },
  {
   "cell_type": "markdown",
   "metadata": {},
   "source": [
    "#### Calculating the cross-entropy of Actual vs Predicted probabilities is accumulating results category by category"
   ]
  },
  {
   "cell_type": "code",
   "execution_count": 54,
   "metadata": {},
   "outputs": [
    {
     "data": {
      "text/plain": [
       "3.2879430945989"
      ]
     },
     "execution_count": 54,
     "metadata": {},
     "output_type": "execute_result"
    }
   ],
   "source": [
    "-(((act[0])*np.log2(pred[0]))+\n",
    " ((act[1])*np.log2(pred[1]))+\n",
    " ((act[2])*np.log2(pred[2])))"
   ]
  },
  {
   "cell_type": "markdown",
   "metadata": {},
   "source": [
    "#### Cross-entropy is not symmetrical\n",
    "Calculate cross-entropy of Predicted vs Actual"
   ]
  },
  {
   "cell_type": "code",
   "execution_count": 55,
   "metadata": {},
   "outputs": [
    {
     "data": {
      "text/plain": [
       "2.9058316901429944"
      ]
     },
     "execution_count": 55,
     "metadata": {},
     "output_type": "execute_result"
    }
   ],
   "source": [
    "-((pred[0])*(np.log2(act[0]))+\n",
    " ((pred[1])*np.log2(act[1]))+\n",
    " ((pred[2])*np.log2(act[2])))"
   ]
  },
  {
   "cell_type": "markdown",
   "metadata": {},
   "source": [
    "Cross-entropy from comparing predicted vs actual discrete probability distributions.  \n",
    "First compare actual to predicted and then compare predicted to actual.  The results are not the same.  Cross-entropy is not symmetrical."
   ]
  },
  {
   "cell_type": "markdown",
   "metadata": {},
   "source": [
    "#### Calculate CROSS-ENTROPY of Actual & Predicted"
   ]
  },
  {
   "cell_type": "code",
   "execution_count": 65,
   "metadata": {},
   "outputs": [
    {
     "name": "stdout",
     "output_type": "stream",
     "text": [
      "[0.03219280948873623, 1.0947862376664825, 2.1609640474436813]\n"
     ]
    },
    {
     "data": {
      "text/plain": [
       "3.2879430945989"
      ]
     },
     "execution_count": 65,
     "metadata": {},
     "output_type": "execute_result"
    }
   ],
   "source": [
    "CE=[]\n",
    "for i in range(len(act)):\n",
    "    CE.append(-(act[i]*np.log2(pred[i])))\n",
    "print(CE)\n",
    "sum(CE)"
   ]
  },
  {
   "cell_type": "markdown",
   "metadata": {},
   "source": [
    "#### Calculate CROSS-ENTROPY of Predicted & Actual"
   ]
  },
  {
   "cell_type": "code",
   "execution_count": 66,
   "metadata": {},
   "outputs": [
    {
     "name": "stdout",
     "output_type": "stream",
     "text": [
      "[2.65754247590989, 0.19828921423310433, 0.05]\n"
     ]
    },
    {
     "data": {
      "text/plain": [
       "2.9058316901429944"
      ]
     },
     "execution_count": 66,
     "metadata": {},
     "output_type": "execute_result"
    }
   ],
   "source": [
    "CE=[]\n",
    "for i in range(len(act)):\n",
    "    CE.append(-(pred[i]*np.log2(act[i])))\n",
    "print(CE)\n",
    "sum(CE)"
   ]
  },
  {
   "cell_type": "markdown",
   "metadata": {},
   "source": [
    "#### Create a FUNCTION for calculating cross-entropy"
   ]
  },
  {
   "cell_type": "code",
   "execution_count": 70,
   "metadata": {},
   "outputs": [],
   "source": [
    "def cross_entropy(act, pred):\n",
    "    CE = []\n",
    "    for i in range(len(act)):\n",
    "        CE.append(-(act[i]*np.log2(pred[i])))\n",
    "    return(sum(CE))"
   ]
  },
  {
   "cell_type": "markdown",
   "metadata": {},
   "source": [
    "#### Calculate the cross-entropy of the actual and predicted probability distributions with THEMSELVES\n",
    "That is, calculate the ENTROPY of a probability distribution"
   ]
  },
  {
   "cell_type": "code",
   "execution_count": 74,
   "metadata": {},
   "outputs": [
    {
     "name": "stdout",
     "output_type": "stream",
     "text": [
      "1.360964047443681\n",
      "0.8841837197791889\n"
     ]
    }
   ],
   "source": [
    "ce0=0\n",
    "ce0 = cross_entropy(act,act)\n",
    "print(ce0)\n",
    "ce1=0\n",
    "ce1 = cross_entropy(pred,pred)\n",
    "print(ce1)"
   ]
  },
  {
   "cell_type": "code",
   "execution_count": 75,
   "metadata": {},
   "outputs": [
    {
     "name": "stdout",
     "output_type": "stream",
     "text": [
      "3.2879430945989\n",
      "2.9058316901429944\n"
     ]
    }
   ],
   "source": [
    "ce0=0\n",
    "ce0 = cross_entropy(act,pred)\n",
    "print(ce0)\n",
    "ce1=0\n",
    "ce1 = cross_entropy(pred,act)\n",
    "print(ce1)"
   ]
  },
  {
   "cell_type": "markdown",
   "metadata": {},
   "source": [
    "#### Create a function to calculate K-L DIVERGENCE"
   ]
  },
  {
   "cell_type": "code",
   "execution_count": 80,
   "metadata": {},
   "outputs": [],
   "source": [
    "def kl_divergence(act, pred):\n",
    "    KL = []\n",
    "    for i in range(len(act)):\n",
    "        KL.append(-(act[i]*np.log2(act[i]/pred[i])))\n",
    "    return(sum(KL))"
   ]
  },
  {
   "cell_type": "code",
   "execution_count": 81,
   "metadata": {},
   "outputs": [
    {
     "data": {
      "text/plain": [
       "1.9269790471552186"
      ]
     },
     "execution_count": 81,
     "metadata": {},
     "output_type": "execute_result"
    }
   ],
   "source": [
    "-kl_divergence(act,pred)"
   ]
  },
  {
   "cell_type": "code",
   "execution_count": 82,
   "metadata": {},
   "outputs": [
    {
     "data": {
      "text/plain": [
       "2.0216479703638055"
      ]
     },
     "execution_count": 82,
     "metadata": {},
     "output_type": "execute_result"
    }
   ],
   "source": [
    "-kl_divergence(pred,act)"
   ]
  },
  {
   "cell_type": "code",
   "execution_count": null,
   "metadata": {},
   "outputs": [],
   "source": []
  },
  {
   "cell_type": "code",
   "execution_count": null,
   "metadata": {},
   "outputs": [],
   "source": []
  }
 ],
 "metadata": {
  "kernelspec": {
   "display_name": "Python 3",
   "language": "python",
   "name": "python3"
  },
  "language_info": {
   "codemirror_mode": {
    "name": "ipython",
    "version": 3
   },
   "file_extension": ".py",
   "mimetype": "text/x-python",
   "name": "python",
   "nbconvert_exporter": "python",
   "pygments_lexer": "ipython3",
   "version": "3.7.3"
  },
  "varInspector": {
   "cols": {
    "lenName": 16,
    "lenType": 16,
    "lenVar": 40
   },
   "kernels_config": {
    "python": {
     "delete_cmd_postfix": "",
     "delete_cmd_prefix": "del ",
     "library": "var_list.py",
     "varRefreshCmd": "print(var_dic_list())"
    },
    "r": {
     "delete_cmd_postfix": ") ",
     "delete_cmd_prefix": "rm(",
     "library": "var_list.r",
     "varRefreshCmd": "cat(var_dic_list()) "
    }
   },
   "types_to_exclude": [
    "module",
    "function",
    "builtin_function_or_method",
    "instance",
    "_Feature"
   ],
   "window_display": true
  }
 },
 "nbformat": 4,
 "nbformat_minor": 4
}
