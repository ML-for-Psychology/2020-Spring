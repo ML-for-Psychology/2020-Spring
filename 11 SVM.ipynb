{
 "cells": [
  {
   "cell_type": "code",
   "execution_count": 1,
   "metadata": {},
   "outputs": [],
   "source": [
    "import numpy as np\n",
    "import pandas as pd\n",
    "import seaborn as sns\n",
    "import matplotlib.pyplot as plt\n",
    "%matplotlib inline"
   ]
  },
  {
   "cell_type": "code",
   "execution_count": 2,
   "metadata": {},
   "outputs": [],
   "source": [
    "from sklearn import svm"
   ]
  },
  {
   "cell_type": "markdown",
   "metadata": {},
   "source": [
    "### Create data set"
   ]
  },
  {
   "cell_type": "markdown",
   "metadata": {},
   "source": [
    "### Lets use 20 observations with two classes\n",
    "#### Complete independent classes"
   ]
  },
  {
   "cell_type": "code",
   "execution_count": 3,
   "metadata": {},
   "outputs": [
    {
     "data": {
      "text/plain": [
       "array([[-1.02999341, -0.19705285],\n",
       "       [-0.10788389, -0.80466738],\n",
       "       [-0.88159253, -0.59866794],\n",
       "       [-0.8884307 , -0.26407617],\n",
       "       [ 0.35381492, -1.67665672],\n",
       "       [ 0.13524459,  0.71130081],\n",
       "       [-0.48963495,  0.63761886],\n",
       "       [ 1.05095318,  0.86136763],\n",
       "       [-0.17971637, -0.59725422],\n",
       "       [-0.93155549, -0.88237589],\n",
       "       [-0.22439105,  0.46860086],\n",
       "       [ 0.04137992, -0.03482672],\n",
       "       [ 0.73404839,  0.47295498],\n",
       "       [ 0.52879305, -0.62395735],\n",
       "       [ 0.7377449 ,  0.3408244 ],\n",
       "       [-1.03333605, -1.27593512],\n",
       "       [ 0.57975568,  0.31962278],\n",
       "       [ 1.34083555,  1.32017708],\n",
       "       [ 0.17260363,  0.46460201],\n",
       "       [-0.73120859,  0.73469875]])"
      ]
     },
     "execution_count": 3,
     "metadata": {},
     "output_type": "execute_result"
    }
   ],
   "source": [
    "X0 = np.random.normal(0, 1, (20, 2))  #create a random values array, mean=0, stddev=1, size=20*2\n",
    "X0"
   ]
  },
  {
   "cell_type": "code",
   "execution_count": 4,
   "metadata": {},
   "outputs": [
    {
     "data": {
      "text/plain": [
       "array([-1, -1, -1, -1, -1, -1, -1, -1, -1, -1,  1,  1,  1,  1,  1,  1,  1,\n",
       "        1,  1,  1])"
      ]
     },
     "execution_count": 4,
     "metadata": {},
     "output_type": "execute_result"
    }
   ],
   "source": [
    "y0 = np.concatenate((\n",
    "    np.full(10, -1), \n",
    "    np.full(10, 1)\n",
    "))\n",
    "y0"
   ]
  },
  {
   "cell_type": "code",
   "execution_count": 5,
   "metadata": {},
   "outputs": [
    {
     "data": {
      "text/plain": [
       "array([[-1.02999341, -0.19705285],\n",
       "       [-0.10788389, -0.80466738],\n",
       "       [-0.88159253, -0.59866794],\n",
       "       [-0.8884307 , -0.26407617],\n",
       "       [ 0.35381492, -1.67665672],\n",
       "       [ 0.13524459,  0.71130081],\n",
       "       [-0.48963495,  0.63761886],\n",
       "       [ 1.05095318,  0.86136763],\n",
       "       [-0.17971637, -0.59725422],\n",
       "       [-0.93155549, -0.88237589],\n",
       "       [ 2.27560895,  2.96860086],\n",
       "       [ 2.54137992,  2.46517328],\n",
       "       [ 3.23404839,  2.97295498],\n",
       "       [ 3.02879305,  1.87604265],\n",
       "       [ 3.2377449 ,  2.8408244 ],\n",
       "       [ 1.46666395,  1.22406488],\n",
       "       [ 3.07975568,  2.81962278],\n",
       "       [ 3.84083555,  3.82017708],\n",
       "       [ 2.67260363,  2.96460201],\n",
       "       [ 1.76879141,  3.23469875]])"
      ]
     },
     "execution_count": 5,
     "metadata": {},
     "output_type": "execute_result"
    }
   ],
   "source": [
    "X0[y0==1,] = X0[y0==1,] + 5/2\n",
    "X0"
   ]
  },
  {
   "cell_type": "code",
   "execution_count": 6,
   "metadata": {},
   "outputs": [
    {
     "data": {
      "text/html": [
       "<div>\n",
       "<style scoped>\n",
       "    .dataframe tbody tr th:only-of-type {\n",
       "        vertical-align: middle;\n",
       "    }\n",
       "\n",
       "    .dataframe tbody tr th {\n",
       "        vertical-align: top;\n",
       "    }\n",
       "\n",
       "    .dataframe thead th {\n",
       "        text-align: right;\n",
       "    }\n",
       "</style>\n",
       "<table border=\"1\" class=\"dataframe\">\n",
       "  <thead>\n",
       "    <tr style=\"text-align: right;\">\n",
       "      <th></th>\n",
       "      <th>0</th>\n",
       "      <th>1</th>\n",
       "      <th>2</th>\n",
       "    </tr>\n",
       "  </thead>\n",
       "  <tbody>\n",
       "    <tr>\n",
       "      <th>0</th>\n",
       "      <td>-1.029993</td>\n",
       "      <td>-0.197053</td>\n",
       "      <td>-1.0</td>\n",
       "    </tr>\n",
       "    <tr>\n",
       "      <th>1</th>\n",
       "      <td>-0.107884</td>\n",
       "      <td>-0.804667</td>\n",
       "      <td>-1.0</td>\n",
       "    </tr>\n",
       "    <tr>\n",
       "      <th>2</th>\n",
       "      <td>-0.881593</td>\n",
       "      <td>-0.598668</td>\n",
       "      <td>-1.0</td>\n",
       "    </tr>\n",
       "    <tr>\n",
       "      <th>3</th>\n",
       "      <td>-0.888431</td>\n",
       "      <td>-0.264076</td>\n",
       "      <td>-1.0</td>\n",
       "    </tr>\n",
       "    <tr>\n",
       "      <th>4</th>\n",
       "      <td>0.353815</td>\n",
       "      <td>-1.676657</td>\n",
       "      <td>-1.0</td>\n",
       "    </tr>\n",
       "    <tr>\n",
       "      <th>5</th>\n",
       "      <td>0.135245</td>\n",
       "      <td>0.711301</td>\n",
       "      <td>-1.0</td>\n",
       "    </tr>\n",
       "    <tr>\n",
       "      <th>6</th>\n",
       "      <td>-0.489635</td>\n",
       "      <td>0.637619</td>\n",
       "      <td>-1.0</td>\n",
       "    </tr>\n",
       "    <tr>\n",
       "      <th>7</th>\n",
       "      <td>1.050953</td>\n",
       "      <td>0.861368</td>\n",
       "      <td>-1.0</td>\n",
       "    </tr>\n",
       "    <tr>\n",
       "      <th>8</th>\n",
       "      <td>-0.179716</td>\n",
       "      <td>-0.597254</td>\n",
       "      <td>-1.0</td>\n",
       "    </tr>\n",
       "    <tr>\n",
       "      <th>9</th>\n",
       "      <td>-0.931555</td>\n",
       "      <td>-0.882376</td>\n",
       "      <td>-1.0</td>\n",
       "    </tr>\n",
       "    <tr>\n",
       "      <th>10</th>\n",
       "      <td>2.275609</td>\n",
       "      <td>2.968601</td>\n",
       "      <td>1.0</td>\n",
       "    </tr>\n",
       "    <tr>\n",
       "      <th>11</th>\n",
       "      <td>2.541380</td>\n",
       "      <td>2.465173</td>\n",
       "      <td>1.0</td>\n",
       "    </tr>\n",
       "    <tr>\n",
       "      <th>12</th>\n",
       "      <td>3.234048</td>\n",
       "      <td>2.972955</td>\n",
       "      <td>1.0</td>\n",
       "    </tr>\n",
       "    <tr>\n",
       "      <th>13</th>\n",
       "      <td>3.028793</td>\n",
       "      <td>1.876043</td>\n",
       "      <td>1.0</td>\n",
       "    </tr>\n",
       "    <tr>\n",
       "      <th>14</th>\n",
       "      <td>3.237745</td>\n",
       "      <td>2.840824</td>\n",
       "      <td>1.0</td>\n",
       "    </tr>\n",
       "    <tr>\n",
       "      <th>15</th>\n",
       "      <td>1.466664</td>\n",
       "      <td>1.224065</td>\n",
       "      <td>1.0</td>\n",
       "    </tr>\n",
       "    <tr>\n",
       "      <th>16</th>\n",
       "      <td>3.079756</td>\n",
       "      <td>2.819623</td>\n",
       "      <td>1.0</td>\n",
       "    </tr>\n",
       "    <tr>\n",
       "      <th>17</th>\n",
       "      <td>3.840836</td>\n",
       "      <td>3.820177</td>\n",
       "      <td>1.0</td>\n",
       "    </tr>\n",
       "    <tr>\n",
       "      <th>18</th>\n",
       "      <td>2.672604</td>\n",
       "      <td>2.964602</td>\n",
       "      <td>1.0</td>\n",
       "    </tr>\n",
       "    <tr>\n",
       "      <th>19</th>\n",
       "      <td>1.768791</td>\n",
       "      <td>3.234699</td>\n",
       "      <td>1.0</td>\n",
       "    </tr>\n",
       "  </tbody>\n",
       "</table>\n",
       "</div>"
      ],
      "text/plain": [
       "           0         1    2\n",
       "0  -1.029993 -0.197053 -1.0\n",
       "1  -0.107884 -0.804667 -1.0\n",
       "2  -0.881593 -0.598668 -1.0\n",
       "3  -0.888431 -0.264076 -1.0\n",
       "4   0.353815 -1.676657 -1.0\n",
       "5   0.135245  0.711301 -1.0\n",
       "6  -0.489635  0.637619 -1.0\n",
       "7   1.050953  0.861368 -1.0\n",
       "8  -0.179716 -0.597254 -1.0\n",
       "9  -0.931555 -0.882376 -1.0\n",
       "10  2.275609  2.968601  1.0\n",
       "11  2.541380  2.465173  1.0\n",
       "12  3.234048  2.972955  1.0\n",
       "13  3.028793  1.876043  1.0\n",
       "14  3.237745  2.840824  1.0\n",
       "15  1.466664  1.224065  1.0\n",
       "16  3.079756  2.819623  1.0\n",
       "17  3.840836  3.820177  1.0\n",
       "18  2.672604  2.964602  1.0\n",
       "19  1.768791  3.234699  1.0"
      ]
     },
     "execution_count": 6,
     "metadata": {},
     "output_type": "execute_result"
    }
   ],
   "source": [
    "dat0 = pd.DataFrame(np.column_stack((X0,y0)))\n",
    "dat0\n"
   ]
  },
  {
   "cell_type": "code",
   "execution_count": 7,
   "metadata": {
    "scrolled": true
   },
   "outputs": [
    {
     "name": "stdout",
     "output_type": "stream",
     "text": [
      "<class 'pandas.core.frame.DataFrame'>\n",
      "RangeIndex: 20 entries, 0 to 19\n",
      "Data columns (total 3 columns):\n",
      " #   Column  Non-Null Count  Dtype   \n",
      "---  ------  --------------  -----   \n",
      " 0   0       20 non-null     float64 \n",
      " 1   1       20 non-null     float64 \n",
      " 2   2       20 non-null     category\n",
      "dtypes: category(1), float64(2)\n",
      "memory usage: 564.0 bytes\n"
     ]
    }
   ],
   "source": [
    "dat0[2] = dat0[2].astype('category')\n",
    "dat0.info()"
   ]
  },
  {
   "cell_type": "markdown",
   "metadata": {},
   "source": [
    "## Plot data"
   ]
  },
  {
   "cell_type": "code",
   "execution_count": 8,
   "metadata": {},
   "outputs": [
    {
     "data": {
      "image/png": "[encoded data removed]",
      "text/plain": [
       "<Figure size 432x288 with 1 Axes>"
      ]
     },
     "metadata": {},
     "output_type": "display_data"
    }
   ],
   "source": [
    "plt.style.use('seaborn-pastel')\n",
    "sns.set(style=\"ticks\")\n",
    "\n",
    "ax = sns.scatterplot(x=0, y=1, hue=2, style=2, data=dat0)"
   ]
  },
  {
   "cell_type": "markdown",
   "metadata": {},
   "source": [
    "# 1. Maximal Margin Classifier"
   ]
  },
  {
   "cell_type": "markdown",
   "metadata": {},
   "source": [
    "### Simple Linear Support Vector Machine"
   ]
  },
  {
   "cell_type": "code",
   "execution_count": 9,
   "metadata": {},
   "outputs": [],
   "source": [
    "# https://scikit-learn.org/stable/modules/generated/sklearn.svm.LinearSVC.html#sklearn.svm.LinearSVC\n",
    "from sklearn.svm import LinearSVC, SVC"
   ]
  },
  {
   "cell_type": "code",
   "execution_count": 10,
   "metadata": {},
   "outputs": [
    {
     "data": {
      "text/plain": [
       "LinearSVC(C=1.0, class_weight=None, dual=True, fit_intercept=True,\n",
       "          intercept_scaling=1, loss='squared_hinge', max_iter=1000,\n",
       "          multi_class='ovr', penalty='l2', random_state=0, tol=1e-05,\n",
       "          verbose=0)"
      ]
     },
     "execution_count": 10,
     "metadata": {},
     "output_type": "execute_result"
    }
   ],
   "source": [
    "svm_0 = LinearSVC(random_state=0, tol=1e-5)  #tol = tolerance for stopping criteria.\n",
    "svm_0.fit(dat0.iloc[:,:2], dat0.iloc[:,-1])"
   ]
  },
  {
   "cell_type": "code",
   "execution_count": 11,
   "metadata": {},
   "outputs": [
    {
     "data": {
      "image/png": "[encoded data removed]",
      "text/plain": [
       "<Figure size 432x288 with 1 Axes>"
      ]
     },
     "metadata": {},
     "output_type": "display_data"
    }
   ],
   "source": [
    "ax = sns.scatterplot(x=0, y=1, hue=2, style=2, data=dat0)\n",
    "\n",
    "# Create the hyperplane\n",
    "w = svm_0.coef_[0]\n",
    "a = -w[0] / w[1]\n",
    "xx = np.linspace(min(dat0[0]), max(dat0[0]))\n",
    "yy = a * xx - (svm_0.intercept_[0]) / w[1]\n",
    "\n",
    "ax = plt.plot(xx, yy)"
   ]
  },
  {
   "cell_type": "markdown",
   "metadata": {},
   "source": [
    "# 2. Support Vector Classifier"
   ]
  },
  {
   "cell_type": "markdown",
   "metadata": {},
   "source": [
    "### Lets use 20 observations with two classes\n",
    "#### observations cannot be completely separated"
   ]
  },
  {
   "cell_type": "code",
   "execution_count": 12,
   "metadata": {},
   "outputs": [
    {
     "data": {
      "text/plain": [
       "array([[-2.40386059,  0.19610518],\n",
       "       [ 1.29883917,  0.26937992],\n",
       "       [-1.56323852,  1.83649643],\n",
       "       [ 1.03548821, -0.92361534],\n",
       "       [-2.60504147,  1.07994676],\n",
       "       [-1.06744351,  0.45297279],\n",
       "       [ 0.95794944, -0.21499934],\n",
       "       [ 0.05121185,  0.03996696],\n",
       "       [ 0.70115713, -0.89450204],\n",
       "       [ 0.02882514, -2.1803509 ],\n",
       "       [-0.68672366, -0.47892291],\n",
       "       [-1.75135773,  0.13518816],\n",
       "       [-0.5513832 , -1.07777992],\n",
       "       [-1.1644851 ,  0.05104247],\n",
       "       [ 0.08602395,  0.28859351],\n",
       "       [-0.63439317,  0.75862888],\n",
       "       [-0.64111634,  0.10996643],\n",
       "       [-0.82041527,  0.66419439],\n",
       "       [-0.34971006, -0.09354071],\n",
       "       [ 0.57052838,  0.73064819]])"
      ]
     },
     "execution_count": 12,
     "metadata": {},
     "output_type": "execute_result"
    }
   ],
   "source": [
    "X1 = np.random.normal(0, 1, (20, 2))  #create a random values array, mean=0, stddev=1, size=20*2\n",
    "X1"
   ]
  },
  {
   "cell_type": "code",
   "execution_count": 13,
   "metadata": {},
   "outputs": [
    {
     "data": {
      "text/plain": [
       "array([-1, -1, -1, -1, -1, -1, -1, -1, -1, -1,  1,  1,  1,  1,  1,  1,  1,\n",
       "        1,  1,  1])"
      ]
     },
     "execution_count": 13,
     "metadata": {},
     "output_type": "execute_result"
    }
   ],
   "source": [
    "y1 = np.concatenate((\n",
    "    np.full(10, -1), \n",
    "    np.full(10, 1)\n",
    "))\n",
    "y1"
   ]
  },
  {
   "cell_type": "code",
   "execution_count": 14,
   "metadata": {},
   "outputs": [
    {
     "data": {
      "text/plain": [
       "array([[-2.40386059,  0.19610518],\n",
       "       [ 1.29883917,  0.26937992],\n",
       "       [-1.56323852,  1.83649643],\n",
       "       [ 1.03548821, -0.92361534],\n",
       "       [-2.60504147,  1.07994676],\n",
       "       [-1.06744351,  0.45297279],\n",
       "       [ 0.95794944, -0.21499934],\n",
       "       [ 0.05121185,  0.03996696],\n",
       "       [ 0.70115713, -0.89450204],\n",
       "       [ 0.02882514, -2.1803509 ],\n",
       "       [ 0.31327634,  0.52107709],\n",
       "       [-0.75135773,  1.13518816],\n",
       "       [ 0.4486168 , -0.07777992],\n",
       "       [-0.1644851 ,  1.05104247],\n",
       "       [ 1.08602395,  1.28859351],\n",
       "       [ 0.36560683,  1.75862888],\n",
       "       [ 0.35888366,  1.10996643],\n",
       "       [ 0.17958473,  1.66419439],\n",
       "       [ 0.65028994,  0.90645929],\n",
       "       [ 1.57052838,  1.73064819]])"
      ]
     },
     "execution_count": 14,
     "metadata": {},
     "output_type": "execute_result"
    }
   ],
   "source": [
    "X1[y1==1,] = X1[y1==1,] + 1\n",
    "X1"
   ]
  },
  {
   "cell_type": "code",
   "execution_count": 15,
   "metadata": {},
   "outputs": [
    {
     "data": {
      "text/html": [
       "<div>\n",
       "<style scoped>\n",
       "    .dataframe tbody tr th:only-of-type {\n",
       "        vertical-align: middle;\n",
       "    }\n",
       "\n",
       "    .dataframe tbody tr th {\n",
       "        vertical-align: top;\n",
       "    }\n",
       "\n",
       "    .dataframe thead th {\n",
       "        text-align: right;\n",
       "    }\n",
       "</style>\n",
       "<table border=\"1\" class=\"dataframe\">\n",
       "  <thead>\n",
       "    <tr style=\"text-align: right;\">\n",
       "      <th></th>\n",
       "      <th>0</th>\n",
       "      <th>1</th>\n",
       "      <th>2</th>\n",
       "    </tr>\n",
       "  </thead>\n",
       "  <tbody>\n",
       "    <tr>\n",
       "      <th>0</th>\n",
       "      <td>-2.403861</td>\n",
       "      <td>0.196105</td>\n",
       "      <td>-1.0</td>\n",
       "    </tr>\n",
       "    <tr>\n",
       "      <th>1</th>\n",
       "      <td>1.298839</td>\n",
       "      <td>0.269380</td>\n",
       "      <td>-1.0</td>\n",
       "    </tr>\n",
       "    <tr>\n",
       "      <th>2</th>\n",
       "      <td>-1.563239</td>\n",
       "      <td>1.836496</td>\n",
       "      <td>-1.0</td>\n",
       "    </tr>\n",
       "    <tr>\n",
       "      <th>3</th>\n",
       "      <td>1.035488</td>\n",
       "      <td>-0.923615</td>\n",
       "      <td>-1.0</td>\n",
       "    </tr>\n",
       "    <tr>\n",
       "      <th>4</th>\n",
       "      <td>-2.605041</td>\n",
       "      <td>1.079947</td>\n",
       "      <td>-1.0</td>\n",
       "    </tr>\n",
       "    <tr>\n",
       "      <th>5</th>\n",
       "      <td>-1.067444</td>\n",
       "      <td>0.452973</td>\n",
       "      <td>-1.0</td>\n",
       "    </tr>\n",
       "    <tr>\n",
       "      <th>6</th>\n",
       "      <td>0.957949</td>\n",
       "      <td>-0.214999</td>\n",
       "      <td>-1.0</td>\n",
       "    </tr>\n",
       "    <tr>\n",
       "      <th>7</th>\n",
       "      <td>0.051212</td>\n",
       "      <td>0.039967</td>\n",
       "      <td>-1.0</td>\n",
       "    </tr>\n",
       "    <tr>\n",
       "      <th>8</th>\n",
       "      <td>0.701157</td>\n",
       "      <td>-0.894502</td>\n",
       "      <td>-1.0</td>\n",
       "    </tr>\n",
       "    <tr>\n",
       "      <th>9</th>\n",
       "      <td>0.028825</td>\n",
       "      <td>-2.180351</td>\n",
       "      <td>-1.0</td>\n",
       "    </tr>\n",
       "    <tr>\n",
       "      <th>10</th>\n",
       "      <td>0.313276</td>\n",
       "      <td>0.521077</td>\n",
       "      <td>1.0</td>\n",
       "    </tr>\n",
       "    <tr>\n",
       "      <th>11</th>\n",
       "      <td>-0.751358</td>\n",
       "      <td>1.135188</td>\n",
       "      <td>1.0</td>\n",
       "    </tr>\n",
       "    <tr>\n",
       "      <th>12</th>\n",
       "      <td>0.448617</td>\n",
       "      <td>-0.077780</td>\n",
       "      <td>1.0</td>\n",
       "    </tr>\n",
       "    <tr>\n",
       "      <th>13</th>\n",
       "      <td>-0.164485</td>\n",
       "      <td>1.051042</td>\n",
       "      <td>1.0</td>\n",
       "    </tr>\n",
       "    <tr>\n",
       "      <th>14</th>\n",
       "      <td>1.086024</td>\n",
       "      <td>1.288594</td>\n",
       "      <td>1.0</td>\n",
       "    </tr>\n",
       "    <tr>\n",
       "      <th>15</th>\n",
       "      <td>0.365607</td>\n",
       "      <td>1.758629</td>\n",
       "      <td>1.0</td>\n",
       "    </tr>\n",
       "    <tr>\n",
       "      <th>16</th>\n",
       "      <td>0.358884</td>\n",
       "      <td>1.109966</td>\n",
       "      <td>1.0</td>\n",
       "    </tr>\n",
       "    <tr>\n",
       "      <th>17</th>\n",
       "      <td>0.179585</td>\n",
       "      <td>1.664194</td>\n",
       "      <td>1.0</td>\n",
       "    </tr>\n",
       "    <tr>\n",
       "      <th>18</th>\n",
       "      <td>0.650290</td>\n",
       "      <td>0.906459</td>\n",
       "      <td>1.0</td>\n",
       "    </tr>\n",
       "    <tr>\n",
       "      <th>19</th>\n",
       "      <td>1.570528</td>\n",
       "      <td>1.730648</td>\n",
       "      <td>1.0</td>\n",
       "    </tr>\n",
       "  </tbody>\n",
       "</table>\n",
       "</div>"
      ],
      "text/plain": [
       "           0         1    2\n",
       "0  -2.403861  0.196105 -1.0\n",
       "1   1.298839  0.269380 -1.0\n",
       "2  -1.563239  1.836496 -1.0\n",
       "3   1.035488 -0.923615 -1.0\n",
       "4  -2.605041  1.079947 -1.0\n",
       "5  -1.067444  0.452973 -1.0\n",
       "6   0.957949 -0.214999 -1.0\n",
       "7   0.051212  0.039967 -1.0\n",
       "8   0.701157 -0.894502 -1.0\n",
       "9   0.028825 -2.180351 -1.0\n",
       "10  0.313276  0.521077  1.0\n",
       "11 -0.751358  1.135188  1.0\n",
       "12  0.448617 -0.077780  1.0\n",
       "13 -0.164485  1.051042  1.0\n",
       "14  1.086024  1.288594  1.0\n",
       "15  0.365607  1.758629  1.0\n",
       "16  0.358884  1.109966  1.0\n",
       "17  0.179585  1.664194  1.0\n",
       "18  0.650290  0.906459  1.0\n",
       "19  1.570528  1.730648  1.0"
      ]
     },
     "execution_count": 15,
     "metadata": {},
     "output_type": "execute_result"
    }
   ],
   "source": [
    "dat1 = pd.DataFrame(np.column_stack((X1,y1)))\n",
    "dat1"
   ]
  },
  {
   "cell_type": "code",
   "execution_count": 16,
   "metadata": {
    "scrolled": true
   },
   "outputs": [
    {
     "name": "stdout",
     "output_type": "stream",
     "text": [
      "<class 'pandas.core.frame.DataFrame'>\n",
      "RangeIndex: 20 entries, 0 to 19\n",
      "Data columns (total 3 columns):\n",
      " #   Column  Non-Null Count  Dtype   \n",
      "---  ------  --------------  -----   \n",
      " 0   0       20 non-null     float64 \n",
      " 1   1       20 non-null     float64 \n",
      " 2   2       20 non-null     category\n",
      "dtypes: category(1), float64(2)\n",
      "memory usage: 564.0 bytes\n"
     ]
    }
   ],
   "source": [
    "dat1[2] = dat1[2].astype('category')\n",
    "dat1.info()"
   ]
  },
  {
   "cell_type": "markdown",
   "metadata": {},
   "source": [
    "## Plot data"
   ]
  },
  {
   "cell_type": "code",
   "execution_count": 17,
   "metadata": {},
   "outputs": [
    {
     "data": {
      "image/png": "[encoded data removed]",
      "text/plain": [
       "<Figure size 432x288 with 1 Axes>"
      ]
     },
     "metadata": {},
     "output_type": "display_data"
    }
   ],
   "source": [
    "plt.style.use('seaborn-pastel')\n",
    "sns.set(style=\"ticks\")\n",
    "\n",
    "ax = sns.scatterplot(x=0, y=1, hue=2, style=2, data=dat1)"
   ]
  },
  {
   "cell_type": "code",
   "execution_count": 18,
   "metadata": {},
   "outputs": [],
   "source": [
    "# https://scikit-learn.org/stable/modules/generated/sklearn.svm.LinearSVC.html#sklearn.svm.LinearSVC\n",
    "from sklearn.svm import LinearSVC"
   ]
  },
  {
   "cell_type": "code",
   "execution_count": 19,
   "metadata": {},
   "outputs": [
    {
     "name": "stderr",
     "output_type": "stream",
     "text": [
      "/Users/catalina/opt/anaconda3/lib/python3.7/site-packages/sklearn/svm/_base.py:947: ConvergenceWarning: Liblinear failed to converge, increase the number of iterations.\n",
      "  \"the number of iterations.\", ConvergenceWarning)\n"
     ]
    },
    {
     "data": {
      "text/plain": [
       "LinearSVC(C=10, class_weight=None, dual=True, fit_intercept=True,\n",
       "          intercept_scaling=1, loss='squared_hinge', max_iter=1000,\n",
       "          multi_class='ovr', penalty='l2', random_state=0, tol=1e-05,\n",
       "          verbose=0)"
      ]
     },
     "execution_count": 19,
     "metadata": {},
     "output_type": "execute_result"
    }
   ],
   "source": [
    "svm_1 = LinearSVC(random_state=0, tol=1e-5, C=10)  #tol = tolerance for stopping criteria.\n",
    "svm_1.fit(dat1.iloc[:,:2], dat1.iloc[:,-1])"
   ]
  },
  {
   "cell_type": "code",
   "execution_count": 20,
   "metadata": {},
   "outputs": [
    {
     "data": {
      "image/png": "[encoded data removed]",
      "text/plain": [
       "<Figure size 432x288 with 1 Axes>"
      ]
     },
     "metadata": {},
     "output_type": "display_data"
    }
   ],
   "source": [
    "ax = sns.scatterplot(x=0, y=1, hue=2, style=2, data=dat1)\n",
    "\n",
    "# Create the hyperplane\n",
    "w = svm_1.coef_[0]\n",
    "a = -w[0] / w[1]\n",
    "xx = np.linspace(min(dat1[0]), max(dat1[0]))\n",
    "yy = a * xx - (svm_1.intercept_[0]) / w[1]\n",
    "\n",
    "ax = plt.plot(xx, yy)"
   ]
  },
  {
   "cell_type": "code",
   "execution_count": null,
   "metadata": {},
   "outputs": [],
   "source": []
  },
  {
   "cell_type": "markdown",
   "metadata": {},
   "source": [
    "Find the best options for parameters"
   ]
  },
  {
   "cell_type": "code",
   "execution_count": 21,
   "metadata": {},
   "outputs": [
    {
     "name": "stdout",
     "output_type": "stream",
     "text": [
      "[[10  0]\n",
      " [ 1  9]]\n"
     ]
    }
   ],
   "source": [
    "from sklearn.model_selection import GridSearchCV \n",
    "from sklearn.metrics import confusion_matrix\n",
    "\n",
    "parameters = {'kernel':('linear', 'rbf'), \n",
    "              'C':[0.001, 0.01, 0.1, 1, 5, 10, 100]}\n",
    "svr = svm.SVC()\n",
    "grid = GridSearchCV(svr, parameters)\n",
    "grid.fit(dat1.iloc[:,:2], dat1.iloc[:,-1])\n",
    "predicted = grid.predict(dat1.iloc[:,:2])\n",
    "cnf_matrix = confusion_matrix(dat1.iloc[:,-1], predicted)\n",
    "print(cnf_matrix)\n"
   ]
  },
  {
   "cell_type": "code",
   "execution_count": 22,
   "metadata": {},
   "outputs": [
    {
     "data": {
      "text/plain": [
       "{'mean_fit_time': array([0.00258536, 0.00205393, 0.00208898, 0.00207043, 0.00183535,\n",
       "        0.00217214, 0.00198817, 0.00235081, 0.00201807, 0.00203114,\n",
       "        0.00200815, 0.00190215, 0.00195212, 0.00196662]),\n",
       " 'std_fit_time': array([0.00095953, 0.00029874, 0.00046582, 0.00027697, 0.00018826,\n",
       "        0.0005246 , 0.00023881, 0.00060679, 0.00033797, 0.00022253,\n",
       "        0.00033777, 0.00031934, 0.00025021, 0.00042533]),\n",
       " 'mean_score_time': array([0.00119662, 0.00098543, 0.00109949, 0.00108271, 0.00096197,\n",
       "        0.00116153, 0.00092411, 0.00111113, 0.00098767, 0.00094132,\n",
       "        0.00111604, 0.00108852, 0.00104566, 0.00110741]),\n",
       " 'std_score_time': array([3.17096423e-04, 9.02281749e-05, 2.01860077e-04, 1.96759410e-04,\n",
       "        9.91270252e-05, 3.11814803e-04, 2.11584796e-04, 3.24918589e-04,\n",
       "        1.25526565e-04, 1.15560715e-04, 1.69235278e-04, 2.50763697e-04,\n",
       "        2.17244330e-04, 2.86546299e-04]),\n",
       " 'param_C': masked_array(data=[0.001, 0.001, 0.01, 0.01, 0.1, 0.1, 1, 1, 5, 5, 10, 10,\n",
       "                    100, 100],\n",
       "              mask=[False, False, False, False, False, False, False, False,\n",
       "                    False, False, False, False, False, False],\n",
       "        fill_value='?',\n",
       "             dtype=object),\n",
       " 'param_kernel': masked_array(data=['linear', 'rbf', 'linear', 'rbf', 'linear', 'rbf',\n",
       "                    'linear', 'rbf', 'linear', 'rbf', 'linear', 'rbf',\n",
       "                    'linear', 'rbf'],\n",
       "              mask=[False, False, False, False, False, False, False, False,\n",
       "                    False, False, False, False, False, False],\n",
       "        fill_value='?',\n",
       "             dtype=object),\n",
       " 'params': [{'C': 0.001, 'kernel': 'linear'},\n",
       "  {'C': 0.001, 'kernel': 'rbf'},\n",
       "  {'C': 0.01, 'kernel': 'linear'},\n",
       "  {'C': 0.01, 'kernel': 'rbf'},\n",
       "  {'C': 0.1, 'kernel': 'linear'},\n",
       "  {'C': 0.1, 'kernel': 'rbf'},\n",
       "  {'C': 1, 'kernel': 'linear'},\n",
       "  {'C': 1, 'kernel': 'rbf'},\n",
       "  {'C': 5, 'kernel': 'linear'},\n",
       "  {'C': 5, 'kernel': 'rbf'},\n",
       "  {'C': 10, 'kernel': 'linear'},\n",
       "  {'C': 10, 'kernel': 'rbf'},\n",
       "  {'C': 100, 'kernel': 'linear'},\n",
       "  {'C': 100, 'kernel': 'rbf'}],\n",
       " 'split0_test_score': array([0.75, 0.75, 0.75, 0.75, 0.5 , 0.75, 0.5 , 0.5 , 0.5 , 1.  , 0.5 ,\n",
       "        1.  , 0.5 , 0.75]),\n",
       " 'split1_test_score': array([0.5 , 0.75, 0.5 , 0.75, 0.5 , 0.75, 0.5 , 0.75, 0.5 , 0.5 , 0.5 ,\n",
       "        0.75, 0.5 , 0.75]),\n",
       " 'split2_test_score': array([0.5 , 0.75, 0.5 , 0.75, 0.5 , 0.75, 1.  , 1.  , 0.75, 0.75, 0.75,\n",
       "        1.  , 0.75, 1.  ]),\n",
       " 'split3_test_score': array([0.75, 0.75, 0.75, 0.75, 0.75, 0.75, 1.  , 0.75, 0.75, 0.75, 0.75,\n",
       "        0.75, 0.75, 0.75]),\n",
       " 'split4_test_score': array([1.  , 1.  , 1.  , 1.  , 1.  , 1.  , 1.  , 1.  , 1.  , 1.  , 1.  ,\n",
       "        1.  , 1.  , 0.75]),\n",
       " 'mean_test_score': array([0.7 , 0.8 , 0.7 , 0.8 , 0.65, 0.8 , 0.8 , 0.8 , 0.7 , 0.8 , 0.7 ,\n",
       "        0.9 , 0.7 , 0.8 ]),\n",
       " 'std_test_score': array([0.18708287, 0.1       , 0.18708287, 0.1       , 0.2       ,\n",
       "        0.1       , 0.24494897, 0.18708287, 0.18708287, 0.18708287,\n",
       "        0.18708287, 0.12247449, 0.18708287, 0.1       ]),\n",
       " 'rank_test_score': array([ 9,  2,  9,  2, 14,  2,  2,  2,  9,  2,  9,  1,  9,  2],\n",
       "       dtype=int32)}"
      ]
     },
     "execution_count": 22,
     "metadata": {},
     "output_type": "execute_result"
    }
   ],
   "source": [
    "grid.cv_results_"
   ]
  },
  {
   "cell_type": "code",
   "execution_count": 24,
   "metadata": {},
   "outputs": [
    {
     "data": {
      "text/plain": [
       "SVC(C=10, break_ties=False, cache_size=200, class_weight=None, coef0=0.0,\n",
       "    decision_function_shape='ovr', degree=3, gamma='scale', kernel='rbf',\n",
       "    max_iter=-1, probability=False, random_state=None, shrinking=True,\n",
       "    tol=0.001, verbose=False)"
      ]
     },
     "execution_count": 24,
     "metadata": {},
     "output_type": "execute_result"
    }
   ],
   "source": [
    "grid.best_estimator_"
   ]
  },
  {
   "cell_type": "markdown",
   "metadata": {},
   "source": [
    "### Find the best values for parameters..."
   ]
  },
  {
   "cell_type": "code",
   "execution_count": 25,
   "metadata": {},
   "outputs": [
    {
     "data": {
      "text/plain": [
       "{'C': 10, 'kernel': 'rbf'}"
      ]
     },
     "execution_count": 25,
     "metadata": {},
     "output_type": "execute_result"
    }
   ],
   "source": [
    "grid.best_params_"
   ]
  },
  {
   "cell_type": "code",
   "execution_count": 26,
   "metadata": {},
   "outputs": [
    {
     "data": {
      "text/plain": [
       "<sklearn.metrics._plot.confusion_matrix.ConfusionMatrixDisplay at 0x1a1d456b10>"
      ]
     },
     "execution_count": 26,
     "metadata": {},
     "output_type": "execute_result"
    },
    {
     "data": {
      "image/png": "[encoded data removed]",
      "text/plain": [
       "<Figure size 432x288 with 2 Axes>"
      ]
     },
     "metadata": {},
     "output_type": "display_data"
    }
   ],
   "source": [
    "from sklearn.metrics import ConfusionMatrixDisplay\n",
    "\n",
    "ConfusionMatrixDisplay(cnf_matrix, ['-1', '1']).plot()\n"
   ]
  },
  {
   "cell_type": "markdown",
   "metadata": {},
   "source": [
    "# 3. Support Vector Classifier"
   ]
  },
  {
   "cell_type": "markdown",
   "metadata": {},
   "source": [
    "### Lets use 20 observations with two classes\n",
    "#### observations are not linearly separable and aren't all clustered into single groups."
   ]
  },
  {
   "cell_type": "code",
   "execution_count": 27,
   "metadata": {},
   "outputs": [
    {
     "data": {
      "text/plain": [
       "array([[ 0.61794308, -0.7495779 ],\n",
       "       [-1.56891689, -0.28398165],\n",
       "       [-0.07943604,  1.92746946],\n",
       "       [ 0.00944729, -0.15604997],\n",
       "       [-0.05009839, -0.97852928]])"
      ]
     },
     "execution_count": 27,
     "metadata": {},
     "output_type": "execute_result"
    }
   ],
   "source": [
    "X2 = np.random.normal(0, 1, (200, 2))  #create a random values array, mean=0, stddev=1, size=20*2\n",
    "X2[0:5,:]\n"
   ]
  },
  {
   "cell_type": "code",
   "execution_count": 28,
   "metadata": {},
   "outputs": [],
   "source": [
    "X2[0:100,:] = X2[0:100,:] + 2.5\n",
    "X2[100:150,:] = X2[100:150,:] - 2.5"
   ]
  },
  {
   "cell_type": "code",
   "execution_count": 29,
   "metadata": {},
   "outputs": [
    {
     "data": {
      "text/plain": [
       "array([1, 1, 1, 1, 1, 1, 1, 1, 1, 1, 1, 1, 1, 1, 1, 1, 1, 1, 1, 1, 1, 1,\n",
       "       1, 1, 1, 1, 1, 1, 1, 1, 1, 1, 1, 1, 1, 1, 1, 1, 1, 1, 1, 1, 1, 1,\n",
       "       1, 1, 1, 1, 1, 1, 1, 1, 1, 1, 1, 1, 1, 1, 1, 1, 1, 1, 1, 1, 1, 1,\n",
       "       1, 1, 1, 1, 1, 1, 1, 1, 1, 1, 1, 1, 1, 1, 1, 1, 1, 1, 1, 1, 1, 1,\n",
       "       1, 1, 1, 1, 1, 1, 1, 1, 1, 1, 1, 1, 1, 1, 1, 1, 1, 1, 1, 1, 1, 1,\n",
       "       1, 1, 1, 1, 1, 1, 1, 1, 1, 1, 1, 1, 1, 1, 1, 1, 1, 1, 1, 1, 1, 1,\n",
       "       1, 1, 1, 1, 1, 1, 1, 1, 1, 1, 1, 1, 1, 1, 1, 1, 1, 1, 2, 2, 2, 2,\n",
       "       2, 2, 2, 2, 2, 2, 2, 2, 2, 2, 2, 2, 2, 2, 2, 2, 2, 2, 2, 2, 2, 2,\n",
       "       2, 2, 2, 2, 2, 2, 2, 2, 2, 2, 2, 2, 2, 2, 2, 2, 2, 2, 2, 2, 2, 2,\n",
       "       2, 2])"
      ]
     },
     "execution_count": 29,
     "metadata": {},
     "output_type": "execute_result"
    }
   ],
   "source": [
    "y2 = np.concatenate((\n",
    "    np.full(150, 1), \n",
    "    np.full(50, 2)\n",
    "))\n",
    "y2"
   ]
  },
  {
   "cell_type": "code",
   "execution_count": 30,
   "metadata": {},
   "outputs": [
    {
     "data": {
      "text/html": [
       "<div>\n",
       "<style scoped>\n",
       "    .dataframe tbody tr th:only-of-type {\n",
       "        vertical-align: middle;\n",
       "    }\n",
       "\n",
       "    .dataframe tbody tr th {\n",
       "        vertical-align: top;\n",
       "    }\n",
       "\n",
       "    .dataframe thead th {\n",
       "        text-align: right;\n",
       "    }\n",
       "</style>\n",
       "<table border=\"1\" class=\"dataframe\">\n",
       "  <thead>\n",
       "    <tr style=\"text-align: right;\">\n",
       "      <th></th>\n",
       "      <th>0</th>\n",
       "      <th>1</th>\n",
       "      <th>2</th>\n",
       "    </tr>\n",
       "  </thead>\n",
       "  <tbody>\n",
       "    <tr>\n",
       "      <th>0</th>\n",
       "      <td>3.117943</td>\n",
       "      <td>1.750422</td>\n",
       "      <td>1.0</td>\n",
       "    </tr>\n",
       "    <tr>\n",
       "      <th>1</th>\n",
       "      <td>0.931083</td>\n",
       "      <td>2.216018</td>\n",
       "      <td>1.0</td>\n",
       "    </tr>\n",
       "    <tr>\n",
       "      <th>2</th>\n",
       "      <td>2.420564</td>\n",
       "      <td>4.427469</td>\n",
       "      <td>1.0</td>\n",
       "    </tr>\n",
       "    <tr>\n",
       "      <th>3</th>\n",
       "      <td>2.509447</td>\n",
       "      <td>2.343950</td>\n",
       "      <td>1.0</td>\n",
       "    </tr>\n",
       "    <tr>\n",
       "      <th>4</th>\n",
       "      <td>2.449902</td>\n",
       "      <td>1.521471</td>\n",
       "      <td>1.0</td>\n",
       "    </tr>\n",
       "    <tr>\n",
       "      <th>...</th>\n",
       "      <td>...</td>\n",
       "      <td>...</td>\n",
       "      <td>...</td>\n",
       "    </tr>\n",
       "    <tr>\n",
       "      <th>195</th>\n",
       "      <td>0.298304</td>\n",
       "      <td>-0.325682</td>\n",
       "      <td>2.0</td>\n",
       "    </tr>\n",
       "    <tr>\n",
       "      <th>196</th>\n",
       "      <td>0.005989</td>\n",
       "      <td>1.611183</td>\n",
       "      <td>2.0</td>\n",
       "    </tr>\n",
       "    <tr>\n",
       "      <th>197</th>\n",
       "      <td>-1.303390</td>\n",
       "      <td>-1.368779</td>\n",
       "      <td>2.0</td>\n",
       "    </tr>\n",
       "    <tr>\n",
       "      <th>198</th>\n",
       "      <td>-0.410601</td>\n",
       "      <td>-0.920502</td>\n",
       "      <td>2.0</td>\n",
       "    </tr>\n",
       "    <tr>\n",
       "      <th>199</th>\n",
       "      <td>0.502112</td>\n",
       "      <td>-0.426913</td>\n",
       "      <td>2.0</td>\n",
       "    </tr>\n",
       "  </tbody>\n",
       "</table>\n",
       "<p>200 rows × 3 columns</p>\n",
       "</div>"
      ],
      "text/plain": [
       "            0         1    2\n",
       "0    3.117943  1.750422  1.0\n",
       "1    0.931083  2.216018  1.0\n",
       "2    2.420564  4.427469  1.0\n",
       "3    2.509447  2.343950  1.0\n",
       "4    2.449902  1.521471  1.0\n",
       "..        ...       ...  ...\n",
       "195  0.298304 -0.325682  2.0\n",
       "196  0.005989  1.611183  2.0\n",
       "197 -1.303390 -1.368779  2.0\n",
       "198 -0.410601 -0.920502  2.0\n",
       "199  0.502112 -0.426913  2.0\n",
       "\n",
       "[200 rows x 3 columns]"
      ]
     },
     "execution_count": 30,
     "metadata": {},
     "output_type": "execute_result"
    }
   ],
   "source": [
    "dat2 = pd.DataFrame(np.column_stack((X2,y2)))\n",
    "dat2"
   ]
  },
  {
   "cell_type": "code",
   "execution_count": 31,
   "metadata": {
    "scrolled": true
   },
   "outputs": [
    {
     "name": "stdout",
     "output_type": "stream",
     "text": [
      "<class 'pandas.core.frame.DataFrame'>\n",
      "RangeIndex: 200 entries, 0 to 199\n",
      "Data columns (total 3 columns):\n",
      " #   Column  Non-Null Count  Dtype   \n",
      "---  ------  --------------  -----   \n",
      " 0   0       200 non-null    float64 \n",
      " 1   1       200 non-null    float64 \n",
      " 2   2       200 non-null    category\n",
      "dtypes: category(1), float64(2)\n",
      "memory usage: 3.5 KB\n"
     ]
    }
   ],
   "source": [
    "dat2[2] = dat2[2].astype('category')\n",
    "dat2.info()"
   ]
  },
  {
   "cell_type": "markdown",
   "metadata": {},
   "source": [
    "## Plot data"
   ]
  },
  {
   "cell_type": "code",
   "execution_count": 32,
   "metadata": {
    "scrolled": true
   },
   "outputs": [
    {
     "data": {
      "image/png": "[encoded data removed]",
      "text/plain": [
       "<Figure size 432x288 with 1 Axes>"
      ]
     },
     "metadata": {},
     "output_type": "display_data"
    }
   ],
   "source": [
    "plt.style.use('seaborn-pastel')\n",
    "sns.set(style=\"ticks\")\n",
    "\n",
    "ax = sns.scatterplot(x=0, y=1, hue=2, style=2, data=dat2)"
   ]
  },
  {
   "cell_type": "markdown",
   "metadata": {},
   "source": [
    "## Create training set (sample = 100)"
   ]
  },
  {
   "cell_type": "code",
   "execution_count": 33,
   "metadata": {},
   "outputs": [],
   "source": [
    "from sklearn.model_selection import train_test_split\n",
    "\n",
    "X_train, X_test, y_train, y_test = train_test_split(dat2.iloc[:,:-1], \n",
    "                                                    dat2.iloc[:,-1],\n",
    "                                                    test_size=100,     #float between 0.0 and 1.0=percentage, integer=quantity \n",
    "                                                    random_state=42)"
   ]
  },
  {
   "cell_type": "markdown",
   "metadata": {},
   "source": [
    "Fit the non-linear model to the training data using the radial kernel"
   ]
  },
  {
   "cell_type": "code",
   "execution_count": 34,
   "metadata": {},
   "outputs": [],
   "source": [
    "from sklearn.svm import NuSVC"
   ]
  },
  {
   "cell_type": "code",
   "execution_count": 35,
   "metadata": {},
   "outputs": [
    {
     "data": {
      "text/plain": [
       "NuSVC(break_ties=False, cache_size=200, class_weight=None, coef0=0.0,\n",
       "      decision_function_shape='ovr', degree=3, gamma=0.5, kernel='rbf',\n",
       "      max_iter=-1, nu=0.5, probability=False, random_state=0, shrinking=True,\n",
       "      tol=1e-05, verbose=False)"
      ]
     },
     "execution_count": 35,
     "metadata": {},
     "output_type": "execute_result"
    }
   ],
   "source": [
    "svm_2 = NuSVC(random_state=0, tol=1e-5, gamma = .5)  #tol = tolerance for stopping criteria.\n",
    "svm_2.fit(X_train, y_train)"
   ]
  },
  {
   "cell_type": "code",
   "execution_count": 36,
   "metadata": {},
   "outputs": [
    {
     "data": {
      "image/png": "[encoded data removed]",
      "text/plain": [
       "<Figure size 432x288 with 1 Axes>"
      ]
     },
     "metadata": {},
     "output_type": "display_data"
    }
   ],
   "source": [
    "# plot the decision function for each datapoint on the grid\n",
    "xx, yy = np.meshgrid(np.linspace(-3, 3, 500),\n",
    "                     np.linspace(-3, 3, 500))\n",
    "\n",
    "Z = svm_2.decision_function(np.c_[xx.ravel(), yy.ravel()])\n",
    "Z = Z.reshape(xx.shape)\n",
    "\n",
    "plt.imshow(Z, interpolation='nearest',\n",
    "           extent=(xx.min(), xx.max(), yy.min(), yy.max()), aspect='auto',\n",
    "           origin='lower', cmap=plt.cm.PuOr_r)\n",
    "contours = plt.contour(xx, yy, Z, levels=[0], linewidths=2,\n",
    "                       linestyles='dashed')\n",
    "sns.scatterplot(x=0, y=1, hue=2, style=2, data=dat2)\n",
    "plt.xticks(())\n",
    "plt.yticks(())\n",
    "plt.axis([-3, 3, -3, 3])\n",
    "plt.show()"
   ]
  },
  {
   "cell_type": "markdown",
   "metadata": {},
   "source": [
    "Tune the non-linear model to find the best gamma value"
   ]
  },
  {
   "cell_type": "code",
   "execution_count": 37,
   "metadata": {},
   "outputs": [
    {
     "data": {
      "text/plain": [
       "<sklearn.metrics._plot.confusion_matrix.ConfusionMatrixDisplay at 0x1a1d343110>"
      ]
     },
     "execution_count": 37,
     "metadata": {},
     "output_type": "execute_result"
    },
    {
     "data": {
      "image/png": "[encoded data removed]",
      "text/plain": [
       "<Figure size 432x288 with 2 Axes>"
      ]
     },
     "metadata": {},
     "output_type": "display_data"
    }
   ],
   "source": [
    "from sklearn.model_selection import GridSearchCV \n",
    "from sklearn.metrics import confusion_matrix\n",
    "\n",
    "parameters = {'gamma':[0.5, 1, 2, 3, 4]}\n",
    "svr = NuSVC(random_state=0, tol=1e-5)\n",
    "grid = GridSearchCV(svr, parameters)\n",
    "grid.fit(X_train, y_train)\n",
    "predicted = grid.predict(X_test)\n",
    "cnf_matrix = confusion_matrix(y_test, predicted)\n",
    "\n",
    "ConfusionMatrixDisplay(cnf_matrix, ['1', '2']).plot()\n"
   ]
  },
  {
   "cell_type": "code",
   "execution_count": 38,
   "metadata": {},
   "outputs": [
    {
     "data": {
      "text/plain": [
       "{'gamma': 0.5}"
      ]
     },
     "execution_count": 38,
     "metadata": {},
     "output_type": "execute_result"
    }
   ],
   "source": [
    "grid.best_params_"
   ]
  },
  {
   "cell_type": "code",
   "execution_count": 39,
   "metadata": {},
   "outputs": [
    {
     "data": {
      "text/plain": [
       "NuSVC(break_ties=False, cache_size=200, class_weight=None, coef0=0.0,\n",
       "      decision_function_shape='ovr', degree=3, gamma=0.5, kernel='rbf',\n",
       "      max_iter=-1, nu=0.5, probability=False, random_state=0, shrinking=True,\n",
       "      tol=1e-05, verbose=False)"
      ]
     },
     "execution_count": 39,
     "metadata": {},
     "output_type": "execute_result"
    }
   ],
   "source": [
    "grid.best_estimator_"
   ]
  },
  {
   "cell_type": "markdown",
   "metadata": {},
   "source": [
    "Model performance"
   ]
  },
  {
   "cell_type": "code",
   "execution_count": 40,
   "metadata": {},
   "outputs": [],
   "source": [
    "from sklearn.metrics import accuracy_score, cohen_kappa_score, precision_score"
   ]
  },
  {
   "cell_type": "code",
   "execution_count": 41,
   "metadata": {},
   "outputs": [
    {
     "data": {
      "text/plain": [
       "0.94"
      ]
     },
     "execution_count": 41,
     "metadata": {},
     "output_type": "execute_result"
    }
   ],
   "source": [
    "accuracy_score(y_test, predicted)"
   ]
  },
  {
   "cell_type": "code",
   "execution_count": 42,
   "metadata": {
    "scrolled": true
   },
   "outputs": [
    {
     "data": {
      "text/plain": [
       "0.8306041784302653"
      ]
     },
     "execution_count": 42,
     "metadata": {},
     "output_type": "execute_result"
    }
   ],
   "source": [
    "cohen_kappa_score(y_test, predicted)"
   ]
  },
  {
   "cell_type": "code",
   "execution_count": 43,
   "metadata": {},
   "outputs": [
    {
     "data": {
      "text/plain": [
       "0.961038961038961"
      ]
     },
     "execution_count": 43,
     "metadata": {},
     "output_type": "execute_result"
    }
   ],
   "source": [
    "precision_score(y_test, predicted)\n",
    "\n",
    "#The precision is the ratio tp / (tp + fp) where tp is the number of true positives \n",
    "#and fp the number of false positives. \n",
    "#The precision is intuitively the ability of the classifier not to label as positive a sample that is negative."
   ]
  },
  {
   "cell_type": "markdown",
   "metadata": {},
   "source": [
    "# 4. Support Vector Classifier - Multiple Classes"
   ]
  },
  {
   "cell_type": "markdown",
   "metadata": {},
   "source": [
    "Add dataset (n=50) to have three classes instead of two."
   ]
  },
  {
   "cell_type": "code",
   "execution_count": 44,
   "metadata": {},
   "outputs": [
    {
     "data": {
      "text/plain": [
       "array([[3.11794308, 1.7504221 ],\n",
       "       [0.93108311, 2.21601835],\n",
       "       [2.42056396, 4.42746946],\n",
       "       [2.50944729, 2.34395003],\n",
       "       [2.44990161, 1.52147072]])"
      ]
     },
     "execution_count": 44,
     "metadata": {},
     "output_type": "execute_result"
    }
   ],
   "source": [
    "X3 = np.concatenate((X2, np.random.normal(0, 1, (50, 2))), axis=0)\n",
    "#np.random.normal(0, 1, (50, 2))  #create a random values array, mean=0, stddev=1, size=20*2\n",
    "X3.shape\n",
    "X3[0:5,:]\n"
   ]
  },
  {
   "cell_type": "code",
   "execution_count": 45,
   "metadata": {},
   "outputs": [
    {
     "data": {
      "text/plain": [
       "array([1, 1, 1, 1, 1, 1, 1, 1, 1, 1, 1, 1, 1, 1, 1, 1, 1, 1, 1, 1, 1, 1,\n",
       "       1, 1, 1, 1, 1, 1, 1, 1, 1, 1, 1, 1, 1, 1, 1, 1, 1, 1, 1, 1, 1, 1,\n",
       "       1, 1, 1, 1, 1, 1, 1, 1, 1, 1, 1, 1, 1, 1, 1, 1, 1, 1, 1, 1, 1, 1,\n",
       "       1, 1, 1, 1, 1, 1, 1, 1, 1, 1, 1, 1, 1, 1, 1, 1, 1, 1, 1, 1, 1, 1,\n",
       "       1, 1, 1, 1, 1, 1, 1, 1, 1, 1, 1, 1, 1, 1, 1, 1, 1, 1, 1, 1, 1, 1,\n",
       "       1, 1, 1, 1, 1, 1, 1, 1, 1, 1, 1, 1, 1, 1, 1, 1, 1, 1, 1, 1, 1, 1,\n",
       "       1, 1, 1, 1, 1, 1, 1, 1, 1, 1, 1, 1, 1, 1, 1, 1, 1, 1, 2, 2, 2, 2,\n",
       "       2, 2, 2, 2, 2, 2, 2, 2, 2, 2, 2, 2, 2, 2, 2, 2, 2, 2, 2, 2, 2, 2,\n",
       "       2, 2, 2, 2, 2, 2, 2, 2, 2, 2, 2, 2, 2, 2, 2, 2, 2, 2, 2, 2, 2, 2,\n",
       "       2, 2, 0, 0, 0, 0, 0, 0, 0, 0, 0, 0, 0, 0, 0, 0, 0, 0, 0, 0, 0, 0,\n",
       "       0, 0, 0, 0, 0, 0, 0, 0, 0, 0, 0, 0, 0, 0, 0, 0, 0, 0, 0, 0, 0, 0,\n",
       "       0, 0, 0, 0, 0, 0, 0, 0])"
      ]
     },
     "execution_count": 45,
     "metadata": {},
     "output_type": "execute_result"
    }
   ],
   "source": [
    "y3 = np.concatenate((y2, (np.full(50, 0))), axis=0)\n",
    "y3"
   ]
  },
  {
   "cell_type": "code",
   "execution_count": 46,
   "metadata": {},
   "outputs": [
    {
     "name": "stderr",
     "output_type": "stream",
     "text": [
      "/Users/catalina/opt/anaconda3/lib/python3.7/site-packages/ipykernel_launcher.py:1: FutureWarning: Using a non-tuple sequence for multidimensional indexing is deprecated; use `arr[tuple(seq)]` instead of `arr[seq]`. In the future this will be interpreted as an array index, `arr[np.array(seq)]`, which will result either in an error or a different result.\n",
      "  \"\"\"Entry point for launching an IPython kernel.\n"
     ]
    }
   ],
   "source": [
    "X3[[y3==0]][:,-1] = X3[[y3==0]][:,-1] + 2.5\n"
   ]
  },
  {
   "cell_type": "code",
   "execution_count": null,
   "metadata": {},
   "outputs": [],
   "source": []
  },
  {
   "cell_type": "code",
   "execution_count": 47,
   "metadata": {},
   "outputs": [
    {
     "data": {
      "text/html": [
       "<div>\n",
       "<style scoped>\n",
       "    .dataframe tbody tr th:only-of-type {\n",
       "        vertical-align: middle;\n",
       "    }\n",
       "\n",
       "    .dataframe tbody tr th {\n",
       "        vertical-align: top;\n",
       "    }\n",
       "\n",
       "    .dataframe thead th {\n",
       "        text-align: right;\n",
       "    }\n",
       "</style>\n",
       "<table border=\"1\" class=\"dataframe\">\n",
       "  <thead>\n",
       "    <tr style=\"text-align: right;\">\n",
       "      <th></th>\n",
       "      <th>0</th>\n",
       "      <th>1</th>\n",
       "      <th>2</th>\n",
       "    </tr>\n",
       "  </thead>\n",
       "  <tbody>\n",
       "    <tr>\n",
       "      <th>0</th>\n",
       "      <td>3.117943</td>\n",
       "      <td>1.750422</td>\n",
       "      <td>1.0</td>\n",
       "    </tr>\n",
       "    <tr>\n",
       "      <th>1</th>\n",
       "      <td>0.931083</td>\n",
       "      <td>2.216018</td>\n",
       "      <td>1.0</td>\n",
       "    </tr>\n",
       "    <tr>\n",
       "      <th>2</th>\n",
       "      <td>2.420564</td>\n",
       "      <td>4.427469</td>\n",
       "      <td>1.0</td>\n",
       "    </tr>\n",
       "    <tr>\n",
       "      <th>3</th>\n",
       "      <td>2.509447</td>\n",
       "      <td>2.343950</td>\n",
       "      <td>1.0</td>\n",
       "    </tr>\n",
       "    <tr>\n",
       "      <th>4</th>\n",
       "      <td>2.449902</td>\n",
       "      <td>1.521471</td>\n",
       "      <td>1.0</td>\n",
       "    </tr>\n",
       "    <tr>\n",
       "      <th>...</th>\n",
       "      <td>...</td>\n",
       "      <td>...</td>\n",
       "      <td>...</td>\n",
       "    </tr>\n",
       "    <tr>\n",
       "      <th>245</th>\n",
       "      <td>-0.366306</td>\n",
       "      <td>-0.259367</td>\n",
       "      <td>0.0</td>\n",
       "    </tr>\n",
       "    <tr>\n",
       "      <th>246</th>\n",
       "      <td>1.952167</td>\n",
       "      <td>-0.271595</td>\n",
       "      <td>0.0</td>\n",
       "    </tr>\n",
       "    <tr>\n",
       "      <th>247</th>\n",
       "      <td>0.411971</td>\n",
       "      <td>-0.214360</td>\n",
       "      <td>0.0</td>\n",
       "    </tr>\n",
       "    <tr>\n",
       "      <th>248</th>\n",
       "      <td>0.409677</td>\n",
       "      <td>0.582381</td>\n",
       "      <td>0.0</td>\n",
       "    </tr>\n",
       "    <tr>\n",
       "      <th>249</th>\n",
       "      <td>-0.205517</td>\n",
       "      <td>0.297926</td>\n",
       "      <td>0.0</td>\n",
       "    </tr>\n",
       "  </tbody>\n",
       "</table>\n",
       "<p>250 rows × 3 columns</p>\n",
       "</div>"
      ],
      "text/plain": [
       "            0         1    2\n",
       "0    3.117943  1.750422  1.0\n",
       "1    0.931083  2.216018  1.0\n",
       "2    2.420564  4.427469  1.0\n",
       "3    2.509447  2.343950  1.0\n",
       "4    2.449902  1.521471  1.0\n",
       "..        ...       ...  ...\n",
       "245 -0.366306 -0.259367  0.0\n",
       "246  1.952167 -0.271595  0.0\n",
       "247  0.411971 -0.214360  0.0\n",
       "248  0.409677  0.582381  0.0\n",
       "249 -0.205517  0.297926  0.0\n",
       "\n",
       "[250 rows x 3 columns]"
      ]
     },
     "execution_count": 47,
     "metadata": {},
     "output_type": "execute_result"
    }
   ],
   "source": [
    "dat3 = pd.DataFrame(np.column_stack((X3,y3)))\n",
    "dat3"
   ]
  },
  {
   "cell_type": "code",
   "execution_count": 48,
   "metadata": {
    "scrolled": true
   },
   "outputs": [
    {
     "name": "stdout",
     "output_type": "stream",
     "text": [
      "<class 'pandas.core.frame.DataFrame'>\n",
      "RangeIndex: 250 entries, 0 to 249\n",
      "Data columns (total 3 columns):\n",
      " #   Column  Non-Null Count  Dtype   \n",
      "---  ------  --------------  -----   \n",
      " 0   0       250 non-null    float64 \n",
      " 1   1       250 non-null    float64 \n",
      " 2   2       250 non-null    category\n",
      "dtypes: category(1), float64(2)\n",
      "memory usage: 4.4 KB\n"
     ]
    }
   ],
   "source": [
    "dat3[2] = dat3[2].astype('category')\n",
    "dat3.info()"
   ]
  },
  {
   "cell_type": "markdown",
   "metadata": {},
   "source": [
    "## Plot data"
   ]
  },
  {
   "cell_type": "code",
   "execution_count": 49,
   "metadata": {
    "scrolled": true
   },
   "outputs": [
    {
     "data": {
      "image/png": "[encoded data removed]",
      "text/plain": [
       "<Figure size 432x288 with 1 Axes>"
      ]
     },
     "metadata": {},
     "output_type": "display_data"
    }
   ],
   "source": [
    "plt.style.use('seaborn-pastel')\n",
    "sns.set(style=\"ticks\")\n",
    "\n",
    "ax = sns.scatterplot(x=0, y=1, hue=2, style=2, data=dat3)"
   ]
  },
  {
   "cell_type": "code",
   "execution_count": 50,
   "metadata": {},
   "outputs": [],
   "source": [
    "from sklearn.svm import SVC"
   ]
  },
  {
   "cell_type": "code",
   "execution_count": 51,
   "metadata": {},
   "outputs": [
    {
     "data": {
      "text/plain": [
       "SVC(C=1, break_ties=False, cache_size=200, class_weight=None, coef0=0.0,\n",
       "    decision_function_shape='ovr', degree=3, gamma=0.7, kernel='rbf',\n",
       "    max_iter=-1, probability=False, random_state=0, shrinking=True, tol=1e-05,\n",
       "    verbose=False)"
      ]
     },
     "execution_count": 51,
     "metadata": {},
     "output_type": "execute_result"
    }
   ],
   "source": [
    "\n",
    "svm_3 = SVC(random_state=0, tol=1e-5, gamma = .7, C=1)  #tol = tolerance for stopping criteria.\n",
    "svm_3.fit(dat3.iloc[:,:-1], dat3.iloc[:,-1])"
   ]
  },
  {
   "cell_type": "code",
   "execution_count": null,
   "metadata": {},
   "outputs": [],
   "source": []
  },
  {
   "cell_type": "code",
   "execution_count": 52,
   "metadata": {},
   "outputs": [
    {
     "data": {
      "image/png": "[encoded data removed]",
      "text/plain": [
       "<Figure size 1440x720 with 2 Axes>"
      ]
     },
     "metadata": {},
     "output_type": "display_data"
    }
   ],
   "source": [
    "def make_meshgrid(x, y, h=.02):\n",
    "    \"\"\"Create a mesh of points to plot in\n",
    "\n",
    "    Parameters\n",
    "    ----------\n",
    "    x: data to base x-axis meshgrid on\n",
    "    y: data to base y-axis meshgrid on\n",
    "    h: stepsize for meshgrid, optional\n",
    "\n",
    "    Returns\n",
    "    -------\n",
    "    xx, yy : ndarray\n",
    "    \"\"\"\n",
    "    x_min, x_max = x.min() - 1, x.max() + 1\n",
    "    y_min, y_max = y.min() - 1, y.max() + 1\n",
    "    xx, yy = np.meshgrid(np.arange(x_min, x_max, h),\n",
    "                         np.arange(y_min, y_max, h))\n",
    "    return xx, yy\n",
    "\n",
    "\n",
    "def plot_contours(ax, clf, xx, yy, **params):\n",
    "    \"\"\"Plot the decision boundaries for a classifier.\n",
    "\n",
    "    Parameters\n",
    "    ----------\n",
    "    ax: matplotlib axes object\n",
    "    clf: a classifier\n",
    "    xx: meshgrid ndarray\n",
    "    yy: meshgrid ndarray\n",
    "    params: dictionary of params to pass to contourf, optional\n",
    "    \"\"\"\n",
    "    Z = clf.predict(np.c_[xx.ravel(), yy.ravel()])\n",
    "    Z = Z.reshape(xx.shape)\n",
    "    out = ax.contourf(xx, yy, Z, **params)\n",
    "    return out\n",
    "\n",
    "\n",
    "X = dat3.iloc[:,:-1]\n",
    "y = dat3.iloc[:,-1]\n",
    "\n",
    "C = 1.0  # SVM regularization parameter\n",
    "models = (svm.SVC(kernel='rbf', gamma=0.7, C=C),\n",
    "          )\n",
    "models = (clf.fit(X, y) for clf in models)\n",
    "\n",
    "# title for the plots\n",
    "titles = ('SVC with RBF kernel',\n",
    "          )\n",
    "\n",
    "# Set-up 2x2 grid for plotting.\n",
    "fig, sub = plt.subplots(1,2, figsize=(20,10))\n",
    "plt.subplots_adjust(wspace=0.4, hspace=0.4)\n",
    "\n",
    "X0, X1 = X.iloc[:, 0], X.iloc[:, 1]\n",
    "xx, yy = make_meshgrid(X0, X1)\n",
    "\n",
    "for clf, title, ax in zip(models, titles, sub.flatten()):\n",
    "    plot_contours(ax, clf, xx, yy,\n",
    "                  cmap=plt.cm.coolwarm, alpha=0.8)\n",
    "    ax.scatter(X0, X1, c=y, cmap=plt.cm.coolwarm, s=20, edgecolors='k')\n",
    "    ax.set_xlim(xx.min(), xx.max())\n",
    "    ax.set_ylim(yy.min(), yy.max())\n",
    "    ax.set_xlabel('x0')\n",
    "    ax.set_ylabel('x1')\n",
    "    ax.set_xticks(())\n",
    "    ax.set_yticks(())\n",
    "    ax.set_title(title)\n",
    "\n",
    "plt.show()"
   ]
  },
  {
   "cell_type": "code",
   "execution_count": 53,
   "metadata": {},
   "outputs": [
    {
     "data": {
      "text/plain": [
       "<sklearn.metrics._plot.confusion_matrix.ConfusionMatrixDisplay at 0x1a1d158750>"
      ]
     },
     "execution_count": 53,
     "metadata": {},
     "output_type": "execute_result"
    },
    {
     "data": {
      "image/png": "[encoded data removed]",
      "text/plain": [
       "<Figure size 432x288 with 2 Axes>"
      ]
     },
     "metadata": {},
     "output_type": "display_data"
    }
   ],
   "source": [
    "cnf_matrix = confusion_matrix(y, svm_3.predict(X))\n",
    "ConfusionMatrixDisplay(cnf_matrix, [0, 1, 2]).plot()"
   ]
  },
  {
   "cell_type": "code",
   "execution_count": 54,
   "metadata": {},
   "outputs": [
    {
     "data": {
      "text/plain": [
       "0.836"
      ]
     },
     "execution_count": 54,
     "metadata": {},
     "output_type": "execute_result"
    }
   ],
   "source": [
    "accuracy_score(y, svm_3.predict(X))"
   ]
  },
  {
   "cell_type": "code",
   "execution_count": 55,
   "metadata": {
    "scrolled": true
   },
   "outputs": [
    {
     "data": {
      "text/plain": [
       "0.7071428571428571"
      ]
     },
     "execution_count": 55,
     "metadata": {},
     "output_type": "execute_result"
    }
   ],
   "source": [
    "cohen_kappa_score(y, svm_3.predict(X))"
   ]
  },
  {
   "cell_type": "markdown",
   "metadata": {},
   "source": [
    "Support vectors"
   ]
  },
  {
   "cell_type": "code",
   "execution_count": 56,
   "metadata": {},
   "outputs": [
    {
     "data": {
      "text/plain": [
       "array([[-8.67921194e-01,  1.45050729e-02],\n",
       "       [-9.84884509e-01, -4.22234834e-01],\n",
       "       [-6.33937064e-01, -3.38956640e-01],\n",
       "       [-1.89661359e+00, -2.14852794e-01],\n",
       "       [ 1.27172140e+00,  1.01380433e-02],\n",
       "       [-1.21853757e+00, -1.86006306e-01],\n",
       "       [ 7.91807682e-01,  6.70631238e-01],\n",
       "       [ 4.96811741e-02,  2.94964918e-01],\n",
       "       [ 1.74377007e-01, -3.17326137e-02],\n",
       "       [-9.66709918e-01, -6.22938153e-01],\n",
       "       [ 8.80697848e-01, -3.63386044e-01],\n",
       "       [ 1.92179148e+00, -4.89945383e-01],\n",
       "       [ 8.78713299e-02, -2.41938215e+00],\n",
       "       [-5.46181477e-01, -1.19239727e-01],\n",
       "       [ 9.51566454e-01,  2.52229446e-01],\n",
       "       [-5.44630366e-01, -1.52415164e+00],\n",
       "       [ 1.11302028e+00,  5.12008745e-01],\n",
       "       [-2.53307406e-01,  1.71259918e-01],\n",
       "       [ 6.12943520e-01,  8.04719921e-01],\n",
       "       [-7.61942350e-01, -1.92911989e+00],\n",
       "       [ 1.54097841e-01, -8.37822259e-01],\n",
       "       [ 4.75655852e-01,  4.82776720e-01],\n",
       "       [-2.31160165e+00,  7.25300610e-01],\n",
       "       [-8.97903222e-01, -5.44421118e-01],\n",
       "       [-2.91857289e-02,  3.56430677e-01],\n",
       "       [ 5.00343462e-01,  2.73391819e+00],\n",
       "       [ 7.21007187e-01, -1.14932173e+00],\n",
       "       [-6.37192888e-01, -4.17835539e-01],\n",
       "       [-4.22178231e-01,  1.05633617e+00],\n",
       "       [-1.55480804e+00,  8.71766839e-01],\n",
       "       [-1.82001706e+00, -7.74025884e-01],\n",
       "       [-2.90802727e-02,  1.56438024e-01],\n",
       "       [-5.37167064e-01,  1.00224200e+00],\n",
       "       [-5.08645399e-01,  8.69095869e-01],\n",
       "       [-3.66305809e-01, -2.59366960e-01],\n",
       "       [ 1.95216717e+00, -2.71594720e-01],\n",
       "       [ 4.11970567e-01, -2.14360090e-01],\n",
       "       [ 4.09676835e-01,  5.82380776e-01],\n",
       "       [ 9.31083108e-01,  2.21601835e+00],\n",
       "       [ 2.64475993e+00, -2.62599897e-02],\n",
       "       [ 2.75978676e+00,  3.34595003e+00],\n",
       "       [ 1.15755439e+00,  2.00353724e-01],\n",
       "       [ 1.64329786e+00,  4.38446050e+00],\n",
       "       [ 1.94773907e+00, -6.71590815e-01],\n",
       "       [ 4.27688402e+00,  3.97353487e+00],\n",
       "       [ 7.57624182e-01,  3.46238968e+00],\n",
       "       [ 2.32861858e+00,  4.64790837e+00],\n",
       "       [ 3.06303031e+00,  3.85068534e+00],\n",
       "       [ 3.65695163e+00,  2.31265393e+00],\n",
       "       [ 1.64678664e+00,  1.17672728e+00],\n",
       "       [ 5.52762092e+00,  2.62025857e+00],\n",
       "       [ 9.32468917e-01,  1.78964188e+00],\n",
       "       [ 3.59655504e+00,  2.74537556e+00],\n",
       "       [ 1.00903833e+00,  9.31724832e-01],\n",
       "       [ 4.10766436e+00,  1.30122550e+00],\n",
       "       [ 4.52035281e+00,  2.49137450e+00],\n",
       "       [ 2.32446612e+00,  5.97804170e-01],\n",
       "       [ 3.36072171e+00,  2.53820489e+00],\n",
       "       [ 3.22800503e+00,  2.74949466e+00],\n",
       "       [ 7.71674809e-01,  2.67253202e+00],\n",
       "       [-6.65271029e-01, -3.26711537e+00],\n",
       "       [-3.88215062e+00, -3.71235255e+00],\n",
       "       [-2.28666156e+00, -3.10584430e+00],\n",
       "       [-2.70575702e+00, -4.15768278e+00],\n",
       "       [-2.80969899e+00, -1.12099991e+00],\n",
       "       [-1.56866610e+00, -9.82663052e-01],\n",
       "       [-3.90093735e+00, -2.12125709e-03],\n",
       "       [-1.29290485e+00, -1.90510719e+00],\n",
       "       [-2.13374120e+00, -3.35031697e+00],\n",
       "       [-4.11266044e+00, -1.45627701e+00],\n",
       "       [-1.71944433e+00, -7.78616538e-01],\n",
       "       [-2.37086883e-01, -2.07920093e+00],\n",
       "       [-1.50785671e+00, -1.91289501e+00],\n",
       "       [-2.80739384e+00, -2.28976814e+00],\n",
       "       [-1.62867651e+00, -1.22402490e+00],\n",
       "       [-3.59964577e+00, -2.02803719e+00],\n",
       "       [-3.04082124e+00, -2.49831570e+00],\n",
       "       [-3.50813967e+00, -2.72349657e+00],\n",
       "       [-2.90931612e+00, -2.46460830e+00],\n",
       "       [-4.38746843e-01, -1.46628200e+00],\n",
       "       [-3.46211948e+00, -2.43470300e+00],\n",
       "       [-5.80792071e-01, -1.43201809e+00],\n",
       "       [-6.95402281e-01, -6.04239473e-01],\n",
       "       [ 2.34825747e-01,  6.60140425e-01],\n",
       "       [-2.70933003e-01,  1.29389510e+00],\n",
       "       [-7.34759446e-01, -1.17486097e+00],\n",
       "       [ 8.47902632e-01, -1.75326383e-01],\n",
       "       [ 5.86212385e-01,  2.08463306e+00],\n",
       "       [-8.12216730e-01, -9.45229677e-01],\n",
       "       [-1.21469279e+00, -6.20295872e-01],\n",
       "       [-4.38387451e-01, -1.17750549e+00],\n",
       "       [-2.23650086e-03, -1.57451174e-01],\n",
       "       [-1.89157971e-01,  1.91409867e+00],\n",
       "       [-9.30994378e-01,  9.83218703e-01],\n",
       "       [ 1.21813570e+00,  3.26229961e-01],\n",
       "       [ 3.71539543e-01,  3.43420095e-01],\n",
       "       [-1.62196339e+00,  3.68999725e-01],\n",
       "       [-6.57648924e-01,  1.82916943e-01],\n",
       "       [-1.53207437e+00, -1.02869893e+00],\n",
       "       [ 7.46132365e-01,  1.85208965e-01],\n",
       "       [-8.93676831e-01, -2.66231145e-01],\n",
       "       [-4.55654355e-01, -6.67294256e-01],\n",
       "       [ 8.03614642e-01, -1.60765293e+00],\n",
       "       [ 1.23137370e+00,  7.11314437e-01],\n",
       "       [-4.84927705e-01, -3.40914165e-01],\n",
       "       [-2.05439414e-01,  1.10052856e+00],\n",
       "       [-2.10892946e-01, -1.52212053e-01],\n",
       "       [ 7.02451371e-02,  1.83237247e+00],\n",
       "       [ 1.50684984e+00, -3.05256578e-02],\n",
       "       [ 1.50731835e+00, -4.66348662e-01],\n",
       "       [ 1.46305889e+00, -6.34538498e-01],\n",
       "       [-2.71218084e+00, -1.70931711e+00],\n",
       "       [ 1.62600593e+00,  4.87555894e-01],\n",
       "       [ 5.19236560e-01, -8.64172346e-02],\n",
       "       [-2.65312567e-01, -3.85090943e-01],\n",
       "       [-3.22530393e-01, -2.27235972e+00],\n",
       "       [ 7.03687380e-01, -1.67163635e+00],\n",
       "       [ 7.35883744e-01, -2.91562045e-01],\n",
       "       [-3.00594429e-01, -1.64293482e-01],\n",
       "       [-1.99835326e+00, -3.69143973e-01],\n",
       "       [ 2.02099551e-02,  1.71886180e-01],\n",
       "       [ 2.98303943e-01, -3.25682047e-01],\n",
       "       [ 5.98906264e-03,  1.61118303e+00],\n",
       "       [-1.30339005e+00, -1.36877920e+00]])"
      ]
     },
     "execution_count": 56,
     "metadata": {},
     "output_type": "execute_result"
    }
   ],
   "source": [
    "svm_3.support_vectors_"
   ]
  },
  {
   "cell_type": "markdown",
   "metadata": {},
   "source": [
    "Make predictions using the trained model"
   ]
  },
  {
   "cell_type": "code",
   "execution_count": 57,
   "metadata": {},
   "outputs": [
    {
     "data": {
      "text/plain": [
       "array([1., 1., 1., 1., 1., 1., 1., 1., 1., 1., 1., 1., 1., 1., 1., 1., 1.,\n",
       "       1., 1., 1., 1., 1., 1., 1., 1., 2., 1., 1., 1., 1., 1., 1., 1., 1.,\n",
       "       1., 1., 1., 1., 1., 1., 1., 1., 1., 2., 1., 1., 1., 1., 1., 1., 1.,\n",
       "       1., 1., 1., 1., 1., 1., 1., 1., 1., 1., 1., 1., 1., 1., 1., 1., 1.,\n",
       "       1., 1., 1., 1., 1., 1., 1., 1., 1., 2., 1., 1., 1., 1., 1., 1., 1.,\n",
       "       1., 1., 1., 1., 1., 1., 1., 1., 1., 1., 1., 1., 1., 1., 1., 1., 1.,\n",
       "       1., 1., 1., 1., 1., 1., 1., 1., 1., 2., 1., 1., 1., 1., 1., 1., 1.,\n",
       "       1., 1., 1., 1., 1., 2., 2., 1., 1., 1., 1., 1., 1., 1., 1., 1., 1.,\n",
       "       1., 1., 1., 1., 1., 1., 1., 1., 1., 1., 1., 1., 2., 1., 2., 2., 0.,\n",
       "       0., 2., 2., 1., 2., 2., 2., 2., 2., 2., 0., 2., 0., 0., 0., 2., 2.,\n",
       "       0., 2., 2., 2., 2., 0., 0., 0., 2., 2., 2., 2., 1., 2., 2., 2., 2.,\n",
       "       1., 2., 2., 0., 2., 0., 0., 2., 2., 2., 1., 2., 2., 0., 0., 0., 0.,\n",
       "       2., 0., 0., 0., 0., 0., 0., 0., 2., 2., 0., 2., 1., 0., 0., 2., 0.,\n",
       "       0., 2., 2., 0., 0., 1., 0., 0., 0., 2., 0., 0., 2., 0., 1., 2., 2.,\n",
       "       0., 0., 0., 2., 0., 0., 0., 0., 2., 2., 0., 0.])"
      ]
     },
     "execution_count": 57,
     "metadata": {},
     "output_type": "execute_result"
    }
   ],
   "source": [
    "svm_3.predict(X3)"
   ]
  },
  {
   "cell_type": "markdown",
   "metadata": {},
   "source": [
    "Compare the distribution of actual vs predicted values"
   ]
  },
  {
   "cell_type": "code",
   "execution_count": 58,
   "metadata": {},
   "outputs": [
    {
     "data": {
      "text/plain": [
       "1.0    150\n",
       "2.0     50\n",
       "0.0     50\n",
       "Name: 2, dtype: int64"
      ]
     },
     "execution_count": 58,
     "metadata": {},
     "output_type": "execute_result"
    }
   ],
   "source": [
    "y.value_counts()\n"
   ]
  },
  {
   "cell_type": "code",
   "execution_count": 59,
   "metadata": {},
   "outputs": [
    {
     "data": {
      "text/plain": [
       "1.0    150\n",
       "2.0     54\n",
       "0.0     46\n",
       "dtype: int64"
      ]
     },
     "execution_count": 59,
     "metadata": {},
     "output_type": "execute_result"
    }
   ],
   "source": [
    "pd.Series(svm_3.predict(X3)).value_counts()"
   ]
  },
  {
   "cell_type": "code",
   "execution_count": null,
   "metadata": {},
   "outputs": [],
   "source": []
  }
 ],
 "metadata": {
  "kernelspec": {
   "display_name": "Python 3",
   "language": "python",
   "name": "python3"
  },
  "language_info": {
   "codemirror_mode": {
    "name": "ipython",
    "version": 3
   },
   "file_extension": ".py",
   "mimetype": "text/x-python",
   "name": "python",
   "nbconvert_exporter": "python",
   "pygments_lexer": "ipython3",
   "version": "3.7.6"
  }
 },
 "nbformat": 4,
 "nbformat_minor": 4
}
