{
 "cells": [
  {
   "cell_type": "markdown",
   "metadata": {},
   "source": [
    "### CLASS 3\n",
    "Create a matrix"
   ]
  },
  {
   "cell_type": "code",
   "execution_count": 1,
   "metadata": {},
   "outputs": [],
   "source": [
    "import numpy as np"
   ]
  },
  {
   "cell_type": "code",
   "execution_count": 2,
   "metadata": {},
   "outputs": [
    {
     "data": {
      "text/plain": [
       "array([[0.58857478, 0.59942264, 0.0959471 ],\n",
       "       [0.02498656, 0.4754519 , 0.92945263],\n",
       "       [0.26369461, 0.10732953, 0.03507898]])"
      ]
     },
     "execution_count": 2,
     "metadata": {},
     "output_type": "execute_result"
    }
   ],
   "source": [
    "mat1  = np.random.rand(3, 3)\n",
    "mat1"
   ]
  },
  {
   "cell_type": "code",
   "execution_count": 3,
   "metadata": {},
   "outputs": [
    {
     "data": {
      "text/plain": [
       "array([[ 3,  8,  3],\n",
       "       [ 9,  7,  5],\n",
       "       [ 9, 10,  5]])"
      ]
     },
     "execution_count": 3,
     "metadata": {},
     "output_type": "execute_result"
    }
   ],
   "source": [
    "mat1 = np.random.randint(2, 11, size=(3,3)) #low (2) inclusive: high(11), exclusive\n",
    "mat1"
   ]
  },
  {
   "cell_type": "code",
   "execution_count": 4,
   "metadata": {},
   "outputs": [
    {
     "data": {
      "text/plain": [
       "array([[ 9,  4,  4],\n",
       "       [ 5,  6,  9],\n",
       "       [10,  6,  2]])"
      ]
     },
     "execution_count": 4,
     "metadata": {},
     "output_type": "execute_result"
    }
   ],
   "source": [
    "mat2 = np.random.randint(2, 11, size=9).reshape((3,3))\n",
    "mat2"
   ]
  },
  {
   "cell_type": "code",
   "execution_count": 5,
   "metadata": {},
   "outputs": [
    {
     "data": {
      "text/plain": [
       "array([3, 4, 5, 6])"
      ]
     },
     "execution_count": 5,
     "metadata": {},
     "output_type": "execute_result"
    }
   ],
   "source": [
    "mat2 = np.arange(3,7)\n",
    "mat2"
   ]
  },
  {
   "cell_type": "code",
   "execution_count": 10,
   "metadata": {},
   "outputs": [
    {
     "data": {
      "text/plain": [
       "array([[0, 3, 6],\n",
       "       [1, 4, 7],\n",
       "       [2, 5, 8]])"
      ]
     },
     "execution_count": 10,
     "metadata": {},
     "output_type": "execute_result"
    }
   ],
   "source": [
    "mat2 = np.arange(9).reshape((3,-1), order='F') #order='F' by column, order='C' by row\n",
    "mat2"
   ]
  },
  {
   "cell_type": "markdown",
   "metadata": {},
   "source": [
    "Create a 2-D identity matrix"
   ]
  },
  {
   "cell_type": "code",
   "execution_count": 11,
   "metadata": {},
   "outputs": [
    {
     "data": {
      "text/plain": [
       "array([[1., 0., 0.],\n",
       "       [0., 1., 0.],\n",
       "       [0., 0., 1.]])"
      ]
     },
     "execution_count": 11,
     "metadata": {},
     "output_type": "execute_result"
    }
   ],
   "source": [
    "np.identity(3)"
   ]
  },
  {
   "cell_type": "code",
   "execution_count": 12,
   "metadata": {},
   "outputs": [
    {
     "data": {
      "text/plain": [
       "array([[1., 0., 0., 0., 0.],\n",
       "       [0., 1., 0., 0., 0.],\n",
       "       [0., 0., 1., 0., 0.],\n",
       "       [0., 0., 0., 1., 0.],\n",
       "       [0., 0., 0., 0., 1.]])"
      ]
     },
     "execution_count": 12,
     "metadata": {},
     "output_type": "execute_result"
    }
   ],
   "source": [
    "np.identity(5)"
   ]
  },
  {
   "cell_type": "markdown",
   "metadata": {},
   "source": [
    "Python is 0-index \n",
    "\n",
    "We use slices to select some elements from an object.\n",
    "In slicing, first term is included, last is excluded.\n",
    "\n",
    "We can number the elements starting from the last, using -1 for the last element"
   ]
  },
  {
   "cell_type": "code",
   "execution_count": 17,
   "metadata": {},
   "outputs": [
    {
     "name": "stdout",
     "output_type": "stream",
     "text": [
      "[2, 3, 4]\n",
      "[1, 2, 3, 4, 5]\n",
      "[4, 5]\n",
      "[1, 2, 3, 4, 5]\n",
      "5\n",
      "[3, 4]\n",
      "[1 2 3 4 5]\n"
     ]
    }
   ],
   "source": [
    "example = [1,2,3,4,5] \n",
    "print (example[1:4]) #position 1 (second element) to 4 (5 is excluded)\n",
    "print (example[:5]) #initial position to position 4 (5 is excluded)\n",
    "print (example[3:]) #position 3 (fourth element) to end\n",
    "print (example[:]) #all elements\n",
    "print (example[-1]) #last element\n",
    "print (example[2:-1]) #from position 2 (third element) to 'before the last'\n",
    "new_example = example[:] #creates a copy that is not referenced\n",
    "new_new_example = np.copy(example)\n",
    "print(new_new_example)#?????"
   ]
  },
  {
   "cell_type": "markdown",
   "metadata": {},
   "source": [
    "Now, for 2-D arrays, we slice with the rows range and then the columns range, separated with a comma"
   ]
  },
  {
   "cell_type": "code",
   "execution_count": 18,
   "metadata": {},
   "outputs": [
    {
     "data": {
      "text/plain": [
       "array([[0, 3],\n",
       "       [1, 4],\n",
       "       [2, 5]])"
      ]
     },
     "execution_count": 18,
     "metadata": {},
     "output_type": "execute_result"
    }
   ],
   "source": [
    "mat2[:,0:-1]  #all rows, columns 0 to 'before the last'"
   ]
  },
  {
   "cell_type": "markdown",
   "metadata": {},
   "source": [
    "Stretch a 2-D orthonormal matrix (identity matrix) and plot"
   ]
  },
  {
   "cell_type": "code",
   "execution_count": 19,
   "metadata": {},
   "outputs": [
    {
     "data": {
      "text/plain": [
       "array([[1., 0.],\n",
       "       [0., 1.]])"
      ]
     },
     "execution_count": 19,
     "metadata": {},
     "output_type": "execute_result"
    }
   ],
   "source": [
    "d1=np.identity(2)\n",
    "d1"
   ]
  },
  {
   "cell_type": "code",
   "execution_count": 20,
   "metadata": {},
   "outputs": [
    {
     "data": {
      "text/plain": [
       "array([0., 1.])"
      ]
     },
     "execution_count": 20,
     "metadata": {},
     "output_type": "execute_result"
    }
   ],
   "source": [
    "d1b = d1[:,1]  #slice all rows, column 1 (second column)\n",
    "d1b"
   ]
  },
  {
   "cell_type": "code",
   "execution_count": 21,
   "metadata": {},
   "outputs": [
    {
     "data": {
      "text/plain": [
       "array([[3., 0.],\n",
       "       [0., 3.]])"
      ]
     },
     "execution_count": 21,
     "metadata": {},
     "output_type": "execute_result"
    }
   ],
   "source": [
    "3*d1"
   ]
  },
  {
   "cell_type": "code",
   "execution_count": 22,
   "metadata": {},
   "outputs": [],
   "source": [
    "import matplotlib.pyplot as plt #this package covers the basics for graphics"
   ]
  },
  {
   "cell_type": "code",
   "execution_count": 23,
   "metadata": {},
   "outputs": [
    {
     "data": {
      "text/plain": [
       "array([1., 0.])"
      ]
     },
     "execution_count": 23,
     "metadata": {},
     "output_type": "execute_result"
    }
   ],
   "source": [
    "d1a = d1[:,0] \n",
    "d1a"
   ]
  },
  {
   "cell_type": "code",
   "execution_count": 24,
   "metadata": {},
   "outputs": [
    {
     "data": {
      "text/plain": [
       "[<matplotlib.lines.Line2D at 0x11c9b6dd8>]"
      ]
     },
     "execution_count": 24,
     "metadata": {},
     "output_type": "execute_result"
    },
    {
     "data": {
      "image/png": "[encoded data removed]",
      "text/plain": [
       "<Figure size 432x288 with 1 Axes>"
      ]
     },
     "metadata": {
      "needs_background": "light"
     },
     "output_type": "display_data"
    }
   ],
   "source": [
    "plt.plot(d1a, d1b, 'r+')\n"
   ]
  },
  {
   "cell_type": "code",
   "execution_count": 25,
   "metadata": {},
   "outputs": [
    {
     "data": {
      "text/plain": [
       "[<matplotlib.lines.Line2D at 0x11caed128>]"
      ]
     },
     "execution_count": 25,
     "metadata": {},
     "output_type": "execute_result"
    },
    {
     "data": {
      "image/png": "[encoded data removed]",
      "text/plain": [
       "<Figure size 432x288 with 1 Axes>"
      ]
     },
     "metadata": {
      "needs_background": "light"
     },
     "output_type": "display_data"
    }
   ],
   "source": [
    "plt.plot(d1a, d1b, 'bo')"
   ]
  },
  {
   "cell_type": "code",
   "execution_count": 26,
   "metadata": {},
   "outputs": [],
   "source": [
    "u = np.array([1,2])"
   ]
  },
  {
   "cell_type": "code",
   "execution_count": 27,
   "metadata": {},
   "outputs": [
    {
     "data": {
      "text/plain": [
       "array([1., 2.])"
      ]
     },
     "execution_count": 27,
     "metadata": {},
     "output_type": "execute_result"
    }
   ],
   "source": [
    "np.dot(u,d1)"
   ]
  },
  {
   "cell_type": "code",
   "execution_count": 28,
   "metadata": {},
   "outputs": [
    {
     "data": {
      "text/plain": [
       "array([1., 2.])"
      ]
     },
     "execution_count": 28,
     "metadata": {},
     "output_type": "execute_result"
    }
   ],
   "source": [
    "d2= np.dot(d1,u)\n",
    "d2"
   ]
  },
  {
   "cell_type": "markdown",
   "metadata": {},
   "source": [
    "Stretch and reflect a 2-D orthonormal matrix (identity matrix) and plot\n",
    "\n",
    "d1=2x2, d1e=1x2 so 1x2 times 2x2 = 1x2"
   ]
  },
  {
   "cell_type": "code",
   "execution_count": 29,
   "metadata": {},
   "outputs": [
    {
     "name": "stdout",
     "output_type": "stream",
     "text": [
      "[[1. 0.]\n",
      " [0. 1.]]\n",
      "[ 3 -4]\n"
     ]
    },
    {
     "data": {
      "text/plain": [
       "array([ 3., -4.])"
      ]
     },
     "execution_count": 29,
     "metadata": {},
     "output_type": "execute_result"
    }
   ],
   "source": [
    "print(d1)\n",
    "d1e = np.array([3, -4])\n",
    "print(d1e)\n",
    "np.dot(d1e,d1)"
   ]
  },
  {
   "cell_type": "code",
   "execution_count": null,
   "metadata": {},
   "outputs": [],
   "source": []
  },
  {
   "cell_type": "markdown",
   "metadata": {},
   "source": [
    "3D graphs"
   ]
  },
  {
   "cell_type": "code",
   "execution_count": 30,
   "metadata": {},
   "outputs": [],
   "source": [
    "from mpl_toolkits import mplot3d\n",
    "from mpl_toolkits.mplot3d import Axes3D"
   ]
  },
  {
   "cell_type": "code",
   "execution_count": 31,
   "metadata": {},
   "outputs": [],
   "source": [
    "#%matplotlib inline\n",
    "%matplotlib notebook"
   ]
  },
  {
   "cell_type": "code",
   "execution_count": 32,
   "metadata": {},
   "outputs": [
    {
     "data": {
      "application/javascript": [
       "/* Put everything inside the global mpl namespace */\n",
       "window.mpl = {};\n",
       "\n",
       "\n",
       "mpl.get_websocket_type = function() {\n",
       "    if (typeof(WebSocket) !== 'undefined') {\n",
       "        return WebSocket;\n",
       "    } else if (typeof(MozWebSocket) !== 'undefined') {\n",
       "        return MozWebSocket;\n",
       "    } else {\n",
       "        alert('Your browser does not have WebSocket support.' +\n",
       "              'Please try Chrome, Safari or Firefox ≥ 6. ' +\n",
       "              'Firefox 4 and 5 are also supported but you ' +\n",
       "              'have to enable WebSockets in about:config.');\n",
       "    };\n",
       "}\n",
       "\n",
       "mpl.figure = function(figure_id, websocket, ondownload, parent_element) {\n",
       "    this.id = figure_id;\n",
       "\n",
       "    this.ws = websocket;\n",
       "\n",
       "    this.supports_binary = (this.ws.binaryType != undefined);\n",
       "\n",
       "    if (!this.supports_binary) {\n",
       "        var warnings = document.getElementById(\"mpl-warnings\");\n",
       "        if (warnings) {\n",
       "            warnings.style.display = 'block';\n",
       "            warnings.textContent = (\n",
       "                \"This browser does not support binary websocket messages. \" +\n",
       "                    \"Performance may be slow.\");\n",
       "        }\n",
       "    }\n",
       "\n",
       "    this.imageObj = new Image();\n",
       "\n",
       "    this.context = undefined;\n",
       "    this.message = undefined;\n",
       "    this.canvas = undefined;\n",
       "    this.rubberband_canvas = undefined;\n",
       "    this.rubberband_context = undefined;\n",
       "    this.format_dropdown = undefined;\n",
       "\n",
       "    this.image_mode = 'full';\n",
       "\n",
       "    this.root = $('<div/>');\n",
       "    this._root_extra_style(this.root)\n",
       "    this.root.attr('style', 'display: inline-block');\n",
       "\n",
       "    $(parent_element).append(this.root);\n",
       "\n",
       "    this._init_header(this);\n",
       "    this._init_canvas(this);\n",
       "    this._init_toolbar(this);\n",
       "\n",
       "    var fig = this;\n",
       "\n",
       "    this.waiting = false;\n",
       "\n",
       "    this.ws.onopen =  function () {\n",
       "            fig.send_message(\"supports_binary\", {value: fig.supports_binary});\n",
       "            fig.send_message(\"send_image_mode\", {});\n",
       "            if (mpl.ratio != 1) {\n",
       "                fig.send_message(\"set_dpi_ratio\", {'dpi_ratio': mpl.ratio});\n",
       "            }\n",
       "            fig.send_message(\"refresh\", {});\n",
       "        }\n",
       "\n",
       "    this.imageObj.onload = function() {\n",
       "            if (fig.image_mode == 'full') {\n",
       "                // Full images could contain transparency (where diff images\n",
       "                // almost always do), so we need to clear the canvas so that\n",
       "                // there is no ghosting.\n",
       "                fig.context.clearRect(0, 0, fig.canvas.width, fig.canvas.height);\n",
       "            }\n",
       "            fig.context.drawImage(fig.imageObj, 0, 0);\n",
       "        };\n",
       "\n",
       "    this.imageObj.onunload = function() {\n",
       "        fig.ws.close();\n",
       "    }\n",
       "\n",
       "    this.ws.onmessage = this._make_on_message_function(this);\n",
       "\n",
       "    this.ondownload = ondownload;\n",
       "}\n",
       "\n",
       "mpl.figure.prototype._init_header = function() {\n",
       "    var titlebar = $(\n",
       "        '<div class=\"ui-dialog-titlebar ui-widget-header ui-corner-all ' +\n",
       "        'ui-helper-clearfix\"/>');\n",
       "    var titletext = $(\n",
       "        '<div class=\"ui-dialog-title\" style=\"width: 100%; ' +\n",
       "        'text-align: center; padding: 3px;\"/>');\n",
       "    titlebar.append(titletext)\n",
       "    this.root.append(titlebar);\n",
       "    this.header = titletext[0];\n",
       "}\n",
       "\n",
       "\n",
       "\n",
       "mpl.figure.prototype._canvas_extra_style = function(canvas_div) {\n",
       "\n",
       "}\n",
       "\n",
       "\n",
       "mpl.figure.prototype._root_extra_style = function(canvas_div) {\n",
       "\n",
       "}\n",
       "\n",
       "mpl.figure.prototype._init_canvas = function() {\n",
       "    var fig = this;\n",
       "\n",
       "    var canvas_div = $('<div/>');\n",
       "\n",
       "    canvas_div.attr('style', 'position: relative; clear: both; outline: 0');\n",
       "\n",
       "    function canvas_keyboard_event(event) {\n",
       "        return fig.key_event(event, event['data']);\n",
       "    }\n",
       "\n",
       "    canvas_div.keydown('key_press', canvas_keyboard_event);\n",
       "    canvas_div.keyup('key_release', canvas_keyboard_event);\n",
       "    this.canvas_div = canvas_div\n",
       "    this._canvas_extra_style(canvas_div)\n",
       "    this.root.append(canvas_div);\n",
       "\n",
       "    var canvas = $('<canvas/>');\n",
       "    canvas.addClass('mpl-canvas');\n",
       "    canvas.attr('style', \"left: 0; top: 0; z-index: 0; outline: 0\")\n",
       "\n",
       "    this.canvas = canvas[0];\n",
       "    this.context = canvas[0].getContext(\"2d\");\n",
       "\n",
       "    var backingStore = this.context.backingStorePixelRatio ||\n",
       "\tthis.context.webkitBackingStorePixelRatio ||\n",
       "\tthis.context.mozBackingStorePixelRatio ||\n",
       "\tthis.context.msBackingStorePixelRatio ||\n",
       "\tthis.context.oBackingStorePixelRatio ||\n",
       "\tthis.context.backingStorePixelRatio || 1;\n",
       "\n",
       "    mpl.ratio = (window.devicePixelRatio || 1) / backingStore;\n",
       "\n",
       "    var rubberband = $('<canvas/>');\n",
       "    rubberband.attr('style', \"position: absolute; left: 0; top: 0; z-index: 1;\")\n",
       "\n",
       "    var pass_mouse_events = true;\n",
       "\n",
       "    canvas_div.resizable({\n",
       "        start: function(event, ui) {\n",
       "            pass_mouse_events = false;\n",
       "        },\n",
       "        resize: function(event, ui) {\n",
       "            fig.request_resize(ui.size.width, ui.size.height);\n",
       "        },\n",
       "        stop: function(event, ui) {\n",
       "            pass_mouse_events = true;\n",
       "            fig.request_resize(ui.size.width, ui.size.height);\n",
       "        },\n",
       "    });\n",
       "\n",
       "    function mouse_event_fn(event) {\n",
       "        if (pass_mouse_events)\n",
       "            return fig.mouse_event(event, event['data']);\n",
       "    }\n",
       "\n",
       "    rubberband.mousedown('button_press', mouse_event_fn);\n",
       "    rubberband.mouseup('button_release', mouse_event_fn);\n",
       "    // Throttle sequential mouse events to 1 every 20ms.\n",
       "    rubberband.mousemove('motion_notify', mouse_event_fn);\n",
       "\n",
       "    rubberband.mouseenter('figure_enter', mouse_event_fn);\n",
       "    rubberband.mouseleave('figure_leave', mouse_event_fn);\n",
       "\n",
       "    canvas_div.on(\"wheel\", function (event) {\n",
       "        event = event.originalEvent;\n",
       "        event['data'] = 'scroll'\n",
       "        if (event.deltaY < 0) {\n",
       "            event.step = 1;\n",
       "        } else {\n",
       "            event.step = -1;\n",
       "        }\n",
       "        mouse_event_fn(event);\n",
       "    });\n",
       "\n",
       "    canvas_div.append(canvas);\n",
       "    canvas_div.append(rubberband);\n",
       "\n",
       "    this.rubberband = rubberband;\n",
       "    this.rubberband_canvas = rubberband[0];\n",
       "    this.rubberband_context = rubberband[0].getContext(\"2d\");\n",
       "    this.rubberband_context.strokeStyle = \"#000000\";\n",
       "\n",
       "    this._resize_canvas = function(width, height) {\n",
       "        // Keep the size of the canvas, canvas container, and rubber band\n",
       "        // canvas in synch.\n",
       "        canvas_div.css('width', width)\n",
       "        canvas_div.css('height', height)\n",
       "\n",
       "        canvas.attr('width', width * mpl.ratio);\n",
       "        canvas.attr('height', height * mpl.ratio);\n",
       "        canvas.attr('style', 'width: ' + width + 'px; height: ' + height + 'px;');\n",
       "\n",
       "        rubberband.attr('width', width);\n",
       "        rubberband.attr('height', height);\n",
       "    }\n",
       "\n",
       "    // Set the figure to an initial 600x600px, this will subsequently be updated\n",
       "    // upon first draw.\n",
       "    this._resize_canvas(600, 600);\n",
       "\n",
       "    // Disable right mouse context menu.\n",
       "    $(this.rubberband_canvas).bind(\"contextmenu\",function(e){\n",
       "        return false;\n",
       "    });\n",
       "\n",
       "    function set_focus () {\n",
       "        canvas.focus();\n",
       "        canvas_div.focus();\n",
       "    }\n",
       "\n",
       "    window.setTimeout(set_focus, 100);\n",
       "}\n",
       "\n",
       "mpl.figure.prototype._init_toolbar = function() {\n",
       "    var fig = this;\n",
       "\n",
       "    var nav_element = $('<div/>')\n",
       "    nav_element.attr('style', 'width: 100%');\n",
       "    this.root.append(nav_element);\n",
       "\n",
       "    // Define a callback function for later on.\n",
       "    function toolbar_event(event) {\n",
       "        return fig.toolbar_button_onclick(event['data']);\n",
       "    }\n",
       "    function toolbar_mouse_event(event) {\n",
       "        return fig.toolbar_button_onmouseover(event['data']);\n",
       "    }\n",
       "\n",
       "    for(var toolbar_ind in mpl.toolbar_items) {\n",
       "        var name = mpl.toolbar_items[toolbar_ind][0];\n",
       "        var tooltip = mpl.toolbar_items[toolbar_ind][1];\n",
       "        var image = mpl.toolbar_items[toolbar_ind][2];\n",
       "        var method_name = mpl.toolbar_items[toolbar_ind][3];\n",
       "\n",
       "        if (!name) {\n",
       "            // put a spacer in here.\n",
       "            continue;\n",
       "        }\n",
       "        var button = $('<button/>');\n",
       "        button.addClass('ui-button ui-widget ui-state-default ui-corner-all ' +\n",
       "                        'ui-button-icon-only');\n",
       "        button.attr('role', 'button');\n",
       "        button.attr('aria-disabled', 'false');\n",
       "        button.click(method_name, toolbar_event);\n",
       "        button.mouseover(tooltip, toolbar_mouse_event);\n",
       "\n",
       "        var icon_img = $('<span/>');\n",
       "        icon_img.addClass('ui-button-icon-primary ui-icon');\n",
       "        icon_img.addClass(image);\n",
       "        icon_img.addClass('ui-corner-all');\n",
       "\n",
       "        var tooltip_span = $('<span/>');\n",
       "        tooltip_span.addClass('ui-button-text');\n",
       "        tooltip_span.html(tooltip);\n",
       "\n",
       "        button.append(icon_img);\n",
       "        button.append(tooltip_span);\n",
       "\n",
       "        nav_element.append(button);\n",
       "    }\n",
       "\n",
       "    var fmt_picker_span = $('<span/>');\n",
       "\n",
       "    var fmt_picker = $('<select/>');\n",
       "    fmt_picker.addClass('mpl-toolbar-option ui-widget ui-widget-content');\n",
       "    fmt_picker_span.append(fmt_picker);\n",
       "    nav_element.append(fmt_picker_span);\n",
       "    this.format_dropdown = fmt_picker[0];\n",
       "\n",
       "    for (var ind in mpl.extensions) {\n",
       "        var fmt = mpl.extensions[ind];\n",
       "        var option = $(\n",
       "            '<option/>', {selected: fmt === mpl.default_extension}).html(fmt);\n",
       "        fmt_picker.append(option)\n",
       "    }\n",
       "\n",
       "    // Add hover states to the ui-buttons\n",
       "    $( \".ui-button\" ).hover(\n",
       "        function() { $(this).addClass(\"ui-state-hover\");},\n",
       "        function() { $(this).removeClass(\"ui-state-hover\");}\n",
       "    );\n",
       "\n",
       "    var status_bar = $('<span class=\"mpl-message\"/>');\n",
       "    nav_element.append(status_bar);\n",
       "    this.message = status_bar[0];\n",
       "}\n",
       "\n",
       "mpl.figure.prototype.request_resize = function(x_pixels, y_pixels) {\n",
       "    // Request matplotlib to resize the figure. Matplotlib will then trigger a resize in the client,\n",
       "    // which will in turn request a refresh of the image.\n",
       "    this.send_message('resize', {'width': x_pixels, 'height': y_pixels});\n",
       "}\n",
       "\n",
       "mpl.figure.prototype.send_message = function(type, properties) {\n",
       "    properties['type'] = type;\n",
       "    properties['figure_id'] = this.id;\n",
       "    this.ws.send(JSON.stringify(properties));\n",
       "}\n",
       "\n",
       "mpl.figure.prototype.send_draw_message = function() {\n",
       "    if (!this.waiting) {\n",
       "        this.waiting = true;\n",
       "        this.ws.send(JSON.stringify({type: \"draw\", figure_id: this.id}));\n",
       "    }\n",
       "}\n",
       "\n",
       "\n",
       "mpl.figure.prototype.handle_save = function(fig, msg) {\n",
       "    var format_dropdown = fig.format_dropdown;\n",
       "    var format = format_dropdown.options[format_dropdown.selectedIndex].value;\n",
       "    fig.ondownload(fig, format);\n",
       "}\n",
       "\n",
       "\n",
       "mpl.figure.prototype.handle_resize = function(fig, msg) {\n",
       "    var size = msg['size'];\n",
       "    if (size[0] != fig.canvas.width || size[1] != fig.canvas.height) {\n",
       "        fig._resize_canvas(size[0], size[1]);\n",
       "        fig.send_message(\"refresh\", {});\n",
       "    };\n",
       "}\n",
       "\n",
       "mpl.figure.prototype.handle_rubberband = function(fig, msg) {\n",
       "    var x0 = msg['x0'] / mpl.ratio;\n",
       "    var y0 = (fig.canvas.height - msg['y0']) / mpl.ratio;\n",
       "    var x1 = msg['x1'] / mpl.ratio;\n",
       "    var y1 = (fig.canvas.height - msg['y1']) / mpl.ratio;\n",
       "    x0 = Math.floor(x0) + 0.5;\n",
       "    y0 = Math.floor(y0) + 0.5;\n",
       "    x1 = Math.floor(x1) + 0.5;\n",
       "    y1 = Math.floor(y1) + 0.5;\n",
       "    var min_x = Math.min(x0, x1);\n",
       "    var min_y = Math.min(y0, y1);\n",
       "    var width = Math.abs(x1 - x0);\n",
       "    var height = Math.abs(y1 - y0);\n",
       "\n",
       "    fig.rubberband_context.clearRect(\n",
       "        0, 0, fig.canvas.width, fig.canvas.height);\n",
       "\n",
       "    fig.rubberband_context.strokeRect(min_x, min_y, width, height);\n",
       "}\n",
       "\n",
       "mpl.figure.prototype.handle_figure_label = function(fig, msg) {\n",
       "    // Updates the figure title.\n",
       "    fig.header.textContent = msg['label'];\n",
       "}\n",
       "\n",
       "mpl.figure.prototype.handle_cursor = function(fig, msg) {\n",
       "    var cursor = msg['cursor'];\n",
       "    switch(cursor)\n",
       "    {\n",
       "    case 0:\n",
       "        cursor = 'pointer';\n",
       "        break;\n",
       "    case 1:\n",
       "        cursor = 'default';\n",
       "        break;\n",
       "    case 2:\n",
       "        cursor = 'crosshair';\n",
       "        break;\n",
       "    case 3:\n",
       "        cursor = 'move';\n",
       "        break;\n",
       "    }\n",
       "    fig.rubberband_canvas.style.cursor = cursor;\n",
       "}\n",
       "\n",
       "mpl.figure.prototype.handle_message = function(fig, msg) {\n",
       "    fig.message.textContent = msg['message'];\n",
       "}\n",
       "\n",
       "mpl.figure.prototype.handle_draw = function(fig, msg) {\n",
       "    // Request the server to send over a new figure.\n",
       "    fig.send_draw_message();\n",
       "}\n",
       "\n",
       "mpl.figure.prototype.handle_image_mode = function(fig, msg) {\n",
       "    fig.image_mode = msg['mode'];\n",
       "}\n",
       "\n",
       "mpl.figure.prototype.updated_canvas_event = function() {\n",
       "    // Called whenever the canvas gets updated.\n",
       "    this.send_message(\"ack\", {});\n",
       "}\n",
       "\n",
       "// A function to construct a web socket function for onmessage handling.\n",
       "// Called in the figure constructor.\n",
       "mpl.figure.prototype._make_on_message_function = function(fig) {\n",
       "    return function socket_on_message(evt) {\n",
       "        if (evt.data instanceof Blob) {\n",
       "            /* FIXME: We get \"Resource interpreted as Image but\n",
       "             * transferred with MIME type text/plain:\" errors on\n",
       "             * Chrome.  But how to set the MIME type?  It doesn't seem\n",
       "             * to be part of the websocket stream */\n",
       "            evt.data.type = \"image/png\";\n",
       "\n",
       "            /* Free the memory for the previous frames */\n",
       "            if (fig.imageObj.src) {\n",
       "                (window.URL || window.webkitURL).revokeObjectURL(\n",
       "                    fig.imageObj.src);\n",
       "            }\n",
       "\n",
       "            fig.imageObj.src = (window.URL || window.webkitURL).createObjectURL(\n",
       "                evt.data);\n",
       "            fig.updated_canvas_event();\n",
       "            fig.waiting = false;\n",
       "            return;\n",
       "        }\n",
       "        else if (typeof evt.data === 'string' && evt.data.slice(0, 21) == \"data:image/png;base64\") {\n",
       "            fig.imageObj.src = evt.data;\n",
       "            fig.updated_canvas_event();\n",
       "            fig.waiting = false;\n",
       "            return;\n",
       "        }\n",
       "\n",
       "        var msg = JSON.parse(evt.data);\n",
       "        var msg_type = msg['type'];\n",
       "\n",
       "        // Call the  \"handle_{type}\" callback, which takes\n",
       "        // the figure and JSON message as its only arguments.\n",
       "        try {\n",
       "            var callback = fig[\"handle_\" + msg_type];\n",
       "        } catch (e) {\n",
       "            console.log(\"No handler for the '\" + msg_type + \"' message type: \", msg);\n",
       "            return;\n",
       "        }\n",
       "\n",
       "        if (callback) {\n",
       "            try {\n",
       "                // console.log(\"Handling '\" + msg_type + \"' message: \", msg);\n",
       "                callback(fig, msg);\n",
       "            } catch (e) {\n",
       "                console.log(\"Exception inside the 'handler_\" + msg_type + \"' callback:\", e, e.stack, msg);\n",
       "            }\n",
       "        }\n",
       "    };\n",
       "}\n",
       "\n",
       "// from http://stackoverflow.com/questions/1114465/getting-mouse-location-in-canvas\n",
       "mpl.findpos = function(e) {\n",
       "    //this section is from http://www.quirksmode.org/js/events_properties.html\n",
       "    var targ;\n",
       "    if (!e)\n",
       "        e = window.event;\n",
       "    if (e.target)\n",
       "        targ = e.target;\n",
       "    else if (e.srcElement)\n",
       "        targ = e.srcElement;\n",
       "    if (targ.nodeType == 3) // defeat Safari bug\n",
       "        targ = targ.parentNode;\n",
       "\n",
       "    // jQuery normalizes the pageX and pageY\n",
       "    // pageX,Y are the mouse positions relative to the document\n",
       "    // offset() returns the position of the element relative to the document\n",
       "    var x = e.pageX - $(targ).offset().left;\n",
       "    var y = e.pageY - $(targ).offset().top;\n",
       "\n",
       "    return {\"x\": x, \"y\": y};\n",
       "};\n",
       "\n",
       "/*\n",
       " * return a copy of an object with only non-object keys\n",
       " * we need this to avoid circular references\n",
       " * http://stackoverflow.com/a/24161582/3208463\n",
       " */\n",
       "function simpleKeys (original) {\n",
       "  return Object.keys(original).reduce(function (obj, key) {\n",
       "    if (typeof original[key] !== 'object')\n",
       "        obj[key] = original[key]\n",
       "    return obj;\n",
       "  }, {});\n",
       "}\n",
       "\n",
       "mpl.figure.prototype.mouse_event = function(event, name) {\n",
       "    var canvas_pos = mpl.findpos(event)\n",
       "\n",
       "    if (name === 'button_press')\n",
       "    {\n",
       "        this.canvas.focus();\n",
       "        this.canvas_div.focus();\n",
       "    }\n",
       "\n",
       "    var x = canvas_pos.x * mpl.ratio;\n",
       "    var y = canvas_pos.y * mpl.ratio;\n",
       "\n",
       "    this.send_message(name, {x: x, y: y, button: event.button,\n",
       "                             step: event.step,\n",
       "                             guiEvent: simpleKeys(event)});\n",
       "\n",
       "    /* This prevents the web browser from automatically changing to\n",
       "     * the text insertion cursor when the button is pressed.  We want\n",
       "     * to control all of the cursor setting manually through the\n",
       "     * 'cursor' event from matplotlib */\n",
       "    event.preventDefault();\n",
       "    return false;\n",
       "}\n",
       "\n",
       "mpl.figure.prototype._key_event_extra = function(event, name) {\n",
       "    // Handle any extra behaviour associated with a key event\n",
       "}\n",
       "\n",
       "mpl.figure.prototype.key_event = function(event, name) {\n",
       "\n",
       "    // Prevent repeat events\n",
       "    if (name == 'key_press')\n",
       "    {\n",
       "        if (event.which === this._key)\n",
       "            return;\n",
       "        else\n",
       "            this._key = event.which;\n",
       "    }\n",
       "    if (name == 'key_release')\n",
       "        this._key = null;\n",
       "\n",
       "    var value = '';\n",
       "    if (event.ctrlKey && event.which != 17)\n",
       "        value += \"ctrl+\";\n",
       "    if (event.altKey && event.which != 18)\n",
       "        value += \"alt+\";\n",
       "    if (event.shiftKey && event.which != 16)\n",
       "        value += \"shift+\";\n",
       "\n",
       "    value += 'k';\n",
       "    value += event.which.toString();\n",
       "\n",
       "    this._key_event_extra(event, name);\n",
       "\n",
       "    this.send_message(name, {key: value,\n",
       "                             guiEvent: simpleKeys(event)});\n",
       "    return false;\n",
       "}\n",
       "\n",
       "mpl.figure.prototype.toolbar_button_onclick = function(name) {\n",
       "    if (name == 'download') {\n",
       "        this.handle_save(this, null);\n",
       "    } else {\n",
       "        this.send_message(\"toolbar_button\", {name: name});\n",
       "    }\n",
       "};\n",
       "\n",
       "mpl.figure.prototype.toolbar_button_onmouseover = function(tooltip) {\n",
       "    this.message.textContent = tooltip;\n",
       "};\n",
       "mpl.toolbar_items = [[\"Home\", \"Reset original view\", \"fa fa-home icon-home\", \"home\"], [\"Back\", \"Back to previous view\", \"fa fa-arrow-left icon-arrow-left\", \"back\"], [\"Forward\", \"Forward to next view\", \"fa fa-arrow-right icon-arrow-right\", \"forward\"], [\"\", \"\", \"\", \"\"], [\"Pan\", \"Pan axes with left mouse, zoom with right\", \"fa fa-arrows icon-move\", \"pan\"], [\"Zoom\", \"Zoom to rectangle\", \"fa fa-square-o icon-check-empty\", \"zoom\"], [\"\", \"\", \"\", \"\"], [\"Download\", \"Download plot\", \"fa fa-floppy-o icon-save\", \"download\"]];\n",
       "\n",
       "mpl.extensions = [\"eps\", \"jpeg\", \"pdf\", \"png\", \"ps\", \"raw\", \"svg\", \"tif\"];\n",
       "\n",
       "mpl.default_extension = \"png\";var comm_websocket_adapter = function(comm) {\n",
       "    // Create a \"websocket\"-like object which calls the given IPython comm\n",
       "    // object with the appropriate methods. Currently this is a non binary\n",
       "    // socket, so there is still some room for performance tuning.\n",
       "    var ws = {};\n",
       "\n",
       "    ws.close = function() {\n",
       "        comm.close()\n",
       "    };\n",
       "    ws.send = function(m) {\n",
       "        //console.log('sending', m);\n",
       "        comm.send(m);\n",
       "    };\n",
       "    // Register the callback with on_msg.\n",
       "    comm.on_msg(function(msg) {\n",
       "        //console.log('receiving', msg['content']['data'], msg);\n",
       "        // Pass the mpl event to the overridden (by mpl) onmessage function.\n",
       "        ws.onmessage(msg['content']['data'])\n",
       "    });\n",
       "    return ws;\n",
       "}\n",
       "\n",
       "mpl.mpl_figure_comm = function(comm, msg) {\n",
       "    // This is the function which gets called when the mpl process\n",
       "    // starts-up an IPython Comm through the \"matplotlib\" channel.\n",
       "\n",
       "    var id = msg.content.data.id;\n",
       "    // Get hold of the div created by the display call when the Comm\n",
       "    // socket was opened in Python.\n",
       "    var element = $(\"#\" + id);\n",
       "    var ws_proxy = comm_websocket_adapter(comm)\n",
       "\n",
       "    function ondownload(figure, format) {\n",
       "        window.open(figure.imageObj.src);\n",
       "    }\n",
       "\n",
       "    var fig = new mpl.figure(id, ws_proxy,\n",
       "                           ondownload,\n",
       "                           element.get(0));\n",
       "\n",
       "    // Call onopen now - mpl needs it, as it is assuming we've passed it a real\n",
       "    // web socket which is closed, not our websocket->open comm proxy.\n",
       "    ws_proxy.onopen();\n",
       "\n",
       "    fig.parent_element = element.get(0);\n",
       "    fig.cell_info = mpl.find_output_cell(\"<div id='\" + id + \"'></div>\");\n",
       "    if (!fig.cell_info) {\n",
       "        console.error(\"Failed to find cell for figure\", id, fig);\n",
       "        return;\n",
       "    }\n",
       "\n",
       "    var output_index = fig.cell_info[2]\n",
       "    var cell = fig.cell_info[0];\n",
       "\n",
       "};\n",
       "\n",
       "mpl.figure.prototype.handle_close = function(fig, msg) {\n",
       "    var width = fig.canvas.width/mpl.ratio\n",
       "    fig.root.unbind('remove')\n",
       "\n",
       "    // Update the output cell to use the data from the current canvas.\n",
       "    fig.push_to_output();\n",
       "    var dataURL = fig.canvas.toDataURL();\n",
       "    // Re-enable the keyboard manager in IPython - without this line, in FF,\n",
       "    // the notebook keyboard shortcuts fail.\n",
       "    IPython.keyboard_manager.enable()\n",
       "    $(fig.parent_element).html('<img src=\"' + dataURL + '\" width=\"' + width + '\">');\n",
       "    fig.close_ws(fig, msg);\n",
       "}\n",
       "\n",
       "mpl.figure.prototype.close_ws = function(fig, msg){\n",
       "    fig.send_message('closing', msg);\n",
       "    // fig.ws.close()\n",
       "}\n",
       "\n",
       "mpl.figure.prototype.push_to_output = function(remove_interactive) {\n",
       "    // Turn the data on the canvas into data in the output cell.\n",
       "    var width = this.canvas.width/mpl.ratio\n",
       "    var dataURL = this.canvas.toDataURL();\n",
       "    this.cell_info[1]['text/html'] = '<img src=\"' + dataURL + '\" width=\"' + width + '\">';\n",
       "}\n",
       "\n",
       "mpl.figure.prototype.updated_canvas_event = function() {\n",
       "    // Tell IPython that the notebook contents must change.\n",
       "    IPython.notebook.set_dirty(true);\n",
       "    this.send_message(\"ack\", {});\n",
       "    var fig = this;\n",
       "    // Wait a second, then push the new image to the DOM so\n",
       "    // that it is saved nicely (might be nice to debounce this).\n",
       "    setTimeout(function () { fig.push_to_output() }, 1000);\n",
       "}\n",
       "\n",
       "mpl.figure.prototype._init_toolbar = function() {\n",
       "    var fig = this;\n",
       "\n",
       "    var nav_element = $('<div/>')\n",
       "    nav_element.attr('style', 'width: 100%');\n",
       "    this.root.append(nav_element);\n",
       "\n",
       "    // Define a callback function for later on.\n",
       "    function toolbar_event(event) {\n",
       "        return fig.toolbar_button_onclick(event['data']);\n",
       "    }\n",
       "    function toolbar_mouse_event(event) {\n",
       "        return fig.toolbar_button_onmouseover(event['data']);\n",
       "    }\n",
       "\n",
       "    for(var toolbar_ind in mpl.toolbar_items){\n",
       "        var name = mpl.toolbar_items[toolbar_ind][0];\n",
       "        var tooltip = mpl.toolbar_items[toolbar_ind][1];\n",
       "        var image = mpl.toolbar_items[toolbar_ind][2];\n",
       "        var method_name = mpl.toolbar_items[toolbar_ind][3];\n",
       "\n",
       "        if (!name) { continue; };\n",
       "\n",
       "        var button = $('<button class=\"btn btn-default\" href=\"#\" title=\"' + name + '\"><i class=\"fa ' + image + ' fa-lg\"></i></button>');\n",
       "        button.click(method_name, toolbar_event);\n",
       "        button.mouseover(tooltip, toolbar_mouse_event);\n",
       "        nav_element.append(button);\n",
       "    }\n",
       "\n",
       "    // Add the status bar.\n",
       "    var status_bar = $('<span class=\"mpl-message\" style=\"text-align:right; float: right;\"/>');\n",
       "    nav_element.append(status_bar);\n",
       "    this.message = status_bar[0];\n",
       "\n",
       "    // Add the close button to the window.\n",
       "    var buttongrp = $('<div class=\"btn-group inline pull-right\"></div>');\n",
       "    var button = $('<button class=\"btn btn-mini btn-primary\" href=\"#\" title=\"Stop Interaction\"><i class=\"fa fa-power-off icon-remove icon-large\"></i></button>');\n",
       "    button.click(function (evt) { fig.handle_close(fig, {}); } );\n",
       "    button.mouseover('Stop Interaction', toolbar_mouse_event);\n",
       "    buttongrp.append(button);\n",
       "    var titlebar = this.root.find($('.ui-dialog-titlebar'));\n",
       "    titlebar.prepend(buttongrp);\n",
       "}\n",
       "\n",
       "mpl.figure.prototype._root_extra_style = function(el){\n",
       "    var fig = this\n",
       "    el.on(\"remove\", function(){\n",
       "\tfig.close_ws(fig, {});\n",
       "    });\n",
       "}\n",
       "\n",
       "mpl.figure.prototype._canvas_extra_style = function(el){\n",
       "    // this is important to make the div 'focusable\n",
       "    el.attr('tabindex', 0)\n",
       "    // reach out to IPython and tell the keyboard manager to turn it's self\n",
       "    // off when our div gets focus\n",
       "\n",
       "    // location in version 3\n",
       "    if (IPython.notebook.keyboard_manager) {\n",
       "        IPython.notebook.keyboard_manager.register_events(el);\n",
       "    }\n",
       "    else {\n",
       "        // location in version 2\n",
       "        IPython.keyboard_manager.register_events(el);\n",
       "    }\n",
       "\n",
       "}\n",
       "\n",
       "mpl.figure.prototype._key_event_extra = function(event, name) {\n",
       "    var manager = IPython.notebook.keyboard_manager;\n",
       "    if (!manager)\n",
       "        manager = IPython.keyboard_manager;\n",
       "\n",
       "    // Check for shift+enter\n",
       "    if (event.shiftKey && event.which == 13) {\n",
       "        this.canvas_div.blur();\n",
       "        event.shiftKey = false;\n",
       "        // Send a \"J\" for go to next cell\n",
       "        event.which = 74;\n",
       "        event.keyCode = 74;\n",
       "        manager.command_mode();\n",
       "        manager.handle_keydown(event);\n",
       "    }\n",
       "}\n",
       "\n",
       "mpl.figure.prototype.handle_save = function(fig, msg) {\n",
       "    fig.ondownload(fig, null);\n",
       "}\n",
       "\n",
       "\n",
       "mpl.find_output_cell = function(html_output) {\n",
       "    // Return the cell and output element which can be found *uniquely* in the notebook.\n",
       "    // Note - this is a bit hacky, but it is done because the \"notebook_saving.Notebook\"\n",
       "    // IPython event is triggered only after the cells have been serialised, which for\n",
       "    // our purposes (turning an active figure into a static one), is too late.\n",
       "    var cells = IPython.notebook.get_cells();\n",
       "    var ncells = cells.length;\n",
       "    for (var i=0; i<ncells; i++) {\n",
       "        var cell = cells[i];\n",
       "        if (cell.cell_type === 'code'){\n",
       "            for (var j=0; j<cell.output_area.outputs.length; j++) {\n",
       "                var data = cell.output_area.outputs[j];\n",
       "                if (data.data) {\n",
       "                    // IPython >= 3 moved mimebundle to data attribute of output\n",
       "                    data = data.data;\n",
       "                }\n",
       "                if (data['text/html'] == html_output) {\n",
       "                    return [cell, data, j];\n",
       "                }\n",
       "            }\n",
       "        }\n",
       "    }\n",
       "}\n",
       "\n",
       "// Register the function which deals with the matplotlib target/channel.\n",
       "// The kernel may be null if the page has been refreshed.\n",
       "if (IPython.notebook.kernel != null) {\n",
       "    IPython.notebook.kernel.comm_manager.register_target('matplotlib', mpl.mpl_figure_comm);\n",
       "}\n"
      ],
      "text/plain": [
       "<IPython.core.display.Javascript object>"
      ]
     },
     "metadata": {},
     "output_type": "display_data"
    },
    {
     "data": {
      "text/html": [
       "<img src=\"data:image/png;base64,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\" width=\"640\">"
      ],
      "text/plain": [
       "<IPython.core.display.HTML object>"
      ]
     },
     "metadata": {},
     "output_type": "display_data"
    }
   ],
   "source": [
    "fig = plt.figure()\n",
    "ax = fig.add_subplot(111, projection = '3d')\n"
   ]
  },
  {
   "cell_type": "code",
   "execution_count": 33,
   "metadata": {},
   "outputs": [
    {
     "data": {
      "application/javascript": [
       "/* Put everything inside the global mpl namespace */\n",
       "window.mpl = {};\n",
       "\n",
       "\n",
       "mpl.get_websocket_type = function() {\n",
       "    if (typeof(WebSocket) !== 'undefined') {\n",
       "        return WebSocket;\n",
       "    } else if (typeof(MozWebSocket) !== 'undefined') {\n",
       "        return MozWebSocket;\n",
       "    } else {\n",
       "        alert('Your browser does not have WebSocket support.' +\n",
       "              'Please try Chrome, Safari or Firefox ≥ 6. ' +\n",
       "              'Firefox 4 and 5 are also supported but you ' +\n",
       "              'have to enable WebSockets in about:config.');\n",
       "    };\n",
       "}\n",
       "\n",
       "mpl.figure = function(figure_id, websocket, ondownload, parent_element) {\n",
       "    this.id = figure_id;\n",
       "\n",
       "    this.ws = websocket;\n",
       "\n",
       "    this.supports_binary = (this.ws.binaryType != undefined);\n",
       "\n",
       "    if (!this.supports_binary) {\n",
       "        var warnings = document.getElementById(\"mpl-warnings\");\n",
       "        if (warnings) {\n",
       "            warnings.style.display = 'block';\n",
       "            warnings.textContent = (\n",
       "                \"This browser does not support binary websocket messages. \" +\n",
       "                    \"Performance may be slow.\");\n",
       "        }\n",
       "    }\n",
       "\n",
       "    this.imageObj = new Image();\n",
       "\n",
       "    this.context = undefined;\n",
       "    this.message = undefined;\n",
       "    this.canvas = undefined;\n",
       "    this.rubberband_canvas = undefined;\n",
       "    this.rubberband_context = undefined;\n",
       "    this.format_dropdown = undefined;\n",
       "\n",
       "    this.image_mode = 'full';\n",
       "\n",
       "    this.root = $('<div/>');\n",
       "    this._root_extra_style(this.root)\n",
       "    this.root.attr('style', 'display: inline-block');\n",
       "\n",
       "    $(parent_element).append(this.root);\n",
       "\n",
       "    this._init_header(this);\n",
       "    this._init_canvas(this);\n",
       "    this._init_toolbar(this);\n",
       "\n",
       "    var fig = this;\n",
       "\n",
       "    this.waiting = false;\n",
       "\n",
       "    this.ws.onopen =  function () {\n",
       "            fig.send_message(\"supports_binary\", {value: fig.supports_binary});\n",
       "            fig.send_message(\"send_image_mode\", {});\n",
       "            if (mpl.ratio != 1) {\n",
       "                fig.send_message(\"set_dpi_ratio\", {'dpi_ratio': mpl.ratio});\n",
       "            }\n",
       "            fig.send_message(\"refresh\", {});\n",
       "        }\n",
       "\n",
       "    this.imageObj.onload = function() {\n",
       "            if (fig.image_mode == 'full') {\n",
       "                // Full images could contain transparency (where diff images\n",
       "                // almost always do), so we need to clear the canvas so that\n",
       "                // there is no ghosting.\n",
       "                fig.context.clearRect(0, 0, fig.canvas.width, fig.canvas.height);\n",
       "            }\n",
       "            fig.context.drawImage(fig.imageObj, 0, 0);\n",
       "        };\n",
       "\n",
       "    this.imageObj.onunload = function() {\n",
       "        fig.ws.close();\n",
       "    }\n",
       "\n",
       "    this.ws.onmessage = this._make_on_message_function(this);\n",
       "\n",
       "    this.ondownload = ondownload;\n",
       "}\n",
       "\n",
       "mpl.figure.prototype._init_header = function() {\n",
       "    var titlebar = $(\n",
       "        '<div class=\"ui-dialog-titlebar ui-widget-header ui-corner-all ' +\n",
       "        'ui-helper-clearfix\"/>');\n",
       "    var titletext = $(\n",
       "        '<div class=\"ui-dialog-title\" style=\"width: 100%; ' +\n",
       "        'text-align: center; padding: 3px;\"/>');\n",
       "    titlebar.append(titletext)\n",
       "    this.root.append(titlebar);\n",
       "    this.header = titletext[0];\n",
       "}\n",
       "\n",
       "\n",
       "\n",
       "mpl.figure.prototype._canvas_extra_style = function(canvas_div) {\n",
       "\n",
       "}\n",
       "\n",
       "\n",
       "mpl.figure.prototype._root_extra_style = function(canvas_div) {\n",
       "\n",
       "}\n",
       "\n",
       "mpl.figure.prototype._init_canvas = function() {\n",
       "    var fig = this;\n",
       "\n",
       "    var canvas_div = $('<div/>');\n",
       "\n",
       "    canvas_div.attr('style', 'position: relative; clear: both; outline: 0');\n",
       "\n",
       "    function canvas_keyboard_event(event) {\n",
       "        return fig.key_event(event, event['data']);\n",
       "    }\n",
       "\n",
       "    canvas_div.keydown('key_press', canvas_keyboard_event);\n",
       "    canvas_div.keyup('key_release', canvas_keyboard_event);\n",
       "    this.canvas_div = canvas_div\n",
       "    this._canvas_extra_style(canvas_div)\n",
       "    this.root.append(canvas_div);\n",
       "\n",
       "    var canvas = $('<canvas/>');\n",
       "    canvas.addClass('mpl-canvas');\n",
       "    canvas.attr('style', \"left: 0; top: 0; z-index: 0; outline: 0\")\n",
       "\n",
       "    this.canvas = canvas[0];\n",
       "    this.context = canvas[0].getContext(\"2d\");\n",
       "\n",
       "    var backingStore = this.context.backingStorePixelRatio ||\n",
       "\tthis.context.webkitBackingStorePixelRatio ||\n",
       "\tthis.context.mozBackingStorePixelRatio ||\n",
       "\tthis.context.msBackingStorePixelRatio ||\n",
       "\tthis.context.oBackingStorePixelRatio ||\n",
       "\tthis.context.backingStorePixelRatio || 1;\n",
       "\n",
       "    mpl.ratio = (window.devicePixelRatio || 1) / backingStore;\n",
       "\n",
       "    var rubberband = $('<canvas/>');\n",
       "    rubberband.attr('style', \"position: absolute; left: 0; top: 0; z-index: 1;\")\n",
       "\n",
       "    var pass_mouse_events = true;\n",
       "\n",
       "    canvas_div.resizable({\n",
       "        start: function(event, ui) {\n",
       "            pass_mouse_events = false;\n",
       "        },\n",
       "        resize: function(event, ui) {\n",
       "            fig.request_resize(ui.size.width, ui.size.height);\n",
       "        },\n",
       "        stop: function(event, ui) {\n",
       "            pass_mouse_events = true;\n",
       "            fig.request_resize(ui.size.width, ui.size.height);\n",
       "        },\n",
       "    });\n",
       "\n",
       "    function mouse_event_fn(event) {\n",
       "        if (pass_mouse_events)\n",
       "            return fig.mouse_event(event, event['data']);\n",
       "    }\n",
       "\n",
       "    rubberband.mousedown('button_press', mouse_event_fn);\n",
       "    rubberband.mouseup('button_release', mouse_event_fn);\n",
       "    // Throttle sequential mouse events to 1 every 20ms.\n",
       "    rubberband.mousemove('motion_notify', mouse_event_fn);\n",
       "\n",
       "    rubberband.mouseenter('figure_enter', mouse_event_fn);\n",
       "    rubberband.mouseleave('figure_leave', mouse_event_fn);\n",
       "\n",
       "    canvas_div.on(\"wheel\", function (event) {\n",
       "        event = event.originalEvent;\n",
       "        event['data'] = 'scroll'\n",
       "        if (event.deltaY < 0) {\n",
       "            event.step = 1;\n",
       "        } else {\n",
       "            event.step = -1;\n",
       "        }\n",
       "        mouse_event_fn(event);\n",
       "    });\n",
       "\n",
       "    canvas_div.append(canvas);\n",
       "    canvas_div.append(rubberband);\n",
       "\n",
       "    this.rubberband = rubberband;\n",
       "    this.rubberband_canvas = rubberband[0];\n",
       "    this.rubberband_context = rubberband[0].getContext(\"2d\");\n",
       "    this.rubberband_context.strokeStyle = \"#000000\";\n",
       "\n",
       "    this._resize_canvas = function(width, height) {\n",
       "        // Keep the size of the canvas, canvas container, and rubber band\n",
       "        // canvas in synch.\n",
       "        canvas_div.css('width', width)\n",
       "        canvas_div.css('height', height)\n",
       "\n",
       "        canvas.attr('width', width * mpl.ratio);\n",
       "        canvas.attr('height', height * mpl.ratio);\n",
       "        canvas.attr('style', 'width: ' + width + 'px; height: ' + height + 'px;');\n",
       "\n",
       "        rubberband.attr('width', width);\n",
       "        rubberband.attr('height', height);\n",
       "    }\n",
       "\n",
       "    // Set the figure to an initial 600x600px, this will subsequently be updated\n",
       "    // upon first draw.\n",
       "    this._resize_canvas(600, 600);\n",
       "\n",
       "    // Disable right mouse context menu.\n",
       "    $(this.rubberband_canvas).bind(\"contextmenu\",function(e){\n",
       "        return false;\n",
       "    });\n",
       "\n",
       "    function set_focus () {\n",
       "        canvas.focus();\n",
       "        canvas_div.focus();\n",
       "    }\n",
       "\n",
       "    window.setTimeout(set_focus, 100);\n",
       "}\n",
       "\n",
       "mpl.figure.prototype._init_toolbar = function() {\n",
       "    var fig = this;\n",
       "\n",
       "    var nav_element = $('<div/>')\n",
       "    nav_element.attr('style', 'width: 100%');\n",
       "    this.root.append(nav_element);\n",
       "\n",
       "    // Define a callback function for later on.\n",
       "    function toolbar_event(event) {\n",
       "        return fig.toolbar_button_onclick(event['data']);\n",
       "    }\n",
       "    function toolbar_mouse_event(event) {\n",
       "        return fig.toolbar_button_onmouseover(event['data']);\n",
       "    }\n",
       "\n",
       "    for(var toolbar_ind in mpl.toolbar_items) {\n",
       "        var name = mpl.toolbar_items[toolbar_ind][0];\n",
       "        var tooltip = mpl.toolbar_items[toolbar_ind][1];\n",
       "        var image = mpl.toolbar_items[toolbar_ind][2];\n",
       "        var method_name = mpl.toolbar_items[toolbar_ind][3];\n",
       "\n",
       "        if (!name) {\n",
       "            // put a spacer in here.\n",
       "            continue;\n",
       "        }\n",
       "        var button = $('<button/>');\n",
       "        button.addClass('ui-button ui-widget ui-state-default ui-corner-all ' +\n",
       "                        'ui-button-icon-only');\n",
       "        button.attr('role', 'button');\n",
       "        button.attr('aria-disabled', 'false');\n",
       "        button.click(method_name, toolbar_event);\n",
       "        button.mouseover(tooltip, toolbar_mouse_event);\n",
       "\n",
       "        var icon_img = $('<span/>');\n",
       "        icon_img.addClass('ui-button-icon-primary ui-icon');\n",
       "        icon_img.addClass(image);\n",
       "        icon_img.addClass('ui-corner-all');\n",
       "\n",
       "        var tooltip_span = $('<span/>');\n",
       "        tooltip_span.addClass('ui-button-text');\n",
       "        tooltip_span.html(tooltip);\n",
       "\n",
       "        button.append(icon_img);\n",
       "        button.append(tooltip_span);\n",
       "\n",
       "        nav_element.append(button);\n",
       "    }\n",
       "\n",
       "    var fmt_picker_span = $('<span/>');\n",
       "\n",
       "    var fmt_picker = $('<select/>');\n",
       "    fmt_picker.addClass('mpl-toolbar-option ui-widget ui-widget-content');\n",
       "    fmt_picker_span.append(fmt_picker);\n",
       "    nav_element.append(fmt_picker_span);\n",
       "    this.format_dropdown = fmt_picker[0];\n",
       "\n",
       "    for (var ind in mpl.extensions) {\n",
       "        var fmt = mpl.extensions[ind];\n",
       "        var option = $(\n",
       "            '<option/>', {selected: fmt === mpl.default_extension}).html(fmt);\n",
       "        fmt_picker.append(option)\n",
       "    }\n",
       "\n",
       "    // Add hover states to the ui-buttons\n",
       "    $( \".ui-button\" ).hover(\n",
       "        function() { $(this).addClass(\"ui-state-hover\");},\n",
       "        function() { $(this).removeClass(\"ui-state-hover\");}\n",
       "    );\n",
       "\n",
       "    var status_bar = $('<span class=\"mpl-message\"/>');\n",
       "    nav_element.append(status_bar);\n",
       "    this.message = status_bar[0];\n",
       "}\n",
       "\n",
       "mpl.figure.prototype.request_resize = function(x_pixels, y_pixels) {\n",
       "    // Request matplotlib to resize the figure. Matplotlib will then trigger a resize in the client,\n",
       "    // which will in turn request a refresh of the image.\n",
       "    this.send_message('resize', {'width': x_pixels, 'height': y_pixels});\n",
       "}\n",
       "\n",
       "mpl.figure.prototype.send_message = function(type, properties) {\n",
       "    properties['type'] = type;\n",
       "    properties['figure_id'] = this.id;\n",
       "    this.ws.send(JSON.stringify(properties));\n",
       "}\n",
       "\n",
       "mpl.figure.prototype.send_draw_message = function() {\n",
       "    if (!this.waiting) {\n",
       "        this.waiting = true;\n",
       "        this.ws.send(JSON.stringify({type: \"draw\", figure_id: this.id}));\n",
       "    }\n",
       "}\n",
       "\n",
       "\n",
       "mpl.figure.prototype.handle_save = function(fig, msg) {\n",
       "    var format_dropdown = fig.format_dropdown;\n",
       "    var format = format_dropdown.options[format_dropdown.selectedIndex].value;\n",
       "    fig.ondownload(fig, format);\n",
       "}\n",
       "\n",
       "\n",
       "mpl.figure.prototype.handle_resize = function(fig, msg) {\n",
       "    var size = msg['size'];\n",
       "    if (size[0] != fig.canvas.width || size[1] != fig.canvas.height) {\n",
       "        fig._resize_canvas(size[0], size[1]);\n",
       "        fig.send_message(\"refresh\", {});\n",
       "    };\n",
       "}\n",
       "\n",
       "mpl.figure.prototype.handle_rubberband = function(fig, msg) {\n",
       "    var x0 = msg['x0'] / mpl.ratio;\n",
       "    var y0 = (fig.canvas.height - msg['y0']) / mpl.ratio;\n",
       "    var x1 = msg['x1'] / mpl.ratio;\n",
       "    var y1 = (fig.canvas.height - msg['y1']) / mpl.ratio;\n",
       "    x0 = Math.floor(x0) + 0.5;\n",
       "    y0 = Math.floor(y0) + 0.5;\n",
       "    x1 = Math.floor(x1) + 0.5;\n",
       "    y1 = Math.floor(y1) + 0.5;\n",
       "    var min_x = Math.min(x0, x1);\n",
       "    var min_y = Math.min(y0, y1);\n",
       "    var width = Math.abs(x1 - x0);\n",
       "    var height = Math.abs(y1 - y0);\n",
       "\n",
       "    fig.rubberband_context.clearRect(\n",
       "        0, 0, fig.canvas.width, fig.canvas.height);\n",
       "\n",
       "    fig.rubberband_context.strokeRect(min_x, min_y, width, height);\n",
       "}\n",
       "\n",
       "mpl.figure.prototype.handle_figure_label = function(fig, msg) {\n",
       "    // Updates the figure title.\n",
       "    fig.header.textContent = msg['label'];\n",
       "}\n",
       "\n",
       "mpl.figure.prototype.handle_cursor = function(fig, msg) {\n",
       "    var cursor = msg['cursor'];\n",
       "    switch(cursor)\n",
       "    {\n",
       "    case 0:\n",
       "        cursor = 'pointer';\n",
       "        break;\n",
       "    case 1:\n",
       "        cursor = 'default';\n",
       "        break;\n",
       "    case 2:\n",
       "        cursor = 'crosshair';\n",
       "        break;\n",
       "    case 3:\n",
       "        cursor = 'move';\n",
       "        break;\n",
       "    }\n",
       "    fig.rubberband_canvas.style.cursor = cursor;\n",
       "}\n",
       "\n",
       "mpl.figure.prototype.handle_message = function(fig, msg) {\n",
       "    fig.message.textContent = msg['message'];\n",
       "}\n",
       "\n",
       "mpl.figure.prototype.handle_draw = function(fig, msg) {\n",
       "    // Request the server to send over a new figure.\n",
       "    fig.send_draw_message();\n",
       "}\n",
       "\n",
       "mpl.figure.prototype.handle_image_mode = function(fig, msg) {\n",
       "    fig.image_mode = msg['mode'];\n",
       "}\n",
       "\n",
       "mpl.figure.prototype.updated_canvas_event = function() {\n",
       "    // Called whenever the canvas gets updated.\n",
       "    this.send_message(\"ack\", {});\n",
       "}\n",
       "\n",
       "// A function to construct a web socket function for onmessage handling.\n",
       "// Called in the figure constructor.\n",
       "mpl.figure.prototype._make_on_message_function = function(fig) {\n",
       "    return function socket_on_message(evt) {\n",
       "        if (evt.data instanceof Blob) {\n",
       "            /* FIXME: We get \"Resource interpreted as Image but\n",
       "             * transferred with MIME type text/plain:\" errors on\n",
       "             * Chrome.  But how to set the MIME type?  It doesn't seem\n",
       "             * to be part of the websocket stream */\n",
       "            evt.data.type = \"image/png\";\n",
       "\n",
       "            /* Free the memory for the previous frames */\n",
       "            if (fig.imageObj.src) {\n",
       "                (window.URL || window.webkitURL).revokeObjectURL(\n",
       "                    fig.imageObj.src);\n",
       "            }\n",
       "\n",
       "            fig.imageObj.src = (window.URL || window.webkitURL).createObjectURL(\n",
       "                evt.data);\n",
       "            fig.updated_canvas_event();\n",
       "            fig.waiting = false;\n",
       "            return;\n",
       "        }\n",
       "        else if (typeof evt.data === 'string' && evt.data.slice(0, 21) == \"data:image/png;base64\") {\n",
       "            fig.imageObj.src = evt.data;\n",
       "            fig.updated_canvas_event();\n",
       "            fig.waiting = false;\n",
       "            return;\n",
       "        }\n",
       "\n",
       "        var msg = JSON.parse(evt.data);\n",
       "        var msg_type = msg['type'];\n",
       "\n",
       "        // Call the  \"handle_{type}\" callback, which takes\n",
       "        // the figure and JSON message as its only arguments.\n",
       "        try {\n",
       "            var callback = fig[\"handle_\" + msg_type];\n",
       "        } catch (e) {\n",
       "            console.log(\"No handler for the '\" + msg_type + \"' message type: \", msg);\n",
       "            return;\n",
       "        }\n",
       "\n",
       "        if (callback) {\n",
       "            try {\n",
       "                // console.log(\"Handling '\" + msg_type + \"' message: \", msg);\n",
       "                callback(fig, msg);\n",
       "            } catch (e) {\n",
       "                console.log(\"Exception inside the 'handler_\" + msg_type + \"' callback:\", e, e.stack, msg);\n",
       "            }\n",
       "        }\n",
       "    };\n",
       "}\n",
       "\n",
       "// from http://stackoverflow.com/questions/1114465/getting-mouse-location-in-canvas\n",
       "mpl.findpos = function(e) {\n",
       "    //this section is from http://www.quirksmode.org/js/events_properties.html\n",
       "    var targ;\n",
       "    if (!e)\n",
       "        e = window.event;\n",
       "    if (e.target)\n",
       "        targ = e.target;\n",
       "    else if (e.srcElement)\n",
       "        targ = e.srcElement;\n",
       "    if (targ.nodeType == 3) // defeat Safari bug\n",
       "        targ = targ.parentNode;\n",
       "\n",
       "    // jQuery normalizes the pageX and pageY\n",
       "    // pageX,Y are the mouse positions relative to the document\n",
       "    // offset() returns the position of the element relative to the document\n",
       "    var x = e.pageX - $(targ).offset().left;\n",
       "    var y = e.pageY - $(targ).offset().top;\n",
       "\n",
       "    return {\"x\": x, \"y\": y};\n",
       "};\n",
       "\n",
       "/*\n",
       " * return a copy of an object with only non-object keys\n",
       " * we need this to avoid circular references\n",
       " * http://stackoverflow.com/a/24161582/3208463\n",
       " */\n",
       "function simpleKeys (original) {\n",
       "  return Object.keys(original).reduce(function (obj, key) {\n",
       "    if (typeof original[key] !== 'object')\n",
       "        obj[key] = original[key]\n",
       "    return obj;\n",
       "  }, {});\n",
       "}\n",
       "\n",
       "mpl.figure.prototype.mouse_event = function(event, name) {\n",
       "    var canvas_pos = mpl.findpos(event)\n",
       "\n",
       "    if (name === 'button_press')\n",
       "    {\n",
       "        this.canvas.focus();\n",
       "        this.canvas_div.focus();\n",
       "    }\n",
       "\n",
       "    var x = canvas_pos.x * mpl.ratio;\n",
       "    var y = canvas_pos.y * mpl.ratio;\n",
       "\n",
       "    this.send_message(name, {x: x, y: y, button: event.button,\n",
       "                             step: event.step,\n",
       "                             guiEvent: simpleKeys(event)});\n",
       "\n",
       "    /* This prevents the web browser from automatically changing to\n",
       "     * the text insertion cursor when the button is pressed.  We want\n",
       "     * to control all of the cursor setting manually through the\n",
       "     * 'cursor' event from matplotlib */\n",
       "    event.preventDefault();\n",
       "    return false;\n",
       "}\n",
       "\n",
       "mpl.figure.prototype._key_event_extra = function(event, name) {\n",
       "    // Handle any extra behaviour associated with a key event\n",
       "}\n",
       "\n",
       "mpl.figure.prototype.key_event = function(event, name) {\n",
       "\n",
       "    // Prevent repeat events\n",
       "    if (name == 'key_press')\n",
       "    {\n",
       "        if (event.which === this._key)\n",
       "            return;\n",
       "        else\n",
       "            this._key = event.which;\n",
       "    }\n",
       "    if (name == 'key_release')\n",
       "        this._key = null;\n",
       "\n",
       "    var value = '';\n",
       "    if (event.ctrlKey && event.which != 17)\n",
       "        value += \"ctrl+\";\n",
       "    if (event.altKey && event.which != 18)\n",
       "        value += \"alt+\";\n",
       "    if (event.shiftKey && event.which != 16)\n",
       "        value += \"shift+\";\n",
       "\n",
       "    value += 'k';\n",
       "    value += event.which.toString();\n",
       "\n",
       "    this._key_event_extra(event, name);\n",
       "\n",
       "    this.send_message(name, {key: value,\n",
       "                             guiEvent: simpleKeys(event)});\n",
       "    return false;\n",
       "}\n",
       "\n",
       "mpl.figure.prototype.toolbar_button_onclick = function(name) {\n",
       "    if (name == 'download') {\n",
       "        this.handle_save(this, null);\n",
       "    } else {\n",
       "        this.send_message(\"toolbar_button\", {name: name});\n",
       "    }\n",
       "};\n",
       "\n",
       "mpl.figure.prototype.toolbar_button_onmouseover = function(tooltip) {\n",
       "    this.message.textContent = tooltip;\n",
       "};\n",
       "mpl.toolbar_items = [[\"Home\", \"Reset original view\", \"fa fa-home icon-home\", \"home\"], [\"Back\", \"Back to previous view\", \"fa fa-arrow-left icon-arrow-left\", \"back\"], [\"Forward\", \"Forward to next view\", \"fa fa-arrow-right icon-arrow-right\", \"forward\"], [\"\", \"\", \"\", \"\"], [\"Pan\", \"Pan axes with left mouse, zoom with right\", \"fa fa-arrows icon-move\", \"pan\"], [\"Zoom\", \"Zoom to rectangle\", \"fa fa-square-o icon-check-empty\", \"zoom\"], [\"\", \"\", \"\", \"\"], [\"Download\", \"Download plot\", \"fa fa-floppy-o icon-save\", \"download\"]];\n",
       "\n",
       "mpl.extensions = [\"eps\", \"jpeg\", \"pdf\", \"png\", \"ps\", \"raw\", \"svg\", \"tif\"];\n",
       "\n",
       "mpl.default_extension = \"png\";var comm_websocket_adapter = function(comm) {\n",
       "    // Create a \"websocket\"-like object which calls the given IPython comm\n",
       "    // object with the appropriate methods. Currently this is a non binary\n",
       "    // socket, so there is still some room for performance tuning.\n",
       "    var ws = {};\n",
       "\n",
       "    ws.close = function() {\n",
       "        comm.close()\n",
       "    };\n",
       "    ws.send = function(m) {\n",
       "        //console.log('sending', m);\n",
       "        comm.send(m);\n",
       "    };\n",
       "    // Register the callback with on_msg.\n",
       "    comm.on_msg(function(msg) {\n",
       "        //console.log('receiving', msg['content']['data'], msg);\n",
       "        // Pass the mpl event to the overridden (by mpl) onmessage function.\n",
       "        ws.onmessage(msg['content']['data'])\n",
       "    });\n",
       "    return ws;\n",
       "}\n",
       "\n",
       "mpl.mpl_figure_comm = function(comm, msg) {\n",
       "    // This is the function which gets called when the mpl process\n",
       "    // starts-up an IPython Comm through the \"matplotlib\" channel.\n",
       "\n",
       "    var id = msg.content.data.id;\n",
       "    // Get hold of the div created by the display call when the Comm\n",
       "    // socket was opened in Python.\n",
       "    var element = $(\"#\" + id);\n",
       "    var ws_proxy = comm_websocket_adapter(comm)\n",
       "\n",
       "    function ondownload(figure, format) {\n",
       "        window.open(figure.imageObj.src);\n",
       "    }\n",
       "\n",
       "    var fig = new mpl.figure(id, ws_proxy,\n",
       "                           ondownload,\n",
       "                           element.get(0));\n",
       "\n",
       "    // Call onopen now - mpl needs it, as it is assuming we've passed it a real\n",
       "    // web socket which is closed, not our websocket->open comm proxy.\n",
       "    ws_proxy.onopen();\n",
       "\n",
       "    fig.parent_element = element.get(0);\n",
       "    fig.cell_info = mpl.find_output_cell(\"<div id='\" + id + \"'></div>\");\n",
       "    if (!fig.cell_info) {\n",
       "        console.error(\"Failed to find cell for figure\", id, fig);\n",
       "        return;\n",
       "    }\n",
       "\n",
       "    var output_index = fig.cell_info[2]\n",
       "    var cell = fig.cell_info[0];\n",
       "\n",
       "};\n",
       "\n",
       "mpl.figure.prototype.handle_close = function(fig, msg) {\n",
       "    var width = fig.canvas.width/mpl.ratio\n",
       "    fig.root.unbind('remove')\n",
       "\n",
       "    // Update the output cell to use the data from the current canvas.\n",
       "    fig.push_to_output();\n",
       "    var dataURL = fig.canvas.toDataURL();\n",
       "    // Re-enable the keyboard manager in IPython - without this line, in FF,\n",
       "    // the notebook keyboard shortcuts fail.\n",
       "    IPython.keyboard_manager.enable()\n",
       "    $(fig.parent_element).html('<img src=\"' + dataURL + '\" width=\"' + width + '\">');\n",
       "    fig.close_ws(fig, msg);\n",
       "}\n",
       "\n",
       "mpl.figure.prototype.close_ws = function(fig, msg){\n",
       "    fig.send_message('closing', msg);\n",
       "    // fig.ws.close()\n",
       "}\n",
       "\n",
       "mpl.figure.prototype.push_to_output = function(remove_interactive) {\n",
       "    // Turn the data on the canvas into data in the output cell.\n",
       "    var width = this.canvas.width/mpl.ratio\n",
       "    var dataURL = this.canvas.toDataURL();\n",
       "    this.cell_info[1]['text/html'] = '<img src=\"' + dataURL + '\" width=\"' + width + '\">';\n",
       "}\n",
       "\n",
       "mpl.figure.prototype.updated_canvas_event = function() {\n",
       "    // Tell IPython that the notebook contents must change.\n",
       "    IPython.notebook.set_dirty(true);\n",
       "    this.send_message(\"ack\", {});\n",
       "    var fig = this;\n",
       "    // Wait a second, then push the new image to the DOM so\n",
       "    // that it is saved nicely (might be nice to debounce this).\n",
       "    setTimeout(function () { fig.push_to_output() }, 1000);\n",
       "}\n",
       "\n",
       "mpl.figure.prototype._init_toolbar = function() {\n",
       "    var fig = this;\n",
       "\n",
       "    var nav_element = $('<div/>')\n",
       "    nav_element.attr('style', 'width: 100%');\n",
       "    this.root.append(nav_element);\n",
       "\n",
       "    // Define a callback function for later on.\n",
       "    function toolbar_event(event) {\n",
       "        return fig.toolbar_button_onclick(event['data']);\n",
       "    }\n",
       "    function toolbar_mouse_event(event) {\n",
       "        return fig.toolbar_button_onmouseover(event['data']);\n",
       "    }\n",
       "\n",
       "    for(var toolbar_ind in mpl.toolbar_items){\n",
       "        var name = mpl.toolbar_items[toolbar_ind][0];\n",
       "        var tooltip = mpl.toolbar_items[toolbar_ind][1];\n",
       "        var image = mpl.toolbar_items[toolbar_ind][2];\n",
       "        var method_name = mpl.toolbar_items[toolbar_ind][3];\n",
       "\n",
       "        if (!name) { continue; };\n",
       "\n",
       "        var button = $('<button class=\"btn btn-default\" href=\"#\" title=\"' + name + '\"><i class=\"fa ' + image + ' fa-lg\"></i></button>');\n",
       "        button.click(method_name, toolbar_event);\n",
       "        button.mouseover(tooltip, toolbar_mouse_event);\n",
       "        nav_element.append(button);\n",
       "    }\n",
       "\n",
       "    // Add the status bar.\n",
       "    var status_bar = $('<span class=\"mpl-message\" style=\"text-align:right; float: right;\"/>');\n",
       "    nav_element.append(status_bar);\n",
       "    this.message = status_bar[0];\n",
       "\n",
       "    // Add the close button to the window.\n",
       "    var buttongrp = $('<div class=\"btn-group inline pull-right\"></div>');\n",
       "    var button = $('<button class=\"btn btn-mini btn-primary\" href=\"#\" title=\"Stop Interaction\"><i class=\"fa fa-power-off icon-remove icon-large\"></i></button>');\n",
       "    button.click(function (evt) { fig.handle_close(fig, {}); } );\n",
       "    button.mouseover('Stop Interaction', toolbar_mouse_event);\n",
       "    buttongrp.append(button);\n",
       "    var titlebar = this.root.find($('.ui-dialog-titlebar'));\n",
       "    titlebar.prepend(buttongrp);\n",
       "}\n",
       "\n",
       "mpl.figure.prototype._root_extra_style = function(el){\n",
       "    var fig = this\n",
       "    el.on(\"remove\", function(){\n",
       "\tfig.close_ws(fig, {});\n",
       "    });\n",
       "}\n",
       "\n",
       "mpl.figure.prototype._canvas_extra_style = function(el){\n",
       "    // this is important to make the div 'focusable\n",
       "    el.attr('tabindex', 0)\n",
       "    // reach out to IPython and tell the keyboard manager to turn it's self\n",
       "    // off when our div gets focus\n",
       "\n",
       "    // location in version 3\n",
       "    if (IPython.notebook.keyboard_manager) {\n",
       "        IPython.notebook.keyboard_manager.register_events(el);\n",
       "    }\n",
       "    else {\n",
       "        // location in version 2\n",
       "        IPython.keyboard_manager.register_events(el);\n",
       "    }\n",
       "\n",
       "}\n",
       "\n",
       "mpl.figure.prototype._key_event_extra = function(event, name) {\n",
       "    var manager = IPython.notebook.keyboard_manager;\n",
       "    if (!manager)\n",
       "        manager = IPython.keyboard_manager;\n",
       "\n",
       "    // Check for shift+enter\n",
       "    if (event.shiftKey && event.which == 13) {\n",
       "        this.canvas_div.blur();\n",
       "        event.shiftKey = false;\n",
       "        // Send a \"J\" for go to next cell\n",
       "        event.which = 74;\n",
       "        event.keyCode = 74;\n",
       "        manager.command_mode();\n",
       "        manager.handle_keydown(event);\n",
       "    }\n",
       "}\n",
       "\n",
       "mpl.figure.prototype.handle_save = function(fig, msg) {\n",
       "    fig.ondownload(fig, null);\n",
       "}\n",
       "\n",
       "\n",
       "mpl.find_output_cell = function(html_output) {\n",
       "    // Return the cell and output element which can be found *uniquely* in the notebook.\n",
       "    // Note - this is a bit hacky, but it is done because the \"notebook_saving.Notebook\"\n",
       "    // IPython event is triggered only after the cells have been serialised, which for\n",
       "    // our purposes (turning an active figure into a static one), is too late.\n",
       "    var cells = IPython.notebook.get_cells();\n",
       "    var ncells = cells.length;\n",
       "    for (var i=0; i<ncells; i++) {\n",
       "        var cell = cells[i];\n",
       "        if (cell.cell_type === 'code'){\n",
       "            for (var j=0; j<cell.output_area.outputs.length; j++) {\n",
       "                var data = cell.output_area.outputs[j];\n",
       "                if (data.data) {\n",
       "                    // IPython >= 3 moved mimebundle to data attribute of output\n",
       "                    data = data.data;\n",
       "                }\n",
       "                if (data['text/html'] == html_output) {\n",
       "                    return [cell, data, j];\n",
       "                }\n",
       "            }\n",
       "        }\n",
       "    }\n",
       "}\n",
       "\n",
       "// Register the function which deals with the matplotlib target/channel.\n",
       "// The kernel may be null if the page has been refreshed.\n",
       "if (IPython.notebook.kernel != null) {\n",
       "    IPython.notebook.kernel.comm_manager.register_target('matplotlib', mpl.mpl_figure_comm);\n",
       "}\n"
      ],
      "text/plain": [
       "<IPython.core.display.Javascript object>"
      ]
     },
     "metadata": {},
     "output_type": "display_data"
    },
    {
     "data": {
      "text/html": [
       "<img src=\"data:image/png;base64,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\" width=\"640\">"
      ],
      "text/plain": [
       "<IPython.core.display.HTML object>"
      ]
     },
     "metadata": {},
     "output_type": "display_data"
    },
    {
     "data": {
      "text/plain": [
       "<mpl_toolkits.mplot3d.art3d.Path3DCollection at 0x11d144390>"
      ]
     },
     "execution_count": 33,
     "metadata": {},
     "output_type": "execute_result"
    }
   ],
   "source": [
    "z = [1]\n",
    "x = [2]\n",
    "y = [3]\n",
    "ax.scatter(x, y, z, c='r', marker = 'o');\n",
    "#ax.scatter(x, y, zs=0, zdir='y', c='b', label='points in (x,z)')\n",
    "fig = plt.figure()\n",
    "ax = fig.add_subplot(111, projection = '3d')\n",
    "ax.scatter(x,y,z)"
   ]
  },
  {
   "cell_type": "code",
   "execution_count": null,
   "metadata": {},
   "outputs": [],
   "source": []
  },
  {
   "cell_type": "markdown",
   "metadata": {},
   "source": [
    "### Class 3, Slides 73 - 77"
   ]
  },
  {
   "cell_type": "markdown",
   "metadata": {},
   "source": [
    "Use gramSchmidt process to create orthonormal basis vectors\n",
    "QR decomposition - Q is orthonormal and R is an upper triangular, such that A=Q.R"
   ]
  },
  {
   "cell_type": "code",
   "execution_count": 34,
   "metadata": {},
   "outputs": [
    {
     "data": {
      "text/plain": [
       "array([[ 0, -4,  2],\n",
       "       [ 6, -3, -2],\n",
       "       [ 8,  1, -1]])"
      ]
     },
     "execution_count": 34,
     "metadata": {},
     "output_type": "execute_result"
    }
   ],
   "source": [
    "A = np.array([0,-4,2, 6,-3,-2, 8,1,-1]).reshape((3,3))  #default is by row, same as order='C'\n",
    "A\n"
   ]
  },
  {
   "cell_type": "code",
   "execution_count": 36,
   "metadata": {},
   "outputs": [
    {
     "data": {
      "text/plain": [
       "(array([[ 0.  , -0.8 , -0.6 ],\n",
       "        [-0.6 , -0.48,  0.64],\n",
       "        [-0.8 ,  0.36, -0.48]]), array([[-10.,   1.,   2.],\n",
       "        [  0.,   5.,  -1.],\n",
       "        [  0.,   0.,  -2.]]))"
      ]
     },
     "execution_count": 36,
     "metadata": {},
     "output_type": "execute_result"
    }
   ],
   "source": [
    "gs = np.linalg.qr(A)\n",
    "gs"
   ]
  },
  {
   "cell_type": "code",
   "execution_count": 37,
   "metadata": {},
   "outputs": [
    {
     "data": {
      "text/plain": [
       "array([[ 0.  , -0.8 , -0.6 ],\n",
       "       [-0.6 , -0.48,  0.64],\n",
       "       [-0.8 ,  0.36, -0.48]])"
      ]
     },
     "execution_count": 37,
     "metadata": {},
     "output_type": "execute_result"
    }
   ],
   "source": [
    "#Q = gs[0]\n",
    "gs[0]"
   ]
  },
  {
   "cell_type": "code",
   "execution_count": 38,
   "metadata": {},
   "outputs": [
    {
     "data": {
      "text/plain": [
       "array([[-10.,   1.,   2.],\n",
       "       [  0.,   5.,  -1.],\n",
       "       [  0.,   0.,  -2.]])"
      ]
     },
     "execution_count": 38,
     "metadata": {},
     "output_type": "execute_result"
    }
   ],
   "source": [
    "#R = gs[1]\n",
    "gs[1]"
   ]
  },
  {
   "cell_type": "code",
   "execution_count": 39,
   "metadata": {},
   "outputs": [
    {
     "data": {
      "text/plain": [
       "array([[ 0., -4.,  2.],\n",
       "       [ 6., -3., -2.],\n",
       "       [ 8.,  1., -1.]])"
      ]
     },
     "execution_count": 39,
     "metadata": {},
     "output_type": "execute_result"
    }
   ],
   "source": [
    "np.dot(gs[0],gs[1])"
   ]
  },
  {
   "cell_type": "markdown",
   "metadata": {},
   "source": [
    "Add two conforming matrices"
   ]
  },
  {
   "cell_type": "code",
   "execution_count": 40,
   "metadata": {},
   "outputs": [
    {
     "name": "stdout",
     "output_type": "stream",
     "text": [
      "[[ 3  8  3]\n",
      " [ 9  7  5]\n",
      " [ 9 10  5]]\n",
      "[[0 3 6]\n",
      " [1 4 7]\n",
      " [2 5 8]]\n"
     ]
    },
    {
     "data": {
      "text/plain": [
       "array([[ 3, 11,  9],\n",
       "       [10, 11, 12],\n",
       "       [11, 15, 13]])"
      ]
     },
     "execution_count": 40,
     "metadata": {},
     "output_type": "execute_result"
    }
   ],
   "source": [
    "print(mat1)\n",
    "print(mat2)\n",
    "mat1+mat2"
   ]
  },
  {
   "cell_type": "markdown",
   "metadata": {},
   "source": [
    "Subtract two conforming matrices"
   ]
  },
  {
   "cell_type": "code",
   "execution_count": 41,
   "metadata": {},
   "outputs": [
    {
     "data": {
      "text/plain": [
       "array([[ 3,  5, -3],\n",
       "       [ 8,  3, -2],\n",
       "       [ 7,  5, -3]])"
      ]
     },
     "execution_count": 41,
     "metadata": {},
     "output_type": "execute_result"
    }
   ],
   "source": [
    "mat1-mat2"
   ]
  },
  {
   "cell_type": "markdown",
   "metadata": {},
   "source": [
    "Find the trace of a matrix using tr function from psych package"
   ]
  },
  {
   "cell_type": "code",
   "execution_count": 42,
   "metadata": {},
   "outputs": [
    {
     "data": {
      "text/plain": [
       "array([[20.0969132 , 10.73736243, 11.73440791],\n",
       "       [23.1490413 , 19.66501843, 20.38173293],\n",
       "       [20.10345204, 18.43265283, 15.04952196]])"
      ]
     },
     "execution_count": 42,
     "metadata": {},
     "output_type": "execute_result"
    }
   ],
   "source": [
    "B = np.random.uniform(10,25, 9).reshape(3,-1)\n",
    "B"
   ]
  },
  {
   "cell_type": "code",
   "execution_count": 43,
   "metadata": {},
   "outputs": [
    {
     "data": {
      "text/plain": [
       "54.81145359222462"
      ]
     },
     "execution_count": 43,
     "metadata": {},
     "output_type": "execute_result"
    }
   ],
   "source": [
    "B.trace()"
   ]
  },
  {
   "cell_type": "markdown",
   "metadata": {},
   "source": [
    "Multiply two matrices: A*B, B*A, A.B, B.A"
   ]
  },
  {
   "cell_type": "code",
   "execution_count": 44,
   "metadata": {},
   "outputs": [
    {
     "data": {
      "text/plain": [
       "array([[  0.        , -42.94944973,  23.46881582],\n",
       "       [138.89424778, -58.9950553 , -40.76346586],\n",
       "       [160.82761628,  18.43265283, -15.04952196]])"
      ]
     },
     "execution_count": 44,
     "metadata": {},
     "output_type": "execute_result"
    }
   ],
   "source": [
    "A*B"
   ]
  },
  {
   "cell_type": "code",
   "execution_count": 45,
   "metadata": {},
   "outputs": [
    {
     "data": {
      "text/plain": [
       "array([[  0.        , -42.94944973,  23.46881582],\n",
       "       [138.89424778, -58.9950553 , -40.76346586],\n",
       "       [160.82761628,  18.43265283, -15.04952196]])"
      ]
     },
     "execution_count": 45,
     "metadata": {},
     "output_type": "execute_result"
    }
   ],
   "source": [
    "B*A"
   ]
  },
  {
   "cell_type": "code",
   "execution_count": 46,
   "metadata": {},
   "outputs": [
    {
     "data": {
      "text/plain": [
       "array([[-52.38926111, -41.79476807, -51.42788782],\n",
       "       [ 10.92745126, -31.43618637, -20.83779524],\n",
       "       [163.82089488,  87.13126507,  99.20747426]])"
      ]
     },
     "execution_count": 46,
     "metadata": {},
     "output_type": "execute_result"
    }
   ],
   "source": [
    "np.dot(A,B)"
   ]
  },
  {
   "cell_type": "code",
   "execution_count": 47,
   "metadata": {},
   "outputs": [
    {
     "data": {
      "text/plain": [
       "array([[ 158.29943789, -100.8653322 ,    6.98469363],\n",
       "       [ 281.04397406, -131.20948755,  -13.41368721],\n",
       "       [ 230.99209263, -120.66224468,  -11.70792355]])"
      ]
     },
     "execution_count": 47,
     "metadata": {},
     "output_type": "execute_result"
    }
   ],
   "source": [
    "np.dot(B,A)"
   ]
  },
  {
   "cell_type": "markdown",
   "metadata": {},
   "source": [
    "Transpose a matrix"
   ]
  },
  {
   "cell_type": "code",
   "execution_count": 48,
   "metadata": {},
   "outputs": [
    {
     "data": {
      "text/plain": [
       "array([[ 0, -4,  2],\n",
       "       [ 6, -3, -2],\n",
       "       [ 8,  1, -1]])"
      ]
     },
     "execution_count": 48,
     "metadata": {},
     "output_type": "execute_result"
    }
   ],
   "source": [
    "A"
   ]
  },
  {
   "cell_type": "code",
   "execution_count": 49,
   "metadata": {},
   "outputs": [
    {
     "data": {
      "text/plain": [
       "array([[ 0,  6,  8],\n",
       "       [-4, -3,  1],\n",
       "       [ 2, -2, -1]])"
      ]
     },
     "execution_count": 49,
     "metadata": {},
     "output_type": "execute_result"
    }
   ],
   "source": [
    "A.T"
   ]
  },
  {
   "cell_type": "markdown",
   "metadata": {},
   "source": [
    "Find the determinant of a matrix"
   ]
  },
  {
   "cell_type": "code",
   "execution_count": 50,
   "metadata": {},
   "outputs": [
    {
     "data": {
      "text/plain": [
       "99.99999999999996"
      ]
     },
     "execution_count": 50,
     "metadata": {},
     "output_type": "execute_result"
    }
   ],
   "source": [
    "np.linalg.det(A)"
   ]
  },
  {
   "cell_type": "code",
   "execution_count": 52,
   "metadata": {},
   "outputs": [
    {
     "data": {
      "text/plain": [
       "array([[11.05084767, 10.50061679, 24.96216568],\n",
       "       [13.556016  , 12.77590788, 22.20903926],\n",
       "       [12.42966594, 24.91598931, 20.98937582]])"
      ]
     },
     "execution_count": 52,
     "metadata": {},
     "output_type": "execute_result"
    }
   ],
   "source": [
    "B = np.random.uniform(10,25, 9).reshape(3,-1)\n",
    "B"
   ]
  },
  {
   "cell_type": "code",
   "execution_count": 53,
   "metadata": {},
   "outputs": [
    {
     "data": {
      "text/plain": [
       "1226.47928209518"
      ]
     },
     "execution_count": 53,
     "metadata": {},
     "output_type": "execute_result"
    }
   ],
   "source": [
    "np.linalg.det(B)"
   ]
  },
  {
   "cell_type": "markdown",
   "metadata": {},
   "source": [
    "Find the inverse of a matrix"
   ]
  },
  {
   "cell_type": "code",
   "execution_count": 54,
   "metadata": {},
   "outputs": [
    {
     "data": {
      "text/plain": [
       "array([[ 0, -4,  2],\n",
       "       [ 6, -3, -2],\n",
       "       [ 8,  1, -1]])"
      ]
     },
     "execution_count": 54,
     "metadata": {},
     "output_type": "execute_result"
    }
   ],
   "source": [
    "A"
   ]
  },
  {
   "cell_type": "code",
   "execution_count": 55,
   "metadata": {},
   "outputs": [],
   "source": [
    "A1 = np.linalg.inv(A)"
   ]
  },
  {
   "cell_type": "code",
   "execution_count": 56,
   "metadata": {},
   "outputs": [
    {
     "data": {
      "text/plain": [
       "array([[ 0.05, -0.02,  0.14],\n",
       "       [-0.1 , -0.16,  0.12],\n",
       "       [ 0.3 , -0.32,  0.24]])"
      ]
     },
     "execution_count": 56,
     "metadata": {},
     "output_type": "execute_result"
    }
   ],
   "source": [
    "A1"
   ]
  },
  {
   "cell_type": "code",
   "execution_count": 58,
   "metadata": {},
   "outputs": [
    {
     "data": {
      "text/plain": [
       "array([[1.00000000e+00, 0.00000000e+00, 0.00000000e+00],\n",
       "       [1.11022302e-16, 1.00000000e+00, 1.11022302e-16],\n",
       "       [5.55111512e-17, 0.00000000e+00, 1.00000000e+00]])"
      ]
     },
     "execution_count": 58,
     "metadata": {},
     "output_type": "execute_result"
    }
   ],
   "source": [
    "np.dot(A,A1)"
   ]
  },
  {
   "cell_type": "code",
   "execution_count": null,
   "metadata": {},
   "outputs": [],
   "source": []
  }
 ],
 "metadata": {
  "kernelspec": {
   "display_name": "Python 3",
   "language": "python",
   "name": "python3"
  },
  "language_info": {
   "codemirror_mode": {
    "name": "ipython",
    "version": 3
   },
   "file_extension": ".py",
   "mimetype": "text/x-python",
   "name": "python",
   "nbconvert_exporter": "python",
   "pygments_lexer": "ipython3",
   "version": "3.7.3"
  }
 },
 "nbformat": 4,
 "nbformat_minor": 2
}
